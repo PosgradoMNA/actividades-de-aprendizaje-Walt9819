{
  "cells": [
    {
      "cell_type": "markdown",
      "metadata": {
        "colab_type": "text",
        "id": "view-in-github"
      },
      "source": [
        "<a href=\"https://colab.research.google.com/github/PosgradoMNA/actividades-de-aprendizaje-Walt9819/blob/developing/Week6/Activity6.ipynb\" target=\"_parent\"><img src=\"https://colab.research.google.com/assets/colab-badge.svg\" alt=\"Open In Colab\"/></a>"
      ]
    },
    {
      "cell_type": "markdown",
      "metadata": {
        "id": "977dPV3U6zZq"
      },
      "source": [
        "## **Nombre de la entrega**: Actividad 1\n",
        "### **Nombre del alumno**: Walter André Hauri Rosales\n",
        "### **Matrícula del alumno**: A01794237\n",
        "### **Profesor titular**: María de la Paz Rico Fernández\n",
        "### **Profesor tutor**: Victoria Guerrero Orozco \n",
        "#### **Fecha**: 31 de octubre de 2022"
      ]
    },
    {
      "cell_type": "markdown",
      "metadata": {},
      "source": [
        "Import all required libraries and functions"
      ]
    },
    {
      "cell_type": "code",
      "execution_count": 32,
      "metadata": {},
      "outputs": [],
      "source": [
        "import pandas as pd\n",
        "pd.set_option('display.max_columns', None)\n",
        "\n",
        "import seaborn as sns\n",
        "import matplotlib.pyplot as plt\n",
        "\n",
        "from sklearn.preprocessing import StandardScaler\n",
        "from sklearn.decomposition import PCA"
      ]
    },
    {
      "cell_type": "markdown",
      "metadata": {},
      "source": [
        "#### Parte 1: Descarga los datos y carga el dataset en tu libreta."
      ]
    },
    {
      "cell_type": "markdown",
      "metadata": {},
      "source": [
        "La base de datos que se estará utuilizando es sobre la credibilidad de un cliente referente a diferentes características (edad, escolaridad, estado civil, sexo) y comportamientos (monto solicitado, historial de pagos anteriores, saldos y montos pagados) de personas en Taiwán.\n",
        "\n",
        "El artículo original se puede encontrar en la siguiente referencia [Yeh, I. C., & Lien, C. H. (2009)](https://www.sciencedirect.com/science/article/abs/pii/S0957417407006719)"
      ]
    },
    {
      "cell_type": "code",
      "execution_count": 2,
      "metadata": {},
      "outputs": [
        {
          "data": {
            "text/html": [
              "<div>\n",
              "<style scoped>\n",
              "    .dataframe tbody tr th:only-of-type {\n",
              "        vertical-align: middle;\n",
              "    }\n",
              "\n",
              "    .dataframe tbody tr th {\n",
              "        vertical-align: top;\n",
              "    }\n",
              "\n",
              "    .dataframe thead th {\n",
              "        text-align: right;\n",
              "    }\n",
              "</style>\n",
              "<table border=\"1\" class=\"dataframe\">\n",
              "  <thead>\n",
              "    <tr style=\"text-align: right;\">\n",
              "      <th></th>\n",
              "      <th>X1</th>\n",
              "      <th>X2</th>\n",
              "      <th>X3</th>\n",
              "      <th>X4</th>\n",
              "      <th>X5</th>\n",
              "      <th>X6</th>\n",
              "      <th>X7</th>\n",
              "      <th>X8</th>\n",
              "      <th>X9</th>\n",
              "      <th>X10</th>\n",
              "      <th>X11</th>\n",
              "      <th>X12</th>\n",
              "      <th>X13</th>\n",
              "      <th>X14</th>\n",
              "      <th>X15</th>\n",
              "      <th>X16</th>\n",
              "      <th>X17</th>\n",
              "      <th>X18</th>\n",
              "      <th>X19</th>\n",
              "      <th>X20</th>\n",
              "      <th>X21</th>\n",
              "      <th>X22</th>\n",
              "      <th>X23</th>\n",
              "      <th>Y</th>\n",
              "    </tr>\n",
              "    <tr>\n",
              "      <th>ID</th>\n",
              "      <th></th>\n",
              "      <th></th>\n",
              "      <th></th>\n",
              "      <th></th>\n",
              "      <th></th>\n",
              "      <th></th>\n",
              "      <th></th>\n",
              "      <th></th>\n",
              "      <th></th>\n",
              "      <th></th>\n",
              "      <th></th>\n",
              "      <th></th>\n",
              "      <th></th>\n",
              "      <th></th>\n",
              "      <th></th>\n",
              "      <th></th>\n",
              "      <th></th>\n",
              "      <th></th>\n",
              "      <th></th>\n",
              "      <th></th>\n",
              "      <th></th>\n",
              "      <th></th>\n",
              "      <th></th>\n",
              "      <th></th>\n",
              "    </tr>\n",
              "  </thead>\n",
              "  <tbody>\n",
              "    <tr>\n",
              "      <th>1</th>\n",
              "      <td>20000</td>\n",
              "      <td>2.0</td>\n",
              "      <td>2.0</td>\n",
              "      <td>1.0</td>\n",
              "      <td>24.0</td>\n",
              "      <td>2.0</td>\n",
              "      <td>2.0</td>\n",
              "      <td>-1.0</td>\n",
              "      <td>-1.0</td>\n",
              "      <td>-2.0</td>\n",
              "      <td>-2.0</td>\n",
              "      <td>3913.0</td>\n",
              "      <td>3102.0</td>\n",
              "      <td>689.0</td>\n",
              "      <td>0.0</td>\n",
              "      <td>0.0</td>\n",
              "      <td>0.0</td>\n",
              "      <td>0.0</td>\n",
              "      <td>689.0</td>\n",
              "      <td>0.0</td>\n",
              "      <td>0.0</td>\n",
              "      <td>0.0</td>\n",
              "      <td>0.0</td>\n",
              "      <td>1.0</td>\n",
              "    </tr>\n",
              "    <tr>\n",
              "      <th>2</th>\n",
              "      <td>120000</td>\n",
              "      <td>2.0</td>\n",
              "      <td>2.0</td>\n",
              "      <td>2.0</td>\n",
              "      <td>26.0</td>\n",
              "      <td>-1.0</td>\n",
              "      <td>2.0</td>\n",
              "      <td>0.0</td>\n",
              "      <td>0.0</td>\n",
              "      <td>0.0</td>\n",
              "      <td>2.0</td>\n",
              "      <td>2682.0</td>\n",
              "      <td>1725.0</td>\n",
              "      <td>2682.0</td>\n",
              "      <td>3272.0</td>\n",
              "      <td>3455.0</td>\n",
              "      <td>3261.0</td>\n",
              "      <td>0.0</td>\n",
              "      <td>1000.0</td>\n",
              "      <td>1000.0</td>\n",
              "      <td>1000.0</td>\n",
              "      <td>0.0</td>\n",
              "      <td>2000.0</td>\n",
              "      <td>1.0</td>\n",
              "    </tr>\n",
              "    <tr>\n",
              "      <th>3</th>\n",
              "      <td>90000</td>\n",
              "      <td>2.0</td>\n",
              "      <td>2.0</td>\n",
              "      <td>2.0</td>\n",
              "      <td>34.0</td>\n",
              "      <td>0.0</td>\n",
              "      <td>0.0</td>\n",
              "      <td>0.0</td>\n",
              "      <td>0.0</td>\n",
              "      <td>0.0</td>\n",
              "      <td>0.0</td>\n",
              "      <td>29239.0</td>\n",
              "      <td>14027.0</td>\n",
              "      <td>13559.0</td>\n",
              "      <td>14331.0</td>\n",
              "      <td>14948.0</td>\n",
              "      <td>15549.0</td>\n",
              "      <td>1518.0</td>\n",
              "      <td>1500.0</td>\n",
              "      <td>1000.0</td>\n",
              "      <td>1000.0</td>\n",
              "      <td>1000.0</td>\n",
              "      <td>5000.0</td>\n",
              "      <td>0.0</td>\n",
              "    </tr>\n",
              "    <tr>\n",
              "      <th>4</th>\n",
              "      <td>50000</td>\n",
              "      <td>2.0</td>\n",
              "      <td>2.0</td>\n",
              "      <td>1.0</td>\n",
              "      <td>37.0</td>\n",
              "      <td>0.0</td>\n",
              "      <td>0.0</td>\n",
              "      <td>0.0</td>\n",
              "      <td>0.0</td>\n",
              "      <td>0.0</td>\n",
              "      <td>0.0</td>\n",
              "      <td>46990.0</td>\n",
              "      <td>48233.0</td>\n",
              "      <td>49291.0</td>\n",
              "      <td>28314.0</td>\n",
              "      <td>28959.0</td>\n",
              "      <td>29547.0</td>\n",
              "      <td>2000.0</td>\n",
              "      <td>2019.0</td>\n",
              "      <td>1200.0</td>\n",
              "      <td>1100.0</td>\n",
              "      <td>1069.0</td>\n",
              "      <td>1000.0</td>\n",
              "      <td>0.0</td>\n",
              "    </tr>\n",
              "    <tr>\n",
              "      <th>5</th>\n",
              "      <td>50000</td>\n",
              "      <td>1.0</td>\n",
              "      <td>2.0</td>\n",
              "      <td>1.0</td>\n",
              "      <td>57.0</td>\n",
              "      <td>-1.0</td>\n",
              "      <td>0.0</td>\n",
              "      <td>-1.0</td>\n",
              "      <td>0.0</td>\n",
              "      <td>0.0</td>\n",
              "      <td>0.0</td>\n",
              "      <td>8617.0</td>\n",
              "      <td>5670.0</td>\n",
              "      <td>35835.0</td>\n",
              "      <td>20940.0</td>\n",
              "      <td>19146.0</td>\n",
              "      <td>19131.0</td>\n",
              "      <td>2000.0</td>\n",
              "      <td>36681.0</td>\n",
              "      <td>10000.0</td>\n",
              "      <td>9000.0</td>\n",
              "      <td>689.0</td>\n",
              "      <td>679.0</td>\n",
              "      <td>0.0</td>\n",
              "    </tr>\n",
              "    <tr>\n",
              "      <th>...</th>\n",
              "      <td>...</td>\n",
              "      <td>...</td>\n",
              "      <td>...</td>\n",
              "      <td>...</td>\n",
              "      <td>...</td>\n",
              "      <td>...</td>\n",
              "      <td>...</td>\n",
              "      <td>...</td>\n",
              "      <td>...</td>\n",
              "      <td>...</td>\n",
              "      <td>...</td>\n",
              "      <td>...</td>\n",
              "      <td>...</td>\n",
              "      <td>...</td>\n",
              "      <td>...</td>\n",
              "      <td>...</td>\n",
              "      <td>...</td>\n",
              "      <td>...</td>\n",
              "      <td>...</td>\n",
              "      <td>...</td>\n",
              "      <td>...</td>\n",
              "      <td>...</td>\n",
              "      <td>...</td>\n",
              "      <td>...</td>\n",
              "    </tr>\n",
              "    <tr>\n",
              "      <th>29996</th>\n",
              "      <td>220000</td>\n",
              "      <td>1.0</td>\n",
              "      <td>3.0</td>\n",
              "      <td>1.0</td>\n",
              "      <td>39.0</td>\n",
              "      <td>0.0</td>\n",
              "      <td>0.0</td>\n",
              "      <td>0.0</td>\n",
              "      <td>0.0</td>\n",
              "      <td>0.0</td>\n",
              "      <td>0.0</td>\n",
              "      <td>188948.0</td>\n",
              "      <td>192815.0</td>\n",
              "      <td>208365.0</td>\n",
              "      <td>88004.0</td>\n",
              "      <td>31237.0</td>\n",
              "      <td>15980.0</td>\n",
              "      <td>8500.0</td>\n",
              "      <td>20000.0</td>\n",
              "      <td>5003.0</td>\n",
              "      <td>3047.0</td>\n",
              "      <td>5000.0</td>\n",
              "      <td>1000.0</td>\n",
              "      <td>0.0</td>\n",
              "    </tr>\n",
              "    <tr>\n",
              "      <th>29997</th>\n",
              "      <td>150000</td>\n",
              "      <td>1.0</td>\n",
              "      <td>3.0</td>\n",
              "      <td>2.0</td>\n",
              "      <td>43.0</td>\n",
              "      <td>-1.0</td>\n",
              "      <td>-1.0</td>\n",
              "      <td>-1.0</td>\n",
              "      <td>-1.0</td>\n",
              "      <td>0.0</td>\n",
              "      <td>0.0</td>\n",
              "      <td>1683.0</td>\n",
              "      <td>1828.0</td>\n",
              "      <td>3502.0</td>\n",
              "      <td>8979.0</td>\n",
              "      <td>5190.0</td>\n",
              "      <td>0.0</td>\n",
              "      <td>1837.0</td>\n",
              "      <td>3526.0</td>\n",
              "      <td>8998.0</td>\n",
              "      <td>129.0</td>\n",
              "      <td>0.0</td>\n",
              "      <td>0.0</td>\n",
              "      <td>0.0</td>\n",
              "    </tr>\n",
              "    <tr>\n",
              "      <th>29998</th>\n",
              "      <td>30000</td>\n",
              "      <td>1.0</td>\n",
              "      <td>2.0</td>\n",
              "      <td>2.0</td>\n",
              "      <td>37.0</td>\n",
              "      <td>4.0</td>\n",
              "      <td>3.0</td>\n",
              "      <td>2.0</td>\n",
              "      <td>-1.0</td>\n",
              "      <td>0.0</td>\n",
              "      <td>0.0</td>\n",
              "      <td>3565.0</td>\n",
              "      <td>3356.0</td>\n",
              "      <td>2758.0</td>\n",
              "      <td>20878.0</td>\n",
              "      <td>20582.0</td>\n",
              "      <td>19357.0</td>\n",
              "      <td>0.0</td>\n",
              "      <td>0.0</td>\n",
              "      <td>22000.0</td>\n",
              "      <td>4200.0</td>\n",
              "      <td>2000.0</td>\n",
              "      <td>3100.0</td>\n",
              "      <td>1.0</td>\n",
              "    </tr>\n",
              "    <tr>\n",
              "      <th>29999</th>\n",
              "      <td>80000</td>\n",
              "      <td>1.0</td>\n",
              "      <td>3.0</td>\n",
              "      <td>1.0</td>\n",
              "      <td>41.0</td>\n",
              "      <td>1.0</td>\n",
              "      <td>-1.0</td>\n",
              "      <td>0.0</td>\n",
              "      <td>0.0</td>\n",
              "      <td>0.0</td>\n",
              "      <td>-1.0</td>\n",
              "      <td>-1645.0</td>\n",
              "      <td>78379.0</td>\n",
              "      <td>76304.0</td>\n",
              "      <td>52774.0</td>\n",
              "      <td>11855.0</td>\n",
              "      <td>48944.0</td>\n",
              "      <td>85900.0</td>\n",
              "      <td>3409.0</td>\n",
              "      <td>1178.0</td>\n",
              "      <td>1926.0</td>\n",
              "      <td>52964.0</td>\n",
              "      <td>1804.0</td>\n",
              "      <td>1.0</td>\n",
              "    </tr>\n",
              "    <tr>\n",
              "      <th>30000</th>\n",
              "      <td>50000</td>\n",
              "      <td>1.0</td>\n",
              "      <td>2.0</td>\n",
              "      <td>1.0</td>\n",
              "      <td>46.0</td>\n",
              "      <td>0.0</td>\n",
              "      <td>0.0</td>\n",
              "      <td>0.0</td>\n",
              "      <td>0.0</td>\n",
              "      <td>0.0</td>\n",
              "      <td>0.0</td>\n",
              "      <td>47929.0</td>\n",
              "      <td>48905.0</td>\n",
              "      <td>49764.0</td>\n",
              "      <td>36535.0</td>\n",
              "      <td>32428.0</td>\n",
              "      <td>15313.0</td>\n",
              "      <td>2078.0</td>\n",
              "      <td>1800.0</td>\n",
              "      <td>1430.0</td>\n",
              "      <td>1000.0</td>\n",
              "      <td>1000.0</td>\n",
              "      <td>1000.0</td>\n",
              "      <td>1.0</td>\n",
              "    </tr>\n",
              "  </tbody>\n",
              "</table>\n",
              "<p>30000 rows × 24 columns</p>\n",
              "</div>"
            ],
            "text/plain": [
              "           X1   X2   X3   X4    X5   X6   X7   X8   X9  X10  X11       X12  \\\n",
              "ID                                                                           \n",
              "1       20000  2.0  2.0  1.0  24.0  2.0  2.0 -1.0 -1.0 -2.0 -2.0    3913.0   \n",
              "2      120000  2.0  2.0  2.0  26.0 -1.0  2.0  0.0  0.0  0.0  2.0    2682.0   \n",
              "3       90000  2.0  2.0  2.0  34.0  0.0  0.0  0.0  0.0  0.0  0.0   29239.0   \n",
              "4       50000  2.0  2.0  1.0  37.0  0.0  0.0  0.0  0.0  0.0  0.0   46990.0   \n",
              "5       50000  1.0  2.0  1.0  57.0 -1.0  0.0 -1.0  0.0  0.0  0.0    8617.0   \n",
              "...       ...  ...  ...  ...   ...  ...  ...  ...  ...  ...  ...       ...   \n",
              "29996  220000  1.0  3.0  1.0  39.0  0.0  0.0  0.0  0.0  0.0  0.0  188948.0   \n",
              "29997  150000  1.0  3.0  2.0  43.0 -1.0 -1.0 -1.0 -1.0  0.0  0.0    1683.0   \n",
              "29998   30000  1.0  2.0  2.0  37.0  4.0  3.0  2.0 -1.0  0.0  0.0    3565.0   \n",
              "29999   80000  1.0  3.0  1.0  41.0  1.0 -1.0  0.0  0.0  0.0 -1.0   -1645.0   \n",
              "30000   50000  1.0  2.0  1.0  46.0  0.0  0.0  0.0  0.0  0.0  0.0   47929.0   \n",
              "\n",
              "            X13       X14      X15      X16      X17      X18      X19  \\\n",
              "ID                                                                       \n",
              "1        3102.0     689.0      0.0      0.0      0.0      0.0    689.0   \n",
              "2        1725.0    2682.0   3272.0   3455.0   3261.0      0.0   1000.0   \n",
              "3       14027.0   13559.0  14331.0  14948.0  15549.0   1518.0   1500.0   \n",
              "4       48233.0   49291.0  28314.0  28959.0  29547.0   2000.0   2019.0   \n",
              "5        5670.0   35835.0  20940.0  19146.0  19131.0   2000.0  36681.0   \n",
              "...         ...       ...      ...      ...      ...      ...      ...   \n",
              "29996  192815.0  208365.0  88004.0  31237.0  15980.0   8500.0  20000.0   \n",
              "29997    1828.0    3502.0   8979.0   5190.0      0.0   1837.0   3526.0   \n",
              "29998    3356.0    2758.0  20878.0  20582.0  19357.0      0.0      0.0   \n",
              "29999   78379.0   76304.0  52774.0  11855.0  48944.0  85900.0   3409.0   \n",
              "30000   48905.0   49764.0  36535.0  32428.0  15313.0   2078.0   1800.0   \n",
              "\n",
              "           X20     X21      X22     X23    Y  \n",
              "ID                                            \n",
              "1          0.0     0.0      0.0     0.0  1.0  \n",
              "2       1000.0  1000.0      0.0  2000.0  1.0  \n",
              "3       1000.0  1000.0   1000.0  5000.0  0.0  \n",
              "4       1200.0  1100.0   1069.0  1000.0  0.0  \n",
              "5      10000.0  9000.0    689.0   679.0  0.0  \n",
              "...        ...     ...      ...     ...  ...  \n",
              "29996   5003.0  3047.0   5000.0  1000.0  0.0  \n",
              "29997   8998.0   129.0      0.0     0.0  0.0  \n",
              "29998  22000.0  4200.0   2000.0  3100.0  1.0  \n",
              "29999   1178.0  1926.0  52964.0  1804.0  1.0  \n",
              "30000   1430.0  1000.0   1000.0  1000.0  1.0  \n",
              "\n",
              "[30000 rows x 24 columns]"
            ]
          },
          "execution_count": 2,
          "metadata": {},
          "output_type": "execute_result"
        }
      ],
      "source": [
        "df = pd.read_csv(\"https://raw.githubusercontent.com/PosgradoMNA/Actividades_Aprendizaje-/main/default%20of%20credit%20card%20clients.csv\", index_col=0)\n",
        "df"
      ]
    },
    {
      "cell_type": "markdown",
      "metadata": {},
      "source": [
        "#### Parte 2: Obten la información del DataFrame con los métodos y propiedades: shape, columns, head(), dtypes, info(), isna()"
      ]
    },
    {
      "cell_type": "code",
      "execution_count": 3,
      "metadata": {},
      "outputs": [
        {
          "data": {
            "text/plain": [
              "(30000, 24)"
            ]
          },
          "execution_count": 3,
          "metadata": {},
          "output_type": "execute_result"
        }
      ],
      "source": [
        "df.shape"
      ]
    },
    {
      "cell_type": "code",
      "execution_count": 4,
      "metadata": {},
      "outputs": [
        {
          "data": {
            "text/plain": [
              "Index(['X1', 'X2', 'X3', 'X4', 'X5', 'X6', 'X7', 'X8', 'X9', 'X10', 'X11',\n",
              "       'X12', 'X13', 'X14', 'X15', 'X16', 'X17', 'X18', 'X19', 'X20', 'X21',\n",
              "       'X22', 'X23', 'Y'],\n",
              "      dtype='object')"
            ]
          },
          "execution_count": 4,
          "metadata": {},
          "output_type": "execute_result"
        }
      ],
      "source": [
        "df.columns"
      ]
    },
    {
      "cell_type": "code",
      "execution_count": 5,
      "metadata": {},
      "outputs": [
        {
          "data": {
            "text/html": [
              "<div>\n",
              "<style scoped>\n",
              "    .dataframe tbody tr th:only-of-type {\n",
              "        vertical-align: middle;\n",
              "    }\n",
              "\n",
              "    .dataframe tbody tr th {\n",
              "        vertical-align: top;\n",
              "    }\n",
              "\n",
              "    .dataframe thead th {\n",
              "        text-align: right;\n",
              "    }\n",
              "</style>\n",
              "<table border=\"1\" class=\"dataframe\">\n",
              "  <thead>\n",
              "    <tr style=\"text-align: right;\">\n",
              "      <th></th>\n",
              "      <th>X1</th>\n",
              "      <th>X2</th>\n",
              "      <th>X3</th>\n",
              "      <th>X4</th>\n",
              "      <th>X5</th>\n",
              "      <th>X6</th>\n",
              "      <th>X7</th>\n",
              "      <th>X8</th>\n",
              "      <th>X9</th>\n",
              "      <th>X10</th>\n",
              "      <th>X11</th>\n",
              "      <th>X12</th>\n",
              "      <th>X13</th>\n",
              "      <th>X14</th>\n",
              "      <th>X15</th>\n",
              "      <th>X16</th>\n",
              "      <th>X17</th>\n",
              "      <th>X18</th>\n",
              "      <th>X19</th>\n",
              "      <th>X20</th>\n",
              "      <th>X21</th>\n",
              "      <th>X22</th>\n",
              "      <th>X23</th>\n",
              "      <th>Y</th>\n",
              "    </tr>\n",
              "    <tr>\n",
              "      <th>ID</th>\n",
              "      <th></th>\n",
              "      <th></th>\n",
              "      <th></th>\n",
              "      <th></th>\n",
              "      <th></th>\n",
              "      <th></th>\n",
              "      <th></th>\n",
              "      <th></th>\n",
              "      <th></th>\n",
              "      <th></th>\n",
              "      <th></th>\n",
              "      <th></th>\n",
              "      <th></th>\n",
              "      <th></th>\n",
              "      <th></th>\n",
              "      <th></th>\n",
              "      <th></th>\n",
              "      <th></th>\n",
              "      <th></th>\n",
              "      <th></th>\n",
              "      <th></th>\n",
              "      <th></th>\n",
              "      <th></th>\n",
              "      <th></th>\n",
              "    </tr>\n",
              "  </thead>\n",
              "  <tbody>\n",
              "    <tr>\n",
              "      <th>1</th>\n",
              "      <td>20000</td>\n",
              "      <td>2.0</td>\n",
              "      <td>2.0</td>\n",
              "      <td>1.0</td>\n",
              "      <td>24.0</td>\n",
              "      <td>2.0</td>\n",
              "      <td>2.0</td>\n",
              "      <td>-1.0</td>\n",
              "      <td>-1.0</td>\n",
              "      <td>-2.0</td>\n",
              "      <td>-2.0</td>\n",
              "      <td>3913.0</td>\n",
              "      <td>3102.0</td>\n",
              "      <td>689.0</td>\n",
              "      <td>0.0</td>\n",
              "      <td>0.0</td>\n",
              "      <td>0.0</td>\n",
              "      <td>0.0</td>\n",
              "      <td>689.0</td>\n",
              "      <td>0.0</td>\n",
              "      <td>0.0</td>\n",
              "      <td>0.0</td>\n",
              "      <td>0.0</td>\n",
              "      <td>1.0</td>\n",
              "    </tr>\n",
              "    <tr>\n",
              "      <th>2</th>\n",
              "      <td>120000</td>\n",
              "      <td>2.0</td>\n",
              "      <td>2.0</td>\n",
              "      <td>2.0</td>\n",
              "      <td>26.0</td>\n",
              "      <td>-1.0</td>\n",
              "      <td>2.0</td>\n",
              "      <td>0.0</td>\n",
              "      <td>0.0</td>\n",
              "      <td>0.0</td>\n",
              "      <td>2.0</td>\n",
              "      <td>2682.0</td>\n",
              "      <td>1725.0</td>\n",
              "      <td>2682.0</td>\n",
              "      <td>3272.0</td>\n",
              "      <td>3455.0</td>\n",
              "      <td>3261.0</td>\n",
              "      <td>0.0</td>\n",
              "      <td>1000.0</td>\n",
              "      <td>1000.0</td>\n",
              "      <td>1000.0</td>\n",
              "      <td>0.0</td>\n",
              "      <td>2000.0</td>\n",
              "      <td>1.0</td>\n",
              "    </tr>\n",
              "    <tr>\n",
              "      <th>3</th>\n",
              "      <td>90000</td>\n",
              "      <td>2.0</td>\n",
              "      <td>2.0</td>\n",
              "      <td>2.0</td>\n",
              "      <td>34.0</td>\n",
              "      <td>0.0</td>\n",
              "      <td>0.0</td>\n",
              "      <td>0.0</td>\n",
              "      <td>0.0</td>\n",
              "      <td>0.0</td>\n",
              "      <td>0.0</td>\n",
              "      <td>29239.0</td>\n",
              "      <td>14027.0</td>\n",
              "      <td>13559.0</td>\n",
              "      <td>14331.0</td>\n",
              "      <td>14948.0</td>\n",
              "      <td>15549.0</td>\n",
              "      <td>1518.0</td>\n",
              "      <td>1500.0</td>\n",
              "      <td>1000.0</td>\n",
              "      <td>1000.0</td>\n",
              "      <td>1000.0</td>\n",
              "      <td>5000.0</td>\n",
              "      <td>0.0</td>\n",
              "    </tr>\n",
              "    <tr>\n",
              "      <th>4</th>\n",
              "      <td>50000</td>\n",
              "      <td>2.0</td>\n",
              "      <td>2.0</td>\n",
              "      <td>1.0</td>\n",
              "      <td>37.0</td>\n",
              "      <td>0.0</td>\n",
              "      <td>0.0</td>\n",
              "      <td>0.0</td>\n",
              "      <td>0.0</td>\n",
              "      <td>0.0</td>\n",
              "      <td>0.0</td>\n",
              "      <td>46990.0</td>\n",
              "      <td>48233.0</td>\n",
              "      <td>49291.0</td>\n",
              "      <td>28314.0</td>\n",
              "      <td>28959.0</td>\n",
              "      <td>29547.0</td>\n",
              "      <td>2000.0</td>\n",
              "      <td>2019.0</td>\n",
              "      <td>1200.0</td>\n",
              "      <td>1100.0</td>\n",
              "      <td>1069.0</td>\n",
              "      <td>1000.0</td>\n",
              "      <td>0.0</td>\n",
              "    </tr>\n",
              "    <tr>\n",
              "      <th>5</th>\n",
              "      <td>50000</td>\n",
              "      <td>1.0</td>\n",
              "      <td>2.0</td>\n",
              "      <td>1.0</td>\n",
              "      <td>57.0</td>\n",
              "      <td>-1.0</td>\n",
              "      <td>0.0</td>\n",
              "      <td>-1.0</td>\n",
              "      <td>0.0</td>\n",
              "      <td>0.0</td>\n",
              "      <td>0.0</td>\n",
              "      <td>8617.0</td>\n",
              "      <td>5670.0</td>\n",
              "      <td>35835.0</td>\n",
              "      <td>20940.0</td>\n",
              "      <td>19146.0</td>\n",
              "      <td>19131.0</td>\n",
              "      <td>2000.0</td>\n",
              "      <td>36681.0</td>\n",
              "      <td>10000.0</td>\n",
              "      <td>9000.0</td>\n",
              "      <td>689.0</td>\n",
              "      <td>679.0</td>\n",
              "      <td>0.0</td>\n",
              "    </tr>\n",
              "  </tbody>\n",
              "</table>\n",
              "</div>"
            ],
            "text/plain": [
              "        X1   X2   X3   X4    X5   X6   X7   X8   X9  X10  X11      X12  \\\n",
              "ID                                                                       \n",
              "1    20000  2.0  2.0  1.0  24.0  2.0  2.0 -1.0 -1.0 -2.0 -2.0   3913.0   \n",
              "2   120000  2.0  2.0  2.0  26.0 -1.0  2.0  0.0  0.0  0.0  2.0   2682.0   \n",
              "3    90000  2.0  2.0  2.0  34.0  0.0  0.0  0.0  0.0  0.0  0.0  29239.0   \n",
              "4    50000  2.0  2.0  1.0  37.0  0.0  0.0  0.0  0.0  0.0  0.0  46990.0   \n",
              "5    50000  1.0  2.0  1.0  57.0 -1.0  0.0 -1.0  0.0  0.0  0.0   8617.0   \n",
              "\n",
              "        X13      X14      X15      X16      X17     X18      X19      X20  \\\n",
              "ID                                                                          \n",
              "1    3102.0    689.0      0.0      0.0      0.0     0.0    689.0      0.0   \n",
              "2    1725.0   2682.0   3272.0   3455.0   3261.0     0.0   1000.0   1000.0   \n",
              "3   14027.0  13559.0  14331.0  14948.0  15549.0  1518.0   1500.0   1000.0   \n",
              "4   48233.0  49291.0  28314.0  28959.0  29547.0  2000.0   2019.0   1200.0   \n",
              "5    5670.0  35835.0  20940.0  19146.0  19131.0  2000.0  36681.0  10000.0   \n",
              "\n",
              "       X21     X22     X23    Y  \n",
              "ID                               \n",
              "1      0.0     0.0     0.0  1.0  \n",
              "2   1000.0     0.0  2000.0  1.0  \n",
              "3   1000.0  1000.0  5000.0  0.0  \n",
              "4   1100.0  1069.0  1000.0  0.0  \n",
              "5   9000.0   689.0   679.0  0.0  "
            ]
          },
          "execution_count": 5,
          "metadata": {},
          "output_type": "execute_result"
        }
      ],
      "source": [
        "df.head()"
      ]
    },
    {
      "cell_type": "code",
      "execution_count": 6,
      "metadata": {},
      "outputs": [
        {
          "data": {
            "text/plain": [
              "X1       int64\n",
              "X2     float64\n",
              "X3     float64\n",
              "X4     float64\n",
              "X5     float64\n",
              "X6     float64\n",
              "X7     float64\n",
              "X8     float64\n",
              "X9     float64\n",
              "X10    float64\n",
              "X11    float64\n",
              "X12    float64\n",
              "X13    float64\n",
              "X14    float64\n",
              "X15    float64\n",
              "X16    float64\n",
              "X17    float64\n",
              "X18    float64\n",
              "X19    float64\n",
              "X20    float64\n",
              "X21    float64\n",
              "X22    float64\n",
              "X23    float64\n",
              "Y      float64\n",
              "dtype: object"
            ]
          },
          "execution_count": 6,
          "metadata": {},
          "output_type": "execute_result"
        }
      ],
      "source": [
        "df.dtypes"
      ]
    },
    {
      "cell_type": "code",
      "execution_count": 7,
      "metadata": {},
      "outputs": [
        {
          "name": "stdout",
          "output_type": "stream",
          "text": [
            "<class 'pandas.core.frame.DataFrame'>\n",
            "Int64Index: 30000 entries, 1 to 30000\n",
            "Data columns (total 24 columns):\n",
            " #   Column  Non-Null Count  Dtype  \n",
            "---  ------  --------------  -----  \n",
            " 0   X1      30000 non-null  int64  \n",
            " 1   X2      29999 non-null  float64\n",
            " 2   X3      29998 non-null  float64\n",
            " 3   X4      29998 non-null  float64\n",
            " 4   X5      29995 non-null  float64\n",
            " 5   X6      29997 non-null  float64\n",
            " 6   X7      29995 non-null  float64\n",
            " 7   X8      29993 non-null  float64\n",
            " 8   X9      29991 non-null  float64\n",
            " 9   X10     29984 non-null  float64\n",
            " 10  X11     29986 non-null  float64\n",
            " 11  X12     29989 non-null  float64\n",
            " 12  X13     29989 non-null  float64\n",
            " 13  X14     29987 non-null  float64\n",
            " 14  X15     29985 non-null  float64\n",
            " 15  X16     29983 non-null  float64\n",
            " 16  X17     29990 non-null  float64\n",
            " 17  X18     29992 non-null  float64\n",
            " 18  X19     29991 non-null  float64\n",
            " 19  X20     29992 non-null  float64\n",
            " 20  X21     29989 non-null  float64\n",
            " 21  X22     29989 non-null  float64\n",
            " 22  X23     29995 non-null  float64\n",
            " 23  Y       29997 non-null  float64\n",
            "dtypes: float64(23), int64(1)\n",
            "memory usage: 5.7 MB\n"
          ]
        }
      ],
      "source": [
        "df.info()"
      ]
    },
    {
      "cell_type": "code",
      "execution_count": 8,
      "metadata": {},
      "outputs": [
        {
          "data": {
            "text/plain": [
              "X1     X2     X3     X4     X5     X6     X7     X8     X9     X10    X11    X12    X13    X14    X15    X16    X17    X18    X19    X20    X21    X22    X23    Y    \n",
              "False  False  False  False  False  False  False  False  False  False  False  False  False  False  False  False  False  False  False  False  False  False  False  False    29958\n",
              "                                                               True   True   False  False  False  False  False  False  False  False  False  False  False  False  False        6\n",
              "                            True   False  False  False  False  False  False  False  False  False  False  False  False  False  False  False  False  False  False  False        3\n",
              "                            False  False  False  False  False  False  False  False  False  False  True   True   False  False  False  False  False  False  False  False        3\n",
              "                                                        True   False  False  False  False  False  False  False  False  False  False  False  False  False  False  False        3\n",
              "                                                        False  True   True   True   True   True   True   True   True   True   True   True   True   True   False  False        3\n",
              "                                                                      False  False  False  False  False  False  False  False  False  False  False  False  False  False        2\n",
              "                                          True   True   True   True   True   True   True   True   True   True   False  False  False  False  False  False  False  False        2\n",
              "                                          False  True   False  False  False  False  False  False  False  False  False  False  False  False  False  False  False  False        2\n",
              "                                                 False  False  False  False  False  False  False  False  True   False  False  False  False  False  False  False  False        2\n",
              "                                                                             True   True   True   True   True   True   True   True   True   True   True   True   True         2\n",
              "              True   True   True   True   True   True   True   True   True   True   True   True   True   True   False  False  False  False  False  False  False  False        1\n",
              "              False  False  False  True   True   True   True   True   True   True   True   True   True   True   True   True   True   True   True   True   False  False        1\n",
              "                                   False  False  False  True   False  False  False  False  False  False  False  False  False  False  False  True   False  False  False        1\n",
              "                                                        False  False  False  True   True   True   True   True   True   False  False  False  False  False  False  False        1\n",
              "                                                                             False  False  False  False  False  False  False  False  False  False  False  True   False        1\n",
              "                                                                                           True   True   True   True   True   True   True   True   True   True   True         1\n",
              "                                                                                                  False  False  False  False  False  False  False  False  False  False        1\n",
              "                                                                                           False  False  False  True   False  False  False  False  False  False  False        1\n",
              "                                                                                                                False  False  True   False  False  False  False  False        1\n",
              "                                                                                                                              False  False  True   True   False  False        1\n",
              "                                                                                                                                                   False  False  False        1\n",
              "                                                                                                                                            False  True   True   False        1\n",
              "                                                                                                                                                          False  False        1\n",
              "       True   True   True   True   True   True   True   True   True   True   True   True   True   True   True   True   True   True   True   True   True   False  False        1\n",
              "dtype: int64"
            ]
          },
          "execution_count": 8,
          "metadata": {},
          "output_type": "execute_result"
        }
      ],
      "source": [
        "df.isna().value_counts() # Check the most common missing information in columns"
      ]
    },
    {
      "cell_type": "markdown",
      "metadata": {},
      "source": [
        "#### Parte 3: Limpia los datos eliminando los registros nulos o rellena con la media de la columna"
      ]
    },
    {
      "cell_type": "code",
      "execution_count": 9,
      "metadata": {},
      "outputs": [],
      "source": [
        "# Check column X2\n",
        "missing = df[df['X2'].isna()] # row with missing data\n",
        "missing # Has none information, delete row\n",
        "\n",
        "df_cleaned = df.copy() # dataframe where the cleaned data will be placed\n",
        "df_cleaned = df_cleaned.drop(missing.index)"
      ]
    },
    {
      "cell_type": "code",
      "execution_count": 10,
      "metadata": {},
      "outputs": [],
      "source": [
        "# Imputate mean to other variables\n",
        "for i in range(3, 24):\n",
        "  df_cleaned[f\"X{i}\"].fillna(df_cleaned[f\"X{i}\"].mean(), inplace=True)"
      ]
    },
    {
      "cell_type": "code",
      "execution_count": 23,
      "metadata": {},
      "outputs": [],
      "source": [
        "y = df_cleaned[\"Y\"] # Get Y variable\n",
        "X = df_cleaned.drop([\"Y\"], axis=1) # remove Y variable from X"
      ]
    },
    {
      "cell_type": "markdown",
      "metadata": {},
      "source": [
        "#### Parte 4: Calcula la estadística descriptiva con describe() y explica las medidas de tendencia central y dispersión"
      ]
    },
    {
      "cell_type": "code",
      "execution_count": 24,
      "metadata": {},
      "outputs": [
        {
          "data": {
            "text/html": [
              "<div>\n",
              "<style scoped>\n",
              "    .dataframe tbody tr th:only-of-type {\n",
              "        vertical-align: middle;\n",
              "    }\n",
              "\n",
              "    .dataframe tbody tr th {\n",
              "        vertical-align: top;\n",
              "    }\n",
              "\n",
              "    .dataframe thead th {\n",
              "        text-align: right;\n",
              "    }\n",
              "</style>\n",
              "<table border=\"1\" class=\"dataframe\">\n",
              "  <thead>\n",
              "    <tr style=\"text-align: right;\">\n",
              "      <th></th>\n",
              "      <th>X1</th>\n",
              "      <th>X2</th>\n",
              "      <th>X3</th>\n",
              "      <th>X4</th>\n",
              "      <th>X5</th>\n",
              "      <th>X6</th>\n",
              "      <th>X7</th>\n",
              "      <th>X8</th>\n",
              "      <th>X9</th>\n",
              "      <th>X10</th>\n",
              "      <th>X11</th>\n",
              "      <th>X12</th>\n",
              "      <th>X13</th>\n",
              "      <th>X14</th>\n",
              "      <th>X15</th>\n",
              "      <th>X16</th>\n",
              "      <th>X17</th>\n",
              "      <th>X18</th>\n",
              "      <th>X19</th>\n",
              "      <th>X20</th>\n",
              "      <th>X21</th>\n",
              "      <th>X22</th>\n",
              "      <th>X23</th>\n",
              "    </tr>\n",
              "  </thead>\n",
              "  <tbody>\n",
              "    <tr>\n",
              "      <th>count</th>\n",
              "      <td>29999.000000</td>\n",
              "      <td>29999.000000</td>\n",
              "      <td>29999.000000</td>\n",
              "      <td>29999.000000</td>\n",
              "      <td>29999.000000</td>\n",
              "      <td>29999.000000</td>\n",
              "      <td>29999.000000</td>\n",
              "      <td>29999.000000</td>\n",
              "      <td>29999.000000</td>\n",
              "      <td>29999.000000</td>\n",
              "      <td>29999.000000</td>\n",
              "      <td>29999.000000</td>\n",
              "      <td>29999.000000</td>\n",
              "      <td>2.999900e+04</td>\n",
              "      <td>29999.000000</td>\n",
              "      <td>29999.000000</td>\n",
              "      <td>29999.000000</td>\n",
              "      <td>29999.000000</td>\n",
              "      <td>2.999900e+04</td>\n",
              "      <td>29999.000000</td>\n",
              "      <td>29999.000000</td>\n",
              "      <td>29999.000000</td>\n",
              "      <td>29999.000000</td>\n",
              "    </tr>\n",
              "    <tr>\n",
              "      <th>mean</th>\n",
              "      <td>167485.572186</td>\n",
              "      <td>1.603753</td>\n",
              "      <td>1.853057</td>\n",
              "      <td>1.551903</td>\n",
              "      <td>35.484214</td>\n",
              "      <td>-0.016635</td>\n",
              "      <td>-0.133689</td>\n",
              "      <td>-0.166405</td>\n",
              "      <td>-0.220800</td>\n",
              "      <td>-0.266342</td>\n",
              "      <td>-0.291136</td>\n",
              "      <td>51236.862750</td>\n",
              "      <td>49190.734669</td>\n",
              "      <td>4.702535e+04</td>\n",
              "      <td>43275.652326</td>\n",
              "      <td>40324.493980</td>\n",
              "      <td>38881.135745</td>\n",
              "      <td>5662.945886</td>\n",
              "      <td>5.922489e+03</td>\n",
              "      <td>5225.623400</td>\n",
              "      <td>4827.252526</td>\n",
              "      <td>4800.297209</td>\n",
              "      <td>5216.420884</td>\n",
              "    </tr>\n",
              "    <tr>\n",
              "      <th>std</th>\n",
              "      <td>129749.643651</td>\n",
              "      <td>0.489125</td>\n",
              "      <td>0.790306</td>\n",
              "      <td>0.521959</td>\n",
              "      <td>9.217410</td>\n",
              "      <td>1.123792</td>\n",
              "      <td>1.197174</td>\n",
              "      <td>1.195928</td>\n",
              "      <td>1.168997</td>\n",
              "      <td>1.133013</td>\n",
              "      <td>1.149884</td>\n",
              "      <td>73632.943233</td>\n",
              "      <td>71171.519446</td>\n",
              "      <td>6.934699e+04</td>\n",
              "      <td>64330.483370</td>\n",
              "      <td>60793.765743</td>\n",
              "      <td>59552.377504</td>\n",
              "      <td>16562.232361</td>\n",
              "      <td>2.304110e+04</td>\n",
              "      <td>17606.368053</td>\n",
              "      <td>15666.140124</td>\n",
              "      <td>15278.294880</td>\n",
              "      <td>17777.641144</td>\n",
              "    </tr>\n",
              "    <tr>\n",
              "      <th>min</th>\n",
              "      <td>10000.000000</td>\n",
              "      <td>1.000000</td>\n",
              "      <td>0.000000</td>\n",
              "      <td>0.000000</td>\n",
              "      <td>21.000000</td>\n",
              "      <td>-2.000000</td>\n",
              "      <td>-2.000000</td>\n",
              "      <td>-2.000000</td>\n",
              "      <td>-2.000000</td>\n",
              "      <td>-2.000000</td>\n",
              "      <td>-2.000000</td>\n",
              "      <td>-165580.000000</td>\n",
              "      <td>-69777.000000</td>\n",
              "      <td>-1.572640e+05</td>\n",
              "      <td>-170000.000000</td>\n",
              "      <td>-81334.000000</td>\n",
              "      <td>-339603.000000</td>\n",
              "      <td>0.000000</td>\n",
              "      <td>0.000000e+00</td>\n",
              "      <td>0.000000</td>\n",
              "      <td>0.000000</td>\n",
              "      <td>0.000000</td>\n",
              "      <td>0.000000</td>\n",
              "    </tr>\n",
              "    <tr>\n",
              "      <th>25%</th>\n",
              "      <td>50000.000000</td>\n",
              "      <td>1.000000</td>\n",
              "      <td>1.000000</td>\n",
              "      <td>1.000000</td>\n",
              "      <td>28.000000</td>\n",
              "      <td>-1.000000</td>\n",
              "      <td>-1.000000</td>\n",
              "      <td>-1.000000</td>\n",
              "      <td>-1.000000</td>\n",
              "      <td>-1.000000</td>\n",
              "      <td>-1.000000</td>\n",
              "      <td>3566.500000</td>\n",
              "      <td>2986.500000</td>\n",
              "      <td>2.673500e+03</td>\n",
              "      <td>2332.000000</td>\n",
              "      <td>1769.000000</td>\n",
              "      <td>1258.000000</td>\n",
              "      <td>1000.000000</td>\n",
              "      <td>8.360000e+02</td>\n",
              "      <td>390.000000</td>\n",
              "      <td>298.000000</td>\n",
              "      <td>254.500000</td>\n",
              "      <td>118.000000</td>\n",
              "    </tr>\n",
              "    <tr>\n",
              "      <th>50%</th>\n",
              "      <td>140000.000000</td>\n",
              "      <td>2.000000</td>\n",
              "      <td>2.000000</td>\n",
              "      <td>2.000000</td>\n",
              "      <td>34.000000</td>\n",
              "      <td>0.000000</td>\n",
              "      <td>0.000000</td>\n",
              "      <td>0.000000</td>\n",
              "      <td>0.000000</td>\n",
              "      <td>0.000000</td>\n",
              "      <td>0.000000</td>\n",
              "      <td>22399.000000</td>\n",
              "      <td>21226.000000</td>\n",
              "      <td>2.010700e+04</td>\n",
              "      <td>19065.000000</td>\n",
              "      <td>18123.000000</td>\n",
              "      <td>17099.000000</td>\n",
              "      <td>2100.000000</td>\n",
              "      <td>2.010000e+03</td>\n",
              "      <td>1800.000000</td>\n",
              "      <td>1500.000000</td>\n",
              "      <td>1500.000000</td>\n",
              "      <td>1500.000000</td>\n",
              "    </tr>\n",
              "    <tr>\n",
              "      <th>75%</th>\n",
              "      <td>240000.000000</td>\n",
              "      <td>2.000000</td>\n",
              "      <td>2.000000</td>\n",
              "      <td>2.000000</td>\n",
              "      <td>41.000000</td>\n",
              "      <td>0.000000</td>\n",
              "      <td>0.000000</td>\n",
              "      <td>0.000000</td>\n",
              "      <td>0.000000</td>\n",
              "      <td>0.000000</td>\n",
              "      <td>0.000000</td>\n",
              "      <td>67092.000000</td>\n",
              "      <td>64008.500000</td>\n",
              "      <td>6.016550e+04</td>\n",
              "      <td>54509.000000</td>\n",
              "      <td>50178.000000</td>\n",
              "      <td>49200.500000</td>\n",
              "      <td>5007.000000</td>\n",
              "      <td>5.000000e+03</td>\n",
              "      <td>4512.000000</td>\n",
              "      <td>4016.000000</td>\n",
              "      <td>4041.500000</td>\n",
              "      <td>4000.000000</td>\n",
              "    </tr>\n",
              "    <tr>\n",
              "      <th>max</th>\n",
              "      <td>1000000.000000</td>\n",
              "      <td>2.000000</td>\n",
              "      <td>6.000000</td>\n",
              "      <td>3.000000</td>\n",
              "      <td>79.000000</td>\n",
              "      <td>8.000000</td>\n",
              "      <td>8.000000</td>\n",
              "      <td>8.000000</td>\n",
              "      <td>8.000000</td>\n",
              "      <td>8.000000</td>\n",
              "      <td>8.000000</td>\n",
              "      <td>964511.000000</td>\n",
              "      <td>983931.000000</td>\n",
              "      <td>1.664089e+06</td>\n",
              "      <td>891586.000000</td>\n",
              "      <td>927171.000000</td>\n",
              "      <td>961664.000000</td>\n",
              "      <td>873552.000000</td>\n",
              "      <td>1.684259e+06</td>\n",
              "      <td>896040.000000</td>\n",
              "      <td>621000.000000</td>\n",
              "      <td>426529.000000</td>\n",
              "      <td>528666.000000</td>\n",
              "    </tr>\n",
              "  </tbody>\n",
              "</table>\n",
              "</div>"
            ],
            "text/plain": [
              "                   X1            X2            X3            X4            X5  \\\n",
              "count    29999.000000  29999.000000  29999.000000  29999.000000  29999.000000   \n",
              "mean    167485.572186      1.603753      1.853057      1.551903     35.484214   \n",
              "std     129749.643651      0.489125      0.790306      0.521959      9.217410   \n",
              "min      10000.000000      1.000000      0.000000      0.000000     21.000000   \n",
              "25%      50000.000000      1.000000      1.000000      1.000000     28.000000   \n",
              "50%     140000.000000      2.000000      2.000000      2.000000     34.000000   \n",
              "75%     240000.000000      2.000000      2.000000      2.000000     41.000000   \n",
              "max    1000000.000000      2.000000      6.000000      3.000000     79.000000   \n",
              "\n",
              "                 X6            X7            X8            X9           X10  \\\n",
              "count  29999.000000  29999.000000  29999.000000  29999.000000  29999.000000   \n",
              "mean      -0.016635     -0.133689     -0.166405     -0.220800     -0.266342   \n",
              "std        1.123792      1.197174      1.195928      1.168997      1.133013   \n",
              "min       -2.000000     -2.000000     -2.000000     -2.000000     -2.000000   \n",
              "25%       -1.000000     -1.000000     -1.000000     -1.000000     -1.000000   \n",
              "50%        0.000000      0.000000      0.000000      0.000000      0.000000   \n",
              "75%        0.000000      0.000000      0.000000      0.000000      0.000000   \n",
              "max        8.000000      8.000000      8.000000      8.000000      8.000000   \n",
              "\n",
              "                X11            X12            X13           X14  \\\n",
              "count  29999.000000   29999.000000   29999.000000  2.999900e+04   \n",
              "mean      -0.291136   51236.862750   49190.734669  4.702535e+04   \n",
              "std        1.149884   73632.943233   71171.519446  6.934699e+04   \n",
              "min       -2.000000 -165580.000000  -69777.000000 -1.572640e+05   \n",
              "25%       -1.000000    3566.500000    2986.500000  2.673500e+03   \n",
              "50%        0.000000   22399.000000   21226.000000  2.010700e+04   \n",
              "75%        0.000000   67092.000000   64008.500000  6.016550e+04   \n",
              "max        8.000000  964511.000000  983931.000000  1.664089e+06   \n",
              "\n",
              "                 X15            X16            X17            X18  \\\n",
              "count   29999.000000   29999.000000   29999.000000   29999.000000   \n",
              "mean    43275.652326   40324.493980   38881.135745    5662.945886   \n",
              "std     64330.483370   60793.765743   59552.377504   16562.232361   \n",
              "min   -170000.000000  -81334.000000 -339603.000000       0.000000   \n",
              "25%      2332.000000    1769.000000    1258.000000    1000.000000   \n",
              "50%     19065.000000   18123.000000   17099.000000    2100.000000   \n",
              "75%     54509.000000   50178.000000   49200.500000    5007.000000   \n",
              "max    891586.000000  927171.000000  961664.000000  873552.000000   \n",
              "\n",
              "                X19            X20            X21            X22  \\\n",
              "count  2.999900e+04   29999.000000   29999.000000   29999.000000   \n",
              "mean   5.922489e+03    5225.623400    4827.252526    4800.297209   \n",
              "std    2.304110e+04   17606.368053   15666.140124   15278.294880   \n",
              "min    0.000000e+00       0.000000       0.000000       0.000000   \n",
              "25%    8.360000e+02     390.000000     298.000000     254.500000   \n",
              "50%    2.010000e+03    1800.000000    1500.000000    1500.000000   \n",
              "75%    5.000000e+03    4512.000000    4016.000000    4041.500000   \n",
              "max    1.684259e+06  896040.000000  621000.000000  426529.000000   \n",
              "\n",
              "                 X23  \n",
              "count   29999.000000  \n",
              "mean     5216.420884  \n",
              "std     17777.641144  \n",
              "min         0.000000  \n",
              "25%       118.000000  \n",
              "50%      1500.000000  \n",
              "75%      4000.000000  \n",
              "max    528666.000000  "
            ]
          },
          "execution_count": 24,
          "metadata": {},
          "output_type": "execute_result"
        }
      ],
      "source": [
        "X.describe()"
      ]
    },
    {
      "cell_type": "markdown",
      "metadata": {},
      "source": [
        "En este caso en particular podemos ver que las diferentes columnas tienen diferentes comportamientos. En particular que el rango de la primera es positivo, con un valor mínimo de 10,000 y máximo de 10,00,000 con un promedio de alrededor de 167,485 y una mediana de 140,000 lo que, al ser bastante similares hace pensar que la distribución es bastante simétrica y hay pocos outliers.\n",
        "En el caso de X2, X3 y X4 son variables categóricas, mientras que X5 es la edad. El resto tienen valores de entre -2 y 8, valores que se pueden ver en la tabla con los valores mínimos y máximos. "
      ]
    },
    {
      "cell_type": "code",
      "execution_count": 25,
      "metadata": {},
      "outputs": [
        {
          "data": {
            "image/png": "[encoded data removed]",
            "text/plain": [
              "<Figure size 432x288 with 1 Axes>"
            ]
          },
          "metadata": {
            "needs_background": "light"
          },
          "output_type": "display_data"
        },
        {
          "data": {
            "image/png": "[encoded data removed]",
            "text/plain": [
              "<Figure size 432x288 with 1 Axes>"
            ]
          },
          "metadata": {
            "needs_background": "light"
          },
          "output_type": "display_data"
        },
        {
          "data": {
            "image/png": "[encoded data removed]",
            "text/plain": [
              "<Figure size 432x288 with 1 Axes>"
            ]
          },
          "metadata": {
            "needs_background": "light"
          },
          "output_type": "display_data"
        },
        {
          "data": {
            "image/png": "[encoded data removed]",
            "text/plain": [
              "<Figure size 432x288 with 1 Axes>"
            ]
          },
          "metadata": {
            "needs_background": "light"
          },
          "output_type": "display_data"
        },
        {
          "data": {
            "image/png": "[encoded data removed]",
            "text/plain": [
              "<Figure size 432x288 with 1 Axes>"
            ]
          },
          "metadata": {
            "needs_background": "light"
          },
          "output_type": "display_data"
        },
        {
          "data": {
            "image/png": "[encoded data removed]",
            "text/plain": [
              "<Figure size 432x288 with 1 Axes>"
            ]
          },
          "metadata": {
            "needs_background": "light"
          },
          "output_type": "display_data"
        },
        {
          "data": {
            "image/png": "[encoded data removed]",
            "text/plain": [
              "<Figure size 432x288 with 1 Axes>"
            ]
          },
          "metadata": {
            "needs_background": "light"
          },
          "output_type": "display_data"
        },
        {
          "data": {
            "image/png": "[encoded data removed]",
            "text/plain": [
              "<Figure size 432x288 with 1 Axes>"
            ]
          },
          "metadata": {
            "needs_background": "light"
          },
          "output_type": "display_data"
        },
        {
          "data": {
            "image/png": "[encoded data removed]",
            "text/plain": [
              "<Figure size 432x288 with 1 Axes>"
            ]
          },
          "metadata": {
            "needs_background": "light"
          },
          "output_type": "display_data"
        },
        {
          "data": {
            "image/png": "[encoded data removed]",
            "text/plain": [
              "<Figure size 432x288 with 1 Axes>"
            ]
          },
          "metadata": {
            "needs_background": "light"
          },
          "output_type": "display_data"
        },
        {
          "data": {
            "image/png": "[encoded data removed]",
            "text/plain": [
              "<Figure size 432x288 with 1 Axes>"
            ]
          },
          "metadata": {
            "needs_background": "light"
          },
          "output_type": "display_data"
        },
        {
          "data": {
            "image/png": "[encoded data removed]",
            "text/plain": [
              "<Figure size 432x288 with 1 Axes>"
            ]
          },
          "metadata": {
            "needs_background": "light"
          },
          "output_type": "display_data"
        },
        {
          "data": {
            "image/png": "[encoded data removed]",
            "text/plain": [
              "<Figure size 432x288 with 1 Axes>"
            ]
          },
          "metadata": {
            "needs_background": "light"
          },
          "output_type": "display_data"
        },
        {
          "data": {
            "image/png": "[encoded data removed]",
            "text/plain": [
              "<Figure size 432x288 with 1 Axes>"
            ]
          },
          "metadata": {
            "needs_background": "light"
          },
          "output_type": "display_data"
        },
        {
          "data": {
            "image/png": "[encoded data removed]",
            "text/plain": [
              "<Figure size 432x288 with 1 Axes>"
            ]
          },
          "metadata": {
            "needs_background": "light"
          },
          "output_type": "display_data"
        },
        {
          "data": {
            "image/png": "[encoded data removed]",
            "text/plain": [
              "<Figure size 432x288 with 1 Axes>"
            ]
          },
          "metadata": {
            "needs_background": "light"
          },
          "output_type": "display_data"
        },
        {
          "data": {
            "image/png": "[encoded data removed]",
            "text/plain": [
              "<Figure size 432x288 with 1 Axes>"
            ]
          },
          "metadata": {
            "needs_background": "light"
          },
          "output_type": "display_data"
        },
        {
          "data": {
            "image/png": "[encoded data removed]",
            "text/plain": [
              "<Figure size 432x288 with 1 Axes>"
            ]
          },
          "metadata": {
            "needs_background": "light"
          },
          "output_type": "display_data"
        },
        {
          "data": {
            "image/png": "[encoded data removed]",
            "text/plain": [
              "<Figure size 432x288 with 1 Axes>"
            ]
          },
          "metadata": {
            "needs_background": "light"
          },
          "output_type": "display_data"
        },
        {
          "data": {
            "image/png": "[encoded data removed]",
            "text/plain": [
              "<Figure size 432x288 with 1 Axes>"
            ]
          },
          "metadata": {
            "needs_background": "light"
          },
          "output_type": "display_data"
        },
        {
          "data": {
            "image/png": "[encoded data removed]",
            "text/plain": [
              "<Figure size 432x288 with 1 Axes>"
            ]
          },
          "metadata": {
            "needs_background": "light"
          },
          "output_type": "display_data"
        },
        {
          "data": {
            "image/png": "[encoded data removed]",
            "text/plain": [
              "<Figure size 432x288 with 1 Axes>"
            ]
          },
          "metadata": {
            "needs_background": "light"
          },
          "output_type": "display_data"
        },
        {
          "data": {
            "image/png": "[encoded data removed]",
            "text/plain": [
              "<Figure size 432x288 with 1 Axes>"
            ]
          },
          "metadata": {
            "needs_background": "light"
          },
          "output_type": "display_data"
        }
      ],
      "source": [
        "for col, values in X.items():\n",
        "    sns.boxplot(x=values); plt.show();"
      ]
    },
    {
      "cell_type": "markdown",
      "metadata": {},
      "source": [
        "#### Parte 5: Realiza el conteo de las variables categóricas"
      ]
    },
    {
      "cell_type": "code",
      "execution_count": 28,
      "metadata": {},
      "outputs": [
        {
          "data": {
            "text/plain": [
              "['X2', 'X3', 'X4', 'X6', 'X7', 'X8', 'X9', 'X10', 'X11']"
            ]
          },
          "execution_count": 28,
          "metadata": {},
          "output_type": "execute_result"
        }
      ],
      "source": [
        "categorical = [\"X2\", \"X3\", \"X4\"]\n",
        "categorical.extend([f\"X{i}\" for i in range(6, 12)])\n",
        "\n",
        "categorical ## Display categorical column names"
      ]
    },
    {
      "cell_type": "code",
      "execution_count": 30,
      "metadata": {},
      "outputs": [
        {
          "name": "stdout",
          "output_type": "stream",
          "text": [
            "2.0    18112\n",
            "1.0    11887\n",
            "Name: X2, dtype: int64\n",
            "2.000000    14030\n",
            "1.000000    10585\n",
            "3.000000     4915\n",
            "5.000000      280\n",
            "4.000000      123\n",
            "6.000000       51\n",
            "0.000000       14\n",
            "1.853057        1\n",
            "Name: X3, dtype: int64\n",
            "2.000000    15964\n",
            "1.000000    13657\n",
            "3.000000      323\n",
            "0.000000       54\n",
            "1.551903        1\n",
            "Name: X4, dtype: int64\n",
            " 0.000000    14736\n",
            "-1.000000     5684\n",
            " 1.000000     3688\n",
            "-2.000000     2759\n",
            " 2.000000     2667\n",
            " 3.000000      322\n",
            " 4.000000       76\n",
            " 5.000000       26\n",
            " 8.000000       19\n",
            " 6.000000       11\n",
            " 7.000000        9\n",
            "-0.016635        2\n",
            "Name: X6, dtype: int64\n",
            " 0.000000    15728\n",
            "-1.000000     6047\n",
            " 2.000000     3927\n",
            "-2.000000     3782\n",
            " 3.000000      326\n",
            " 4.000000       99\n",
            " 1.000000       28\n",
            " 5.000000       25\n",
            " 7.000000       20\n",
            " 6.000000       12\n",
            "-0.133689        4\n",
            " 8.000000        1\n",
            "Name: X7, dtype: int64\n",
            " 0.000000    15761\n",
            "-1.000000     5935\n",
            "-2.000000     4085\n",
            " 2.000000     3819\n",
            " 3.000000      240\n",
            " 4.000000       76\n",
            " 7.000000       27\n",
            " 6.000000       23\n",
            " 5.000000       21\n",
            "-0.166405        6\n",
            " 1.000000        4\n",
            " 8.000000        2\n",
            "Name: X8, dtype: int64\n",
            " 0.0000    16450\n",
            "-1.0000     5685\n",
            "-2.0000     4348\n",
            " 2.0000     3157\n",
            " 3.0000      180\n",
            " 4.0000       69\n",
            " 7.0000       58\n",
            " 5.0000       35\n",
            "-0.2208        8\n",
            " 6.0000        5\n",
            " 1.0000        2\n",
            " 8.0000        2\n",
            "Name: X9, dtype: int64\n",
            " 0.000000    16937\n",
            "-1.000000     5535\n",
            "-2.000000     4546\n",
            " 2.000000     2624\n",
            " 3.000000      178\n",
            " 4.000000       84\n",
            " 7.000000       58\n",
            " 5.000000       17\n",
            "-0.266342       15\n",
            " 6.000000        4\n",
            " 8.000000        1\n",
            "Name: X10, dtype: int64\n",
            " 0.000000    16278\n",
            "-1.000000     5735\n",
            "-2.000000     4895\n",
            " 2.000000     2765\n",
            " 3.000000      184\n",
            " 4.000000       49\n",
            " 7.000000       46\n",
            " 6.000000       19\n",
            "-0.291136       13\n",
            " 5.000000       13\n",
            " 8.000000        2\n",
            "Name: X11, dtype: int64\n"
          ]
        }
      ],
      "source": [
        "df_categorical = X[categorical]\n",
        "\n",
        "for col, values in df_categorical.items():\n",
        "    print(values.value_counts())"
      ]
    },
    {
      "cell_type": "markdown",
      "metadata": {},
      "source": [
        "#### Parte 6: Escala los datos, si consideras necesario"
      ]
    },
    {
      "cell_type": "code",
      "execution_count": 33,
      "metadata": {},
      "outputs": [],
      "source": [
        "df_numerical = X.drop(categorical, axis=1)"
      ]
    },
    {
      "cell_type": "code",
      "execution_count": 37,
      "metadata": {},
      "outputs": [],
      "source": [
        "scaler = StandardScaler()\n",
        "scaler.fit(df_numerical)\n",
        "X_scaled = scaler.transform(df_numerical)"
      ]
    },
    {
      "cell_type": "markdown",
      "metadata": {},
      "source": [
        "#### Parte 7: The PCA model"
      ]
    },
    {
      "cell_type": "markdown",
      "metadata": {},
      "source": [
        "##### Parte 7.1: Indica la varianza de los datos explicada por cada componente seleccionado. Para actividades de exploración de los datos la varianza > 70%"
      ]
    },
    {
      "cell_type": "code",
      "execution_count": 64,
      "metadata": {},
      "outputs": [],
      "source": [
        "pca = PCA(n_components=df_numerical.shape[1]) # estimate only 2 PCs\n",
        "X_scaled = pca.fit_transform(X_scaled) # project the original data into the PCA space"
      ]
    },
    {
      "cell_type": "code",
      "execution_count": 65,
      "metadata": {},
      "outputs": [
        {
          "name": "stdout",
          "output_type": "stream",
          "text": [
            "Variance explained: [0.42278606 0.12258271 0.07465077 0.06606558 0.06311666 0.06233373\n",
            " 0.05568147 0.05189934 0.05051586 0.01888843 0.00507342 0.00293412\n",
            " 0.00181168 0.00166018]\n"
          ]
        },
        {
          "data": {
            "text/plain": [
              "[<matplotlib.lines.Line2D at 0x17a09938ac0>]"
            ]
          },
          "execution_count": 65,
          "metadata": {},
          "output_type": "execute_result"
        },
        {
          "data": {
            "image/png": "[encoded data removed]",
            "text/plain": [
              "<Figure size 432x288 with 1 Axes>"
            ]
          },
          "metadata": {
            "needs_background": "light"
          },
          "output_type": "display_data"
        }
      ],
      "source": [
        "import numpy as np\n",
        "\n",
        "variance_explained = pca.explained_variance_ratio_\n",
        "print(f\"Variance explained: {variance_explained}\")\n",
        "\n",
        "plt.bar(x=[i for i in range(len(variance_explained))], height=variance_explained)\n",
        "plt.scatter(x=[i for i in range(len(variance_explained))], y = np.cumsum(variance_explained), color=\"orange\")\n",
        "plt.plot([i for i in range(len(variance_explained))], np.cumsum(variance_explained), color=\"orange\")\n",
        "plt.plot([i for i in range(len(variance_explained))], [0.7 for i in range(len(variance_explained))], color=\"green\")"
      ]
    },
    {
      "cell_type": "markdown",
      "metadata": {},
      "source": [
        "Dada la gráfica obtenida, es posible obtener más del 70% de la varianza explicada usando únicamente las primeras 4 componentes principales, reduciendo de 14 a 4."
      ]
    },
    {
      "cell_type": "code",
      "execution_count": 71,
      "metadata": {},
      "outputs": [
        {
          "data": {
            "text/html": [
              "<div>\n",
              "<style scoped>\n",
              "    .dataframe tbody tr th:only-of-type {\n",
              "        vertical-align: middle;\n",
              "    }\n",
              "\n",
              "    .dataframe tbody tr th {\n",
              "        vertical-align: top;\n",
              "    }\n",
              "\n",
              "    .dataframe thead th {\n",
              "        text-align: right;\n",
              "    }\n",
              "</style>\n",
              "<table border=\"1\" class=\"dataframe\">\n",
              "  <thead>\n",
              "    <tr style=\"text-align: right;\">\n",
              "      <th></th>\n",
              "      <th>0</th>\n",
              "      <th>1</th>\n",
              "      <th>2</th>\n",
              "      <th>3</th>\n",
              "    </tr>\n",
              "  </thead>\n",
              "  <tbody>\n",
              "    <tr>\n",
              "      <th>0</th>\n",
              "      <td>-1.959007</td>\n",
              "      <td>-0.536613</td>\n",
              "      <td>1.329946</td>\n",
              "      <td>-0.175815</td>\n",
              "    </tr>\n",
              "    <tr>\n",
              "      <th>1</th>\n",
              "      <td>-1.735831</td>\n",
              "      <td>-0.217025</td>\n",
              "      <td>0.863608</td>\n",
              "      <td>-0.280515</td>\n",
              "    </tr>\n",
              "    <tr>\n",
              "      <th>2</th>\n",
              "      <td>-1.224720</td>\n",
              "      <td>-0.284750</td>\n",
              "      <td>0.213033</td>\n",
              "      <td>-0.008092</td>\n",
              "    </tr>\n",
              "    <tr>\n",
              "      <th>3</th>\n",
              "      <td>-0.541368</td>\n",
              "      <td>-0.666530</td>\n",
              "      <td>0.097486</td>\n",
              "      <td>0.292321</td>\n",
              "    </tr>\n",
              "    <tr>\n",
              "      <th>4</th>\n",
              "      <td>-0.849170</td>\n",
              "      <td>0.738662</td>\n",
              "      <td>-1.392648</td>\n",
              "      <td>1.659222</td>\n",
              "    </tr>\n",
              "    <tr>\n",
              "      <th>...</th>\n",
              "      <td>...</td>\n",
              "      <td>...</td>\n",
              "      <td>...</td>\n",
              "      <td>...</td>\n",
              "    </tr>\n",
              "    <tr>\n",
              "      <th>29994</th>\n",
              "      <td>2.576590</td>\n",
              "      <td>-0.689396</td>\n",
              "      <td>-0.305671</td>\n",
              "      <td>0.517238</td>\n",
              "    </tr>\n",
              "    <tr>\n",
              "      <th>29995</th>\n",
              "      <td>-1.544493</td>\n",
              "      <td>0.187184</td>\n",
              "      <td>-0.724924</td>\n",
              "      <td>0.546754</td>\n",
              "    </tr>\n",
              "    <tr>\n",
              "      <th>29996</th>\n",
              "      <td>-1.285322</td>\n",
              "      <td>0.146811</td>\n",
              "      <td>0.250613</td>\n",
              "      <td>0.430326</td>\n",
              "    </tr>\n",
              "    <tr>\n",
              "      <th>29997</th>\n",
              "      <td>0.831379</td>\n",
              "      <td>2.421734</td>\n",
              "      <td>0.364404</td>\n",
              "      <td>0.216662</td>\n",
              "    </tr>\n",
              "    <tr>\n",
              "      <th>29998</th>\n",
              "      <td>-0.517221</td>\n",
              "      <td>-0.600680</td>\n",
              "      <td>-0.749568</td>\n",
              "      <td>0.656100</td>\n",
              "    </tr>\n",
              "  </tbody>\n",
              "</table>\n",
              "<p>29999 rows × 4 columns</p>\n",
              "</div>"
            ],
            "text/plain": [
              "              0         1         2         3\n",
              "0     -1.959007 -0.536613  1.329946 -0.175815\n",
              "1     -1.735831 -0.217025  0.863608 -0.280515\n",
              "2     -1.224720 -0.284750  0.213033 -0.008092\n",
              "3     -0.541368 -0.666530  0.097486  0.292321\n",
              "4     -0.849170  0.738662 -1.392648  1.659222\n",
              "...         ...       ...       ...       ...\n",
              "29994  2.576590 -0.689396 -0.305671  0.517238\n",
              "29995 -1.544493  0.187184 -0.724924  0.546754\n",
              "29996 -1.285322  0.146811  0.250613  0.430326\n",
              "29997  0.831379  2.421734  0.364404  0.216662\n",
              "29998 -0.517221 -0.600680 -0.749568  0.656100\n",
              "\n",
              "[29999 rows x 4 columns]"
            ]
          },
          "execution_count": 71,
          "metadata": {},
          "output_type": "execute_result"
        }
      ],
      "source": [
        "df_reduced = pd.DataFrame(X_scaled[:, :4])\n",
        "df_reduced"
      ]
    },
    {
      "cell_type": "markdown",
      "metadata": {},
      "source": [
        "##### Parte 7.2: Indica la importancia de las variables en cada componente"
      ]
    },
    {
      "cell_type": "code",
      "execution_count": 79,
      "metadata": {},
      "outputs": [
        {
          "name": "stdout",
          "output_type": "stream",
          "text": [
            "[[1.00000000e+00 0.00000000e+00 0.00000000e+00 0.00000000e+00\n",
            "  0.00000000e+00 0.00000000e+00 0.00000000e+00 0.00000000e+00\n",
            "  0.00000000e+00 0.00000000e+00 0.00000000e+00 0.00000000e+00\n",
            "  0.00000000e+00 0.00000000e+00]\n",
            " [0.00000000e+00 1.00000000e+00 6.88338275e-15 2.19269047e-15\n",
            "  1.09634524e-15 4.71844785e-16 1.04083409e-15 5.44703171e-16\n",
            "  5.88418203e-15 1.87350135e-16 6.96057795e-17 1.42572586e-17\n",
            "  1.26987179e-17 2.73218947e-17]\n",
            " [0.00000000e+00 7.21644966e-15 1.00000000e+00 1.01169073e-14\n",
            "  1.44155521e-15 3.14678839e-15 2.06085149e-15 6.99093561e-16\n",
            "  1.33226763e-14 3.46944695e-18 2.08166817e-17 2.36085023e-17\n",
            "  1.05641949e-17 2.26598254e-17]\n",
            " [0.00000000e+00 2.38697950e-15 1.01446629e-14 1.00000000e+00\n",
            "  5.19246104e-15 7.66747776e-15 3.92741395e-15 9.15500314e-16\n",
            "  1.39194212e-14 1.25333771e-16 7.44982418e-17 2.47740196e-17\n",
            "  7.40815016e-18 9.44340092e-17]]\n"
          ]
        }
      ],
      "source": [
        "print(abs( pca.components_[:4, :] )) # Display the features importance for each principal component"
      ]
    },
    {
      "cell_type": "markdown",
      "metadata": {},
      "source": [
        "Como se puede observar, prácticamente cada una de las componentes tomó como referencia una de las primeras variables del dataset original y fue al que meyor impotrancia le dio. Es decir, es posible que las demás variables no aporten gran información a la varianza total."
      ]
    },
    {
      "cell_type": "markdown",
      "metadata": {},
      "source": [
        "#### Parte 8: Elabora los histogramas de los atributos para visualizar su distribución"
      ]
    },
    {
      "cell_type": "code",
      "execution_count": 84,
      "metadata": {},
      "outputs": [
        {
          "data": {
            "image/png": "[encoded data removed]",
            "text/plain": [
              "<Figure size 432x288 with 1 Axes>"
            ]
          },
          "metadata": {
            "needs_background": "light"
          },
          "output_type": "display_data"
        },
        {
          "data": {
            "image/png": "[encoded data removed]",
            "text/plain": [
              "<Figure size 432x288 with 1 Axes>"
            ]
          },
          "metadata": {
            "needs_background": "light"
          },
          "output_type": "display_data"
        },
        {
          "data": {
            "image/png": "[encoded data removed]",
            "text/plain": [
              "<Figure size 432x288 with 1 Axes>"
            ]
          },
          "metadata": {
            "needs_background": "light"
          },
          "output_type": "display_data"
        },
        {
          "data": {
            "image/png": "[encoded data removed]",
            "text/plain": [
              "<Figure size 432x288 with 1 Axes>"
            ]
          },
          "metadata": {
            "needs_background": "light"
          },
          "output_type": "display_data"
        }
      ],
      "source": [
        "for col, values in df_reduced.items():\n",
        "    sns.histplot(values); plt.show();"
      ]
    },
    {
      "cell_type": "markdown",
      "metadata": {},
      "source": [
        "#### Parte 9: Realiza la visualización de los datos usando por lo menos 3 gráficos que consideres adecuados: plot, scatter, jointplot, boxplot, areaplot, pie chart, pairplot, bar chart, etc. \n",
        "#### Parte 10: Interpreta y explica cada uno de los gráficos indicando cuál es la información más relevante que podría ayudar en el proceso de toma de decisiones."
      ]
    },
    {
      "cell_type": "code",
      "execution_count": 133,
      "metadata": {},
      "outputs": [],
      "source": [
        "df_rename = df_cleaned.rename(columns={\"X1\": \"Amount of credit\", \"X2\": \"Gender\", \"X3\": \"Education\", \"X4\": \"Marital status\", \"X5\": \"Age\", \"Y\": \"Credible client\"})\n",
        "df_rename[\"Credible client\"] = df_rename[\"Credible client\"].map({0: \"N\", 1: \"Y\"})\n",
        "df_rename[\"Gender\"] = df_rename[\"Gender\"].map({1: \"M\", 2: \"F\"})"
      ]
    },
    {
      "cell_type": "markdown",
      "metadata": {},
      "source": [
        "Visualizamos la distribución de edades clasificados según si les dieron el crédito o no."
      ]
    },
    {
      "cell_type": "code",
      "execution_count": 134,
      "metadata": {},
      "outputs": [
        {
          "data": {
            "image/png": "[encoded data removed]",
            "text/plain": [
              "<Figure size 432x288 with 1 Axes>"
            ]
          },
          "metadata": {
            "needs_background": "light"
          },
          "output_type": "display_data"
        }
      ],
      "source": [
        "ax = sns.histplot(data=df_rename, x=\"Age\", hue=\"Credible client\", element=\"step\", binwidth=1);"
      ]
    },
    {
      "cell_type": "markdown",
      "metadata": {},
      "source": [
        "En este caso podemos observar la distribución de otorgamiento de créditos según la edad de los solicitantes. En particular se puede apreciar que la mayoría de las personas que solicitan un crédito se encuentran entre los 25 y 35 años de edad. De estos, en general se tiende a otorgarles la mayor parte de los créditos a los adultos jóvenes, los cuales desde los 25 y hasta los 40 años de edad parecen tener una credibilidad similar, la cual decae abruptamente (al igual que el número de créditos solicitados) a partir de los 40.\n"
      ]
    },
    {
      "cell_type": "code",
      "execution_count": 135,
      "metadata": {},
      "outputs": [
        {
          "data": {
            "image/png": "[encoded data removed]",
            "text/plain": [
              "<Figure size 800.125x360 with 2 Axes>"
            ]
          },
          "metadata": {
            "needs_background": "light"
          },
          "output_type": "display_data"
        }
      ],
      "source": [
        "ax = sns.relplot(\n",
        "    data=df_rename, x=\"Age\", y=\"Amount of credit\",\n",
        "    col=\"Gender\", hue=\"Credible client\", style=\"Credible client\",\n",
        "    kind=\"line\"\n",
        ")"
      ]
    },
    {
      "cell_type": "markdown",
      "metadata": {},
      "source": [
        "Esta figura nos muestra la distribución de los montos de crédito otorgados según la edad y el sexo de la persona. En concreto se puede apreciar que los montos más altos son solicitados mayormente por personas adultas mayores, de las cuales a las mujeres se les identifican como creíbles incluso con montos muy altos de crédito, mientras que para los hombres en la misma situación generalmente se identifican como no creibles.\n",
        "\n",
        "Por otro lado se puede notar que a partir de entre los 25 y 35 años de edad hay un incremento en el monto solicitado (para ambos sexos), de los cuales generalmente los clientes creíbles piden un monto menor que los de los no creíbles. Posteriormente llega una caída en el monto solicitado a partir de los 40 años (posiblemente un momento en la vida de las personas en la cual se tiene mayor estabilización económica), corroborado con el histograma de la figura anterior, donde dejan de solicitar créditos. Hasta llegada la edad de 60 años, donde los pocos que solicitan lo hacen de montos más altos."
      ]
    },
    {
      "cell_type": "code",
      "execution_count": 136,
      "metadata": {},
      "outputs": [
        {
          "data": {
            "image/png": "[encoded data removed]",
            "text/plain": [
              "<Figure size 432x288 with 1 Axes>"
            ]
          },
          "metadata": {
            "needs_background": "light"
          },
          "output_type": "display_data"
        }
      ],
      "source": [
        "ax = sns.boxplot(data=df_rename, x=\"Education\", y=\"Amount of credit\", hue=\"Credible client\");"
      ]
    },
    {
      "cell_type": "markdown",
      "metadata": {},
      "source": [
        "Con esta distribución es posible observar que los montos solicitados son dependientes del nivel de estudios de las personas, en particularva decreciendo conforme mayor educación. Sin embargo, las personas identificadas como creíbles les son otorgados montos mucho menores a los que solicitan la mayoría de las veces, a ecepción de los de nivel 6. En este caso podría ser un indicador de que a mayor educación, menor necesida de crédito, y que aquellos que lo solicitan son altamente creíbles."
      ]
    },
    {
      "cell_type": "markdown",
      "metadata": {},
      "source": [
        "**NOTA**: En todos los gráficos se pueden notar valores extraños (picos muy altos o categorías no enteras), estos son debidos a la imputación de la media (quizás la mediana pudiera haber sido mejor opción, o la moda en su defecto)."
      ]
    }
  ],
  "metadata": {
    "colab": {
      "include_colab_link": true,
      "name": "assignment01.ipynb",
      "provenance": []
    },
    "kernelspec": {
      "display_name": "Python 3.9.6 64-bit",
      "language": "python",
      "name": "python3"
    },
    "language_info": {
      "codemirror_mode": {
        "name": "ipython",
        "version": 3
      },
      "file_extension": ".py",
      "mimetype": "text/x-python",
      "name": "python",
      "nbconvert_exporter": "python",
      "pygments_lexer": "ipython3",
      "version": "3.9.6"
    },
    "vscode": {
      "interpreter": {
        "hash": "11938c6bc6919ae2720b4d5011047913343b08a43b18698fd82dedb0d4417594"
      }
    }
  },
  "nbformat": 4,
  "nbformat_minor": 0
}
