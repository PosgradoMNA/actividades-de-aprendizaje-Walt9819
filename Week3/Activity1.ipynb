{
  "cells": [
    {
      "cell_type": "markdown",
      "metadata": {
        "id": "view-in-github",
        "colab_type": "text"
      },
      "source": [
        "<a href=\"https://colab.research.google.com/github/PosgradoMNA/actividades-de-aprendizaje-Walt9819/blob/developing/Week3/Activity1.ipynb\" target=\"_parent\"><img src=\"https://colab.research.google.com/assets/colab-badge.svg\" alt=\"Open In Colab\"/></a>"
      ]
    },
    {
      "cell_type": "markdown",
      "metadata": {
        "id": "977dPV3U6zZq"
      },
      "source": [
        "## **Nombre de la entrega**: Actividad 1\n",
        "### **Nombre del alumno**: Walter André Hauri Rosales\n",
        "### **Matrícula del alumno**: A01794237\n",
        "### **Profesor titular**: Jobish Vallikavungal Devassia\n",
        "### **Profesor tutor**: Victoria Guerrero Orozco \n",
        "#### **Fecha**: 04 de octubre de 2022"
      ]
    },
    {
      "cell_type": "markdown",
      "source": [
        "### Parte 1: Fundamentos de bases de datos"
      ],
      "metadata": {
        "id": "y_0qV7Bx60xi"
      }
    },
    {
      "cell_type": "markdown",
      "source": [
        "### Fundamentos de bases de datos y almacenes de datos (Data Warehouse) para ciencia de datos.\n",
        "\n",
        "La capacidad de almacenar datos es lo que ha dado la posibilidad de su uso como método de análisis y predicción. De forma sencilla, un data scientist no puede trabajar si no tiene datos, de ahí lo crucial de las bases de datos.\n",
        "\n",
        "Existen dos tipos de bases de datos:\n",
        "  - **SQL**: Las cuales se conforman de tablas relacionadas, que permiten tener una alta consistencia y disponibilidad.\n",
        "  - **NoSQL**: Estas cuentan con una estructura tipo texto, lo cual hace que no requieran una consistencia total entre tablas para poder crearse, es decir, tienen un esquema (_schema_) más flexible. Esto permite que tenga una alta capacidad de partirse o dividirse sin corromper la estructura.\n",
        "\n",
        "Las bases de datos pueden ser almacenadas de muchas maneras distintas, una de las predominantes es el data warehouse. En ellas se pueden almacenar diferentes tipos de conjuntos de datos, dando la posibilidad de posteriormente relacionarlas para su uso en analítica y machine learning. En particular tienen la diferencia de que están pensadas para su uso y actualización constante en periodos regulares a través de _logs_ o registros de actividad, mientras que las bases de datos (_database_) están pensadas principalmente para optimizar los tiempos de respuesta y de espacio en memoria, además de que tienen una actualización por evento o transacción. Una de las características principales es la flexibilidad que otorga un data warehouse para tener información de diferentes departamentos y/o áreas, las cuales pueden ser procesadas posteriormente o en tiempo real con métodos de BI o machine learning, reforzados por técnicas de Big Data."
      ],
      "metadata": {
        "id": "RbnCxv6m69vx"
      }
    },
    {
      "cell_type": "markdown",
      "source": [
        "### Proceso de uniformidad y limpieza de datos.\n",
        "\n",
        "Como se mencionó, los datos son la necesidad básica de un data scientist. A pesar de que en años recientes el volumen de datos ha crecido de forma impresionante, no todos ellos tienen la forma o estructura deseada, dejando grandes espacios de datos vacíos o incompletos que se convierten en un problema.\n",
        "\n",
        "La estrategia básica ante este conflicto es simplemente ignorar aquellos registros que tienen valores vacíos o inconsistentes. La cuestión es que, cuando no se cuenta con una base de datos muy basta, se pierde demasiada información, o incluso habrá ocasiones donde este tipo de comportamientos fueron hechos a propósito (con algún objetivo) y conociendo esta información se podrían llegar a recuperar cantidades valiosas de datos que mejoren los modelos y el análisis.\n",
        "\n",
        "Para tratar situaciones especiales donde los errores fueron totalmente aleatorios o tienen una distribución aleatoria (MRAC y MAC), se han propuesto técnicas que permiten llenar los valores faltantes, tratando de aumentar la cantidad de datos a utilizar, buscando evitar lo más posible el afectar la distribución y/o correlación de los datos (cosa que no siempre se logra).\n",
        "\n",
        "Algunas de las técnicas más utilizadas es la imputación de valores, ya sea de un valor determinado _a priori_, tomado de registros del mismo conjunto de datos, o de sus estadísticos (como la media y la mediana), incluso métodos predictivos como regresiones. Todas estas herramientas buscan aumentar lo más posible la cantidad de datos, lo cual es importante; pero resulta crucial conocer sus afectaciones y limitantes, así como documentar las asunciones que se hacen para posteriormente entender los resultados de los modelos basados en estos datos."
      ],
      "metadata": {
        "id": "nq4-H-q67OXz"
      }
    },
    {
      "cell_type": "code",
      "source": [],
      "metadata": {
        "id": "fgqVg2QO69Hn"
      },
      "execution_count": null,
      "outputs": []
    }
  ],
  "metadata": {
    "colab": {
      "name": "assignment01.ipynb",
      "provenance": [],
      "include_colab_link": true
    },
    "kernelspec": {
      "display_name": "Python 3.9.6 64-bit",
      "language": "python",
      "name": "python3"
    },
    "language_info": {
      "name": "python",
      "version": "3.9.6"
    },
    "vscode": {
      "interpreter": {
        "hash": "11938c6bc6919ae2720b4d5011047913343b08a43b18698fd82dedb0d4417594"
      }
    }
  },
  "nbformat": 4,
  "nbformat_minor": 0
}