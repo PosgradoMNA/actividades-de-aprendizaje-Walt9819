{
  "nbformat": 4,
  "nbformat_minor": 0,
  "metadata": {
    "kernelspec": {
      "display_name": "Python 3",
      "language": "python",
      "name": "python3"
    },
    "language_info": {
      "codemirror_mode": {
        "name": "ipython",
        "version": 3
      },
      "file_extension": ".py",
      "mimetype": "text/x-python",
      "name": "python",
      "nbconvert_exporter": "python",
      "pygments_lexer": "ipython3",
      "version": "3.7.7"
    },
    "colab": {
      "provenance": [],
      "toc_visible": true,
      "include_colab_link": true
    },
    "gpuClass": "standard"
  },
  "cells": [
    {
      "cell_type": "markdown",
      "metadata": {
        "id": "view-in-github",
        "colab_type": "text"
      },
      "source": [
        "<a href=\"https://colab.research.google.com/github/PosgradoMNA/actividades-de-aprendizaje-Walt9819/blob/main/Week7/RegresionesyKMeans.ipynb\" target=\"_parent\"><img src=\"https://colab.research.google.com/assets/colab-badge.svg\" alt=\"Open In Colab\"/></a>"
      ]
    },
    {
      "cell_type": "markdown",
      "metadata": {
        "id": "WUO-kdryVQwK"
      },
      "source": [
        "# Linear Models\n"
      ]
    },
    {
      "cell_type": "markdown",
      "metadata": {
        "id": "u3ytB4LpVQwM"
      },
      "source": [
        "- In supervised learning, the training data fed to the algorithm includes the desired solutions, called labels. \n",
        "- In **regression**, the labels are continuous quantities.\n",
        "- Linear models predict by computing a weighted sum of input features plus a bias term."
      ]
    },
    {
      "cell_type": "code",
      "metadata": {
        "id": "HMp_I4Y6VQwN"
      },
      "source": [
        "import numpy as np\n",
        "%matplotlib inline\n",
        "import matplotlib\n",
        "import matplotlib.pyplot as plt\n",
        "import pandas as pd\n",
        "import seaborn as sns\n",
        "# to make this notebook's output stable across runs\n",
        "np.random.seed(42)"
      ],
      "execution_count": 1,
      "outputs": []
    },
    {
      "cell_type": "markdown",
      "metadata": {
        "id": "szpzFXgiVQwN"
      },
      "source": [
        "## Simple Linear Regression\n",
        "\n",
        "Simple linear regression equation:\n",
        "\n",
        "$y = ax + b$\n",
        "<br>\n",
        "$a$: slope\n",
        "<br>\n",
        "$b$: intercept\n",
        "\n",
        "Generate linear-looking data with the equation:\n",
        "\n",
        "$y = 3X + 4 + noise$"
      ]
    },
    {
      "cell_type": "code",
      "metadata": {
        "colab": {
          "base_uri": "https://localhost:8080/"
        },
        "id": "mitJFYeiMQqD",
        "outputId": "a3f93a50-c717-4009-d936-2085a01f8392"
      },
      "source": [
        "np.random.rand(100, 1)"
      ],
      "execution_count": 2,
      "outputs": [
        {
          "output_type": "execute_result",
          "data": {
            "text/plain": [
              "array([[0.37454012],\n",
              "       [0.95071431],\n",
              "       [0.73199394],\n",
              "       [0.59865848],\n",
              "       [0.15601864],\n",
              "       [0.15599452],\n",
              "       [0.05808361],\n",
              "       [0.86617615],\n",
              "       [0.60111501],\n",
              "       [0.70807258],\n",
              "       [0.02058449],\n",
              "       [0.96990985],\n",
              "       [0.83244264],\n",
              "       [0.21233911],\n",
              "       [0.18182497],\n",
              "       [0.18340451],\n",
              "       [0.30424224],\n",
              "       [0.52475643],\n",
              "       [0.43194502],\n",
              "       [0.29122914],\n",
              "       [0.61185289],\n",
              "       [0.13949386],\n",
              "       [0.29214465],\n",
              "       [0.36636184],\n",
              "       [0.45606998],\n",
              "       [0.78517596],\n",
              "       [0.19967378],\n",
              "       [0.51423444],\n",
              "       [0.59241457],\n",
              "       [0.04645041],\n",
              "       [0.60754485],\n",
              "       [0.17052412],\n",
              "       [0.06505159],\n",
              "       [0.94888554],\n",
              "       [0.96563203],\n",
              "       [0.80839735],\n",
              "       [0.30461377],\n",
              "       [0.09767211],\n",
              "       [0.68423303],\n",
              "       [0.44015249],\n",
              "       [0.12203823],\n",
              "       [0.49517691],\n",
              "       [0.03438852],\n",
              "       [0.9093204 ],\n",
              "       [0.25877998],\n",
              "       [0.66252228],\n",
              "       [0.31171108],\n",
              "       [0.52006802],\n",
              "       [0.54671028],\n",
              "       [0.18485446],\n",
              "       [0.96958463],\n",
              "       [0.77513282],\n",
              "       [0.93949894],\n",
              "       [0.89482735],\n",
              "       [0.59789998],\n",
              "       [0.92187424],\n",
              "       [0.0884925 ],\n",
              "       [0.19598286],\n",
              "       [0.04522729],\n",
              "       [0.32533033],\n",
              "       [0.38867729],\n",
              "       [0.27134903],\n",
              "       [0.82873751],\n",
              "       [0.35675333],\n",
              "       [0.28093451],\n",
              "       [0.54269608],\n",
              "       [0.14092422],\n",
              "       [0.80219698],\n",
              "       [0.07455064],\n",
              "       [0.98688694],\n",
              "       [0.77224477],\n",
              "       [0.19871568],\n",
              "       [0.00552212],\n",
              "       [0.81546143],\n",
              "       [0.70685734],\n",
              "       [0.72900717],\n",
              "       [0.77127035],\n",
              "       [0.07404465],\n",
              "       [0.35846573],\n",
              "       [0.11586906],\n",
              "       [0.86310343],\n",
              "       [0.62329813],\n",
              "       [0.33089802],\n",
              "       [0.06355835],\n",
              "       [0.31098232],\n",
              "       [0.32518332],\n",
              "       [0.72960618],\n",
              "       [0.63755747],\n",
              "       [0.88721274],\n",
              "       [0.47221493],\n",
              "       [0.11959425],\n",
              "       [0.71324479],\n",
              "       [0.76078505],\n",
              "       [0.5612772 ],\n",
              "       [0.77096718],\n",
              "       [0.4937956 ],\n",
              "       [0.52273283],\n",
              "       [0.42754102],\n",
              "       [0.02541913],\n",
              "       [0.10789143]])"
            ]
          },
          "metadata": {},
          "execution_count": 2
        }
      ]
    },
    {
      "cell_type": "code",
      "metadata": {
        "colab": {
          "base_uri": "https://localhost:8080/",
          "height": 265
        },
        "id": "QyubE1VEVQwN",
        "outputId": "74f85eda-0537-4a3d-b422-912691ab05c2"
      },
      "source": [
        "X = 2*np.random.rand(100, 1)\n",
        "y = 4 + 3 * X + np.random.randn(100, 1)\n",
        "plt.scatter(X, y);"
      ],
      "execution_count": 3,
      "outputs": [
        {
          "output_type": "display_data",
          "data": {
            "text/plain": [
              "<Figure size 432x288 with 1 Axes>"
            ],
            "image/png": "[encoded data removed]"
          },
          "metadata": {
            "needs_background": "light"
          }
        }
      ]
    },
    {
      "cell_type": "code",
      "source": [
        "import pandas as pd\n",
        "pd.DataFrame(y)"
      ],
      "metadata": {
        "colab": {
          "base_uri": "https://localhost:8080/",
          "height": 424
        },
        "id": "M5kaENJ4bZY5",
        "outputId": "ec9b4586-87bc-404c-83e8-ef0fd8dd308d"
      },
      "execution_count": 4,
      "outputs": [
        {
          "output_type": "execute_result",
          "data": {
            "text/plain": [
              "            0\n",
              "0    3.508550\n",
              "1    8.050716\n",
              "2    6.179208\n",
              "3    6.337073\n",
              "4   11.311173\n",
              "..        ...\n",
              "95   5.441928\n",
              "96  10.121188\n",
              "97   9.787643\n",
              "98   8.061635\n",
              "99   9.597115\n",
              "\n",
              "[100 rows x 1 columns]"
            ],
            "text/html": [
              "\n",
              "  <div id=\"df-1061f538-aaf2-4542-8e59-4a28f9fc10e6\">\n",
              "    <div class=\"colab-df-container\">\n",
              "      <div>\n",
              "<style scoped>\n",
              "    .dataframe tbody tr th:only-of-type {\n",
              "        vertical-align: middle;\n",
              "    }\n",
              "\n",
              "    .dataframe tbody tr th {\n",
              "        vertical-align: top;\n",
              "    }\n",
              "\n",
              "    .dataframe thead th {\n",
              "        text-align: right;\n",
              "    }\n",
              "</style>\n",
              "<table border=\"1\" class=\"dataframe\">\n",
              "  <thead>\n",
              "    <tr style=\"text-align: right;\">\n",
              "      <th></th>\n",
              "      <th>0</th>\n",
              "    </tr>\n",
              "  </thead>\n",
              "  <tbody>\n",
              "    <tr>\n",
              "      <th>0</th>\n",
              "      <td>3.508550</td>\n",
              "    </tr>\n",
              "    <tr>\n",
              "      <th>1</th>\n",
              "      <td>8.050716</td>\n",
              "    </tr>\n",
              "    <tr>\n",
              "      <th>2</th>\n",
              "      <td>6.179208</td>\n",
              "    </tr>\n",
              "    <tr>\n",
              "      <th>3</th>\n",
              "      <td>6.337073</td>\n",
              "    </tr>\n",
              "    <tr>\n",
              "      <th>4</th>\n",
              "      <td>11.311173</td>\n",
              "    </tr>\n",
              "    <tr>\n",
              "      <th>...</th>\n",
              "      <td>...</td>\n",
              "    </tr>\n",
              "    <tr>\n",
              "      <th>95</th>\n",
              "      <td>5.441928</td>\n",
              "    </tr>\n",
              "    <tr>\n",
              "      <th>96</th>\n",
              "      <td>10.121188</td>\n",
              "    </tr>\n",
              "    <tr>\n",
              "      <th>97</th>\n",
              "      <td>9.787643</td>\n",
              "    </tr>\n",
              "    <tr>\n",
              "      <th>98</th>\n",
              "      <td>8.061635</td>\n",
              "    </tr>\n",
              "    <tr>\n",
              "      <th>99</th>\n",
              "      <td>9.597115</td>\n",
              "    </tr>\n",
              "  </tbody>\n",
              "</table>\n",
              "<p>100 rows × 1 columns</p>\n",
              "</div>\n",
              "      <button class=\"colab-df-convert\" onclick=\"convertToInteractive('df-1061f538-aaf2-4542-8e59-4a28f9fc10e6')\"\n",
              "              title=\"Convert this dataframe to an interactive table.\"\n",
              "              style=\"display:none;\">\n",
              "        \n",
              "  <svg xmlns=\"http://www.w3.org/2000/svg\" height=\"24px\"viewBox=\"0 0 24 24\"\n",
              "       width=\"24px\">\n",
              "    <path d=\"M0 0h24v24H0V0z\" fill=\"none\"/>\n",
              "    <path d=\"M18.56 5.44l.94 2.06.94-2.06 2.06-.94-2.06-.94-.94-2.06-.94 2.06-2.06.94zm-11 1L8.5 8.5l.94-2.06 2.06-.94-2.06-.94L8.5 2.5l-.94 2.06-2.06.94zm10 10l.94 2.06.94-2.06 2.06-.94-2.06-.94-.94-2.06-.94 2.06-2.06.94z\"/><path d=\"M17.41 7.96l-1.37-1.37c-.4-.4-.92-.59-1.43-.59-.52 0-1.04.2-1.43.59L10.3 9.45l-7.72 7.72c-.78.78-.78 2.05 0 2.83L4 21.41c.39.39.9.59 1.41.59.51 0 1.02-.2 1.41-.59l7.78-7.78 2.81-2.81c.8-.78.8-2.07 0-2.86zM5.41 20L4 18.59l7.72-7.72 1.47 1.35L5.41 20z\"/>\n",
              "  </svg>\n",
              "      </button>\n",
              "      \n",
              "  <style>\n",
              "    .colab-df-container {\n",
              "      display:flex;\n",
              "      flex-wrap:wrap;\n",
              "      gap: 12px;\n",
              "    }\n",
              "\n",
              "    .colab-df-convert {\n",
              "      background-color: #E8F0FE;\n",
              "      border: none;\n",
              "      border-radius: 50%;\n",
              "      cursor: pointer;\n",
              "      display: none;\n",
              "      fill: #1967D2;\n",
              "      height: 32px;\n",
              "      padding: 0 0 0 0;\n",
              "      width: 32px;\n",
              "    }\n",
              "\n",
              "    .colab-df-convert:hover {\n",
              "      background-color: #E2EBFA;\n",
              "      box-shadow: 0px 1px 2px rgba(60, 64, 67, 0.3), 0px 1px 3px 1px rgba(60, 64, 67, 0.15);\n",
              "      fill: #174EA6;\n",
              "    }\n",
              "\n",
              "    [theme=dark] .colab-df-convert {\n",
              "      background-color: #3B4455;\n",
              "      fill: #D2E3FC;\n",
              "    }\n",
              "\n",
              "    [theme=dark] .colab-df-convert:hover {\n",
              "      background-color: #434B5C;\n",
              "      box-shadow: 0px 1px 3px 1px rgba(0, 0, 0, 0.15);\n",
              "      filter: drop-shadow(0px 1px 2px rgba(0, 0, 0, 0.3));\n",
              "      fill: #FFFFFF;\n",
              "    }\n",
              "  </style>\n",
              "\n",
              "      <script>\n",
              "        const buttonEl =\n",
              "          document.querySelector('#df-1061f538-aaf2-4542-8e59-4a28f9fc10e6 button.colab-df-convert');\n",
              "        buttonEl.style.display =\n",
              "          google.colab.kernel.accessAllowed ? 'block' : 'none';\n",
              "\n",
              "        async function convertToInteractive(key) {\n",
              "          const element = document.querySelector('#df-1061f538-aaf2-4542-8e59-4a28f9fc10e6');\n",
              "          const dataTable =\n",
              "            await google.colab.kernel.invokeFunction('convertToInteractive',\n",
              "                                                     [key], {});\n",
              "          if (!dataTable) return;\n",
              "\n",
              "          const docLinkHtml = 'Like what you see? Visit the ' +\n",
              "            '<a target=\"_blank\" href=https://colab.research.google.com/notebooks/data_table.ipynb>data table notebook</a>'\n",
              "            + ' to learn more about interactive tables.';\n",
              "          element.innerHTML = '';\n",
              "          dataTable['output_type'] = 'display_data';\n",
              "          await google.colab.output.renderOutput(dataTable, element);\n",
              "          const docLink = document.createElement('div');\n",
              "          docLink.innerHTML = docLinkHtml;\n",
              "          element.appendChild(docLink);\n",
              "        }\n",
              "      </script>\n",
              "    </div>\n",
              "  </div>\n",
              "  "
            ]
          },
          "metadata": {},
          "execution_count": 4
        }
      ]
    },
    {
      "cell_type": "code",
      "metadata": {
        "colab": {
          "base_uri": "https://localhost:8080/"
        },
        "id": "x6XGt_iAVQwO",
        "outputId": "6136cfbf-1751-4131-fb99-d4ee7395786d"
      },
      "source": [
        "from sklearn.linear_model import LinearRegression\n",
        "\n",
        "linear_reg = LinearRegression(fit_intercept=True)\n",
        "linear_reg.fit(X, y)"
      ],
      "execution_count": 5,
      "outputs": [
        {
          "output_type": "execute_result",
          "data": {
            "text/plain": [
              "LinearRegression()"
            ]
          },
          "metadata": {},
          "execution_count": 5
        }
      ]
    },
    {
      "cell_type": "markdown",
      "metadata": {
        "id": "Hnm9YgjbVQwO"
      },
      "source": [
        "Plot the model's predictions:"
      ]
    },
    {
      "cell_type": "code",
      "metadata": {
        "id": "9NtrLfGGVQwP"
      },
      "source": [
        "#X_fit[]"
      ],
      "execution_count": 6,
      "outputs": []
    },
    {
      "cell_type": "code",
      "metadata": {
        "colab": {
          "base_uri": "https://localhost:8080/",
          "height": 287
        },
        "id": "1ZTT31igVQwP",
        "outputId": "20374e5a-bfe8-4546-8fe9-80ce36d42bea"
      },
      "source": [
        "# construct best fit line\n",
        "X_fit = np.linspace(0, 2, 100)\n",
        "y_fit = linear_reg.predict(X_fit[:, np.newaxis])\n",
        "\n",
        "plt.scatter(X, y)\n",
        "plt.plot(X_fit, y_fit, \"r-\", linewidth=2, label=\"Predictions\")\n",
        "plt.xlabel(\"$X$\", fontsize=18)\n",
        "plt.ylabel(\"$y$\", rotation=0, fontsize=18)\n",
        "plt.legend(loc=\"upper left\", fontsize=14);"
      ],
      "execution_count": 7,
      "outputs": [
        {
          "output_type": "display_data",
          "data": {
            "text/plain": [
              "<Figure size 432x288 with 1 Axes>"
            ],
            "image/png": "[encoded data removed]"
          },
          "metadata": {
            "needs_background": "light"
          }
        }
      ]
    },
    {
      "cell_type": "markdown",
      "metadata": {
        "id": "kIfOsEcWVQwP"
      },
      "source": [
        "Predictions are a good fit."
      ]
    },
    {
      "cell_type": "markdown",
      "metadata": {
        "id": "z2VYUeGrVQwQ"
      },
      "source": [
        "Generate new data to make predictions with the model:"
      ]
    },
    {
      "cell_type": "code",
      "metadata": {
        "colab": {
          "base_uri": "https://localhost:8080/"
        },
        "id": "FuEd0Wp0VQwQ",
        "outputId": "1c6feb48-ff1d-4b7e-df78-2e489b539add"
      },
      "source": [
        "X_new = np.array([[0], [2]])\n",
        "X_new"
      ],
      "execution_count": 8,
      "outputs": [
        {
          "output_type": "execute_result",
          "data": {
            "text/plain": [
              "array([[0],\n",
              "       [2]])"
            ]
          },
          "metadata": {},
          "execution_count": 8
        }
      ]
    },
    {
      "cell_type": "code",
      "metadata": {
        "colab": {
          "base_uri": "https://localhost:8080/"
        },
        "id": "lLCnLm7_VQwQ",
        "outputId": "142216c3-23b1-4433-8f8e-bc99e0f2c85f"
      },
      "source": [
        "X_new.shape"
      ],
      "execution_count": 9,
      "outputs": [
        {
          "output_type": "execute_result",
          "data": {
            "text/plain": [
              "(2, 1)"
            ]
          },
          "metadata": {},
          "execution_count": 9
        }
      ]
    },
    {
      "cell_type": "code",
      "metadata": {
        "colab": {
          "base_uri": "https://localhost:8080/"
        },
        "id": "zJIzUfZsVQwQ",
        "outputId": "16ab1279-4f2d-4d37-f294-b0d79976b481"
      },
      "source": [
        "y_new = linear_reg.predict(X_new)\n",
        "y_new"
      ],
      "execution_count": 10,
      "outputs": [
        {
          "output_type": "execute_result",
          "data": {
            "text/plain": [
              "array([[ 3.74406122],\n",
              "       [10.47517611]])"
            ]
          },
          "metadata": {},
          "execution_count": 10
        }
      ]
    },
    {
      "cell_type": "code",
      "metadata": {
        "colab": {
          "base_uri": "https://localhost:8080/"
        },
        "id": "ICiEnkbdVQwQ",
        "outputId": "bae658d8-8f91-4a0d-ee94-60f1ae3731f4"
      },
      "source": [
        "linear_reg.coef_, linear_reg.intercept_"
      ],
      "execution_count": 11,
      "outputs": [
        {
          "output_type": "execute_result",
          "data": {
            "text/plain": [
              "(array([[3.36555744]]), array([3.74406122]))"
            ]
          },
          "metadata": {},
          "execution_count": 11
        }
      ]
    },
    {
      "cell_type": "markdown",
      "metadata": {
        "id": "iBXzOecgVQwR"
      },
      "source": [
        "The model estimates:\n",
        "\n",
        "$\\hat{y} = 3.36X + 3.74$"
      ]
    },
    {
      "cell_type": "code",
      "metadata": {
        "id": "ZNvipq0wQYfj"
      },
      "source": [
        "#|VENTAS|GANANCIAS|\n",
        "#COEF*VENTAS+B\n",
        "#|VENTAS|COMPRAS|GANANCIAS|\n",
        "#COEF1*X1+COEF2*X2+B=Y"
      ],
      "execution_count": 12,
      "outputs": []
    },
    {
      "cell_type": "markdown",
      "metadata": {
        "id": "_Rv-RJSnVQwR"
      },
      "source": [
        "## Polynomial Regression\n",
        "\n",
        "If data is more complex than a straight line, you can use a linear model ti fit non-linear data adding powers of each feature as new features and then train a linear model on the extended set of features. "
      ]
    },
    {
      "cell_type": "markdown",
      "metadata": {
        "id": "dPrpAVsZVQwR"
      },
      "source": [
        "$$y = a_0 + a_1x_1 + a_2x_2 + a_3x_3 + ...$$ to $$y = a_0 + a_1x + a_2x^2 + a_3x^3+ ...$$ "
      ]
    },
    {
      "cell_type": "markdown",
      "metadata": {
        "id": "9kjMWzEfVQwR"
      },
      "source": [
        "This is still a linear model, the linearity refers to the fact that the coefficients never multiply or divide each other."
      ]
    },
    {
      "cell_type": "markdown",
      "metadata": {
        "id": "2M3fp_CSVQwR"
      },
      "source": [
        "To generate polynomial data we use the function:\n",
        "\n",
        "$y = 0.50X^2 + X + 2 + noise$"
      ]
    },
    {
      "cell_type": "code",
      "metadata": {
        "id": "sSrueMnPVQwR"
      },
      "source": [
        "# generate non-linear data e.g. quadratic equation\n",
        "m = 100\n",
        "X = 6 * np.random.rand(m, 1) - 3\n",
        "y = 0.5 * X**2 + X + 2 + np.random.randn(m, 1)"
      ],
      "execution_count": 13,
      "outputs": []
    },
    {
      "cell_type": "code",
      "metadata": {
        "colab": {
          "base_uri": "https://localhost:8080/",
          "height": 291
        },
        "id": "GNQQoXkMVQwS",
        "outputId": "dc96d628-c916-414f-8e36-9369e24817fe"
      },
      "source": [
        "plt.plot(X, y, \"b.\")\n",
        "plt.xlabel(\"$x_1$\", fontsize=18)\n",
        "plt.ylabel(\"$y$\", rotation=0, fontsize=18)\n",
        "plt.axis([-3, 3, 0, 10]);"
      ],
      "execution_count": 14,
      "outputs": [
        {
          "output_type": "display_data",
          "data": {
            "text/plain": [
              "<Figure size 432x288 with 1 Axes>"
            ],
            "image/png": "[encoded data removed]"
          },
          "metadata": {
            "needs_background": "light"
          }
        }
      ]
    },
    {
      "cell_type": "code",
      "source": [
        "import pandas as pd\n",
        "pd.DataFrame(y)"
      ],
      "metadata": {
        "id": "YtaK_dsidNcP",
        "outputId": "6d45c4e4-66fd-4ccc-e344-6cc8f99057ef",
        "colab": {
          "base_uri": "https://localhost:8080/",
          "height": 424
        }
      },
      "execution_count": 15,
      "outputs": [
        {
          "output_type": "execute_result",
          "data": {
            "text/plain": [
              "           0\n",
              "0   8.529240\n",
              "1   3.768929\n",
              "2   3.354423\n",
              "3   2.747935\n",
              "4   0.808458\n",
              "..       ...\n",
              "95  5.346771\n",
              "96  6.338229\n",
              "97  3.488785\n",
              "98  1.372002\n",
              "99 -0.072150\n",
              "\n",
              "[100 rows x 1 columns]"
            ],
            "text/html": [
              "\n",
              "  <div id=\"df-4144a660-dd8e-40c0-ba66-fd19bf3c4a62\">\n",
              "    <div class=\"colab-df-container\">\n",
              "      <div>\n",
              "<style scoped>\n",
              "    .dataframe tbody tr th:only-of-type {\n",
              "        vertical-align: middle;\n",
              "    }\n",
              "\n",
              "    .dataframe tbody tr th {\n",
              "        vertical-align: top;\n",
              "    }\n",
              "\n",
              "    .dataframe thead th {\n",
              "        text-align: right;\n",
              "    }\n",
              "</style>\n",
              "<table border=\"1\" class=\"dataframe\">\n",
              "  <thead>\n",
              "    <tr style=\"text-align: right;\">\n",
              "      <th></th>\n",
              "      <th>0</th>\n",
              "    </tr>\n",
              "  </thead>\n",
              "  <tbody>\n",
              "    <tr>\n",
              "      <th>0</th>\n",
              "      <td>8.529240</td>\n",
              "    </tr>\n",
              "    <tr>\n",
              "      <th>1</th>\n",
              "      <td>3.768929</td>\n",
              "    </tr>\n",
              "    <tr>\n",
              "      <th>2</th>\n",
              "      <td>3.354423</td>\n",
              "    </tr>\n",
              "    <tr>\n",
              "      <th>3</th>\n",
              "      <td>2.747935</td>\n",
              "    </tr>\n",
              "    <tr>\n",
              "      <th>4</th>\n",
              "      <td>0.808458</td>\n",
              "    </tr>\n",
              "    <tr>\n",
              "      <th>...</th>\n",
              "      <td>...</td>\n",
              "    </tr>\n",
              "    <tr>\n",
              "      <th>95</th>\n",
              "      <td>5.346771</td>\n",
              "    </tr>\n",
              "    <tr>\n",
              "      <th>96</th>\n",
              "      <td>6.338229</td>\n",
              "    </tr>\n",
              "    <tr>\n",
              "      <th>97</th>\n",
              "      <td>3.488785</td>\n",
              "    </tr>\n",
              "    <tr>\n",
              "      <th>98</th>\n",
              "      <td>1.372002</td>\n",
              "    </tr>\n",
              "    <tr>\n",
              "      <th>99</th>\n",
              "      <td>-0.072150</td>\n",
              "    </tr>\n",
              "  </tbody>\n",
              "</table>\n",
              "<p>100 rows × 1 columns</p>\n",
              "</div>\n",
              "      <button class=\"colab-df-convert\" onclick=\"convertToInteractive('df-4144a660-dd8e-40c0-ba66-fd19bf3c4a62')\"\n",
              "              title=\"Convert this dataframe to an interactive table.\"\n",
              "              style=\"display:none;\">\n",
              "        \n",
              "  <svg xmlns=\"http://www.w3.org/2000/svg\" height=\"24px\"viewBox=\"0 0 24 24\"\n",
              "       width=\"24px\">\n",
              "    <path d=\"M0 0h24v24H0V0z\" fill=\"none\"/>\n",
              "    <path d=\"M18.56 5.44l.94 2.06.94-2.06 2.06-.94-2.06-.94-.94-2.06-.94 2.06-2.06.94zm-11 1L8.5 8.5l.94-2.06 2.06-.94-2.06-.94L8.5 2.5l-.94 2.06-2.06.94zm10 10l.94 2.06.94-2.06 2.06-.94-2.06-.94-.94-2.06-.94 2.06-2.06.94z\"/><path d=\"M17.41 7.96l-1.37-1.37c-.4-.4-.92-.59-1.43-.59-.52 0-1.04.2-1.43.59L10.3 9.45l-7.72 7.72c-.78.78-.78 2.05 0 2.83L4 21.41c.39.39.9.59 1.41.59.51 0 1.02-.2 1.41-.59l7.78-7.78 2.81-2.81c.8-.78.8-2.07 0-2.86zM5.41 20L4 18.59l7.72-7.72 1.47 1.35L5.41 20z\"/>\n",
              "  </svg>\n",
              "      </button>\n",
              "      \n",
              "  <style>\n",
              "    .colab-df-container {\n",
              "      display:flex;\n",
              "      flex-wrap:wrap;\n",
              "      gap: 12px;\n",
              "    }\n",
              "\n",
              "    .colab-df-convert {\n",
              "      background-color: #E8F0FE;\n",
              "      border: none;\n",
              "      border-radius: 50%;\n",
              "      cursor: pointer;\n",
              "      display: none;\n",
              "      fill: #1967D2;\n",
              "      height: 32px;\n",
              "      padding: 0 0 0 0;\n",
              "      width: 32px;\n",
              "    }\n",
              "\n",
              "    .colab-df-convert:hover {\n",
              "      background-color: #E2EBFA;\n",
              "      box-shadow: 0px 1px 2px rgba(60, 64, 67, 0.3), 0px 1px 3px 1px rgba(60, 64, 67, 0.15);\n",
              "      fill: #174EA6;\n",
              "    }\n",
              "\n",
              "    [theme=dark] .colab-df-convert {\n",
              "      background-color: #3B4455;\n",
              "      fill: #D2E3FC;\n",
              "    }\n",
              "\n",
              "    [theme=dark] .colab-df-convert:hover {\n",
              "      background-color: #434B5C;\n",
              "      box-shadow: 0px 1px 3px 1px rgba(0, 0, 0, 0.15);\n",
              "      filter: drop-shadow(0px 1px 2px rgba(0, 0, 0, 0.3));\n",
              "      fill: #FFFFFF;\n",
              "    }\n",
              "  </style>\n",
              "\n",
              "      <script>\n",
              "        const buttonEl =\n",
              "          document.querySelector('#df-4144a660-dd8e-40c0-ba66-fd19bf3c4a62 button.colab-df-convert');\n",
              "        buttonEl.style.display =\n",
              "          google.colab.kernel.accessAllowed ? 'block' : 'none';\n",
              "\n",
              "        async function convertToInteractive(key) {\n",
              "          const element = document.querySelector('#df-4144a660-dd8e-40c0-ba66-fd19bf3c4a62');\n",
              "          const dataTable =\n",
              "            await google.colab.kernel.invokeFunction('convertToInteractive',\n",
              "                                                     [key], {});\n",
              "          if (!dataTable) return;\n",
              "\n",
              "          const docLinkHtml = 'Like what you see? Visit the ' +\n",
              "            '<a target=\"_blank\" href=https://colab.research.google.com/notebooks/data_table.ipynb>data table notebook</a>'\n",
              "            + ' to learn more about interactive tables.';\n",
              "          element.innerHTML = '';\n",
              "          dataTable['output_type'] = 'display_data';\n",
              "          await google.colab.output.renderOutput(dataTable, element);\n",
              "          const docLink = document.createElement('div');\n",
              "          docLink.innerHTML = docLinkHtml;\n",
              "          element.appendChild(docLink);\n",
              "        }\n",
              "      </script>\n",
              "    </div>\n",
              "  </div>\n",
              "  "
            ]
          },
          "metadata": {},
          "execution_count": 15
        }
      ]
    },
    {
      "cell_type": "markdown",
      "metadata": {
        "id": "vrZTRaLNVQwS"
      },
      "source": [
        "Now we can use `PolynomialFeatues` to transform training data adding the square of each feature as new features."
      ]
    },
    {
      "cell_type": "code",
      "metadata": {
        "id": "BXo0Hm56VQwS"
      },
      "source": [
        "from sklearn.preprocessing import PolynomialFeatures\n",
        "\n",
        "poly_features = PolynomialFeatures(degree=2, include_bias=False)\n",
        "X_poly = poly_features.fit_transform(X)"
      ],
      "execution_count": 16,
      "outputs": []
    },
    {
      "cell_type": "code",
      "metadata": {
        "colab": {
          "base_uri": "https://localhost:8080/"
        },
        "id": "1FqY9-I4VQwS",
        "outputId": "e79c7ecc-f2f7-447a-e6ca-4e905d2021cc"
      },
      "source": [
        "X_poly"
      ],
      "execution_count": 17,
      "outputs": [
        {
          "output_type": "execute_result",
          "data": {
            "text/plain": [
              "array([[ 2.72919168e+00,  7.44848725e+00],\n",
              "       [ 1.42738150e+00,  2.03741795e+00],\n",
              "       [ 3.26124315e-01,  1.06357069e-01],\n",
              "       [ 6.70324477e-01,  4.49334905e-01],\n",
              "       [-4.82399625e-01,  2.32709399e-01],\n",
              "       [-1.51361406e+00,  2.29102753e+00],\n",
              "       [-8.64163928e-01,  7.46779295e-01],\n",
              "       [ 1.54707666e+00,  2.39344620e+00],\n",
              "       [-2.91363907e+00,  8.48929262e+00],\n",
              "       [-2.30356416e+00,  5.30640783e+00],\n",
              "       [-2.72398415e+00,  7.42008964e+00],\n",
              "       [-2.75562719e+00,  7.59348119e+00],\n",
              "       [ 2.13276350e+00,  4.54868016e+00],\n",
              "       [ 1.22194716e+00,  1.49315485e+00],\n",
              "       [-1.54957025e-01,  2.40116797e-02],\n",
              "       [-2.41299504e+00,  5.82254504e+00],\n",
              "       [-5.03047493e-02,  2.53056780e-03],\n",
              "       [-1.59169375e-01,  2.53348900e-02],\n",
              "       [-1.96078878e+00,  3.84469264e+00],\n",
              "       [-3.96890105e-01,  1.57521755e-01],\n",
              "       [-6.08971594e-01,  3.70846402e-01],\n",
              "       [ 6.95100588e-01,  4.83164828e-01],\n",
              "       [ 8.10561905e-01,  6.57010602e-01],\n",
              "       [-2.72817594e+00,  7.44294397e+00],\n",
              "       [-7.52324312e-01,  5.65991871e-01],\n",
              "       [ 7.55159494e-01,  5.70265862e-01],\n",
              "       [ 1.88175515e-02,  3.54100244e-04],\n",
              "       [ 2.13893905e+00,  4.57506025e+00],\n",
              "       [ 9.52161790e-01,  9.06612074e-01],\n",
              "       [-2.02239344e+00,  4.09007522e+00],\n",
              "       [-2.57658752e+00,  6.63880323e+00],\n",
              "       [ 8.54515669e-01,  7.30197029e-01],\n",
              "       [-2.84093214e+00,  8.07089541e+00],\n",
              "       [ 5.14653488e-01,  2.64868212e-01],\n",
              "       [ 2.64138145e+00,  6.97689596e+00],\n",
              "       [ 4.52845067e-01,  2.05068655e-01],\n",
              "       [-6.70980443e-01,  4.50214755e-01],\n",
              "       [ 8.59729311e-01,  7.39134488e-01],\n",
              "       [-2.50482657e-01,  6.27415615e-02],\n",
              "       [ 2.73700736e-01,  7.49120928e-02],\n",
              "       [ 2.64878885e+00,  7.01608239e+00],\n",
              "       [-6.83384173e-01,  4.67013928e-01],\n",
              "       [ 2.76714338e+00,  7.65708250e+00],\n",
              "       [ 2.43210385e+00,  5.91512915e+00],\n",
              "       [-1.82525319e+00,  3.33154921e+00],\n",
              "       [-2.58383219e+00,  6.67618881e+00],\n",
              "       [-2.39533199e+00,  5.73761535e+00],\n",
              "       [-2.89066905e+00,  8.35596753e+00],\n",
              "       [-2.43334224e+00,  5.92115443e+00],\n",
              "       [ 1.09804064e+00,  1.20569325e+00],\n",
              "       [-2.57286811e+00,  6.61965031e+00],\n",
              "       [-1.08614622e+00,  1.17971361e+00],\n",
              "       [ 2.06925187e+00,  4.28180328e+00],\n",
              "       [-2.86036839e+00,  8.18170730e+00],\n",
              "       [ 1.88681090e+00,  3.56005536e+00],\n",
              "       [-1.30887135e+00,  1.71314421e+00],\n",
              "       [-2.29101103e+00,  5.24873156e+00],\n",
              "       [ 1.18042299e+00,  1.39339844e+00],\n",
              "       [ 7.73657081e-01,  5.98545278e-01],\n",
              "       [ 2.26483208e+00,  5.12946436e+00],\n",
              "       [ 1.41042626e+00,  1.98930224e+00],\n",
              "       [ 1.82088558e+00,  3.31562430e+00],\n",
              "       [-1.30779256e+00,  1.71032139e+00],\n",
              "       [-1.93536274e+00,  3.74562893e+00],\n",
              "       [ 1.50368851e+00,  2.26107913e+00],\n",
              "       [ 1.84100844e+00,  3.38931206e+00],\n",
              "       [ 2.94303085e+00,  8.66143060e+00],\n",
              "       [-5.24293939e-01,  2.74884134e-01],\n",
              "       [-7.67891485e-01,  5.89657333e-01],\n",
              "       [ 1.65847776e+00,  2.75054850e+00],\n",
              "       [-9.55178758e-01,  9.12366461e-01],\n",
              "       [ 2.58454395e+00,  6.67986745e+00],\n",
              "       [ 2.15047651e+00,  4.62454922e+00],\n",
              "       [-4.26035836e-01,  1.81506533e-01],\n",
              "       [ 1.50522641e+00,  2.26570654e+00],\n",
              "       [ 1.52725724e+00,  2.33251469e+00],\n",
              "       [-2.38125679e+00,  5.67038389e+00],\n",
              "       [ 2.41531744e+00,  5.83375834e+00],\n",
              "       [ 3.15142347e-02,  9.93146988e-04],\n",
              "       [ 1.95874480e+00,  3.83668118e+00],\n",
              "       [-1.07970239e+00,  1.16575726e+00],\n",
              "       [ 2.37313937e+00,  5.63179047e+00],\n",
              "       [-6.64789928e-01,  4.41945648e-01],\n",
              "       [-2.93497409e+00,  8.61407292e+00],\n",
              "       [ 2.43229186e+00,  5.91604369e+00],\n",
              "       [-2.45227994e+00,  6.01367690e+00],\n",
              "       [-1.08411817e+00,  1.17531222e+00],\n",
              "       [ 2.70037180e+00,  7.29200787e+00],\n",
              "       [ 2.70364288e+00,  7.30968483e+00],\n",
              "       [ 4.40627329e-01,  1.94152443e-01],\n",
              "       [ 7.91023273e-01,  6.25717818e-01],\n",
              "       [-3.09326868e-01,  9.56831113e-02],\n",
              "       [-1.24073537e+00,  1.53942426e+00],\n",
              "       [-1.02801273e+00,  1.05681017e+00],\n",
              "       [ 1.03511074e+00,  1.07145424e+00],\n",
              "       [ 1.51424718e+00,  2.29294451e+00],\n",
              "       [ 1.74947426e+00,  3.06066019e+00],\n",
              "       [ 1.73770886e+00,  3.01963207e+00],\n",
              "       [-2.45276338e+00,  6.01604821e+00],\n",
              "       [-3.34781718e-02,  1.12078799e-03]])"
            ]
          },
          "metadata": {},
          "execution_count": 17
        }
      ]
    },
    {
      "cell_type": "markdown",
      "metadata": {
        "id": "GrFMRU_eVQwS"
      },
      "source": [
        "`X_poly` now contains the original feature of X plus the square of the feature:"
      ]
    },
    {
      "cell_type": "code",
      "metadata": {
        "colab": {
          "base_uri": "https://localhost:8080/"
        },
        "id": "M8FH1dY2UwgN",
        "outputId": "2f16f130-a2e3-4ea9-f6c5-dc8ca9888b41"
      },
      "source": [
        "print(X[0])\n",
        "print(X[0]*X[0])\n"
      ],
      "execution_count": 18,
      "outputs": [
        {
          "output_type": "stream",
          "name": "stdout",
          "text": [
            "[2.72919168]\n",
            "[7.44848725]\n"
          ]
        }
      ]
    },
    {
      "cell_type": "code",
      "metadata": {
        "colab": {
          "base_uri": "https://localhost:8080/"
        },
        "id": "PSflPniWVQwT",
        "outputId": "87efcc3b-6727-4ac1-b101-28995b6a0ef6"
      },
      "source": [
        "X_poly[0]"
      ],
      "execution_count": 19,
      "outputs": [
        {
          "output_type": "execute_result",
          "data": {
            "text/plain": [
              "array([2.72919168, 7.44848725])"
            ]
          },
          "metadata": {},
          "execution_count": 19
        }
      ]
    },
    {
      "cell_type": "markdown",
      "metadata": {
        "id": "HaXjXg7FVQwT"
      },
      "source": [
        "Fit the model to this extended training data:"
      ]
    },
    {
      "cell_type": "code",
      "metadata": {
        "colab": {
          "base_uri": "https://localhost:8080/"
        },
        "id": "c0Qu93dgVQwT",
        "outputId": "9a81de5e-e567-4f8a-f05e-11fe6261576d"
      },
      "source": [
        "lin_reg = LinearRegression(fit_intercept=True)\n",
        "lin_reg.fit(X_poly, y)\n",
        "lin_reg.coef_, lin_reg.intercept_"
      ],
      "execution_count": 20,
      "outputs": [
        {
          "output_type": "execute_result",
          "data": {
            "text/plain": [
              "(array([[1.04271531, 0.50866711]]), array([2.01873554]))"
            ]
          },
          "metadata": {},
          "execution_count": 20
        }
      ]
    },
    {
      "cell_type": "markdown",
      "metadata": {
        "id": "rKOSwvnmVQwT"
      },
      "source": [
        "The model estimates:\n",
        "\n",
        "$\\hat{y} =  0.89X +0.48X^2 + 2.09$"
      ]
    },
    {
      "cell_type": "markdown",
      "metadata": {
        "id": "_EtZEKz5VQwT"
      },
      "source": [
        "Plot the data and the predictions:"
      ]
    },
    {
      "cell_type": "code",
      "metadata": {
        "colab": {
          "base_uri": "https://localhost:8080/",
          "height": 291
        },
        "id": "6Q8dHRgdVQwT",
        "outputId": "d3253f96-89f4-4cf7-89ab-d8db0ac5fac6"
      },
      "source": [
        "X_new=np.linspace(-3, 3, 100).reshape(100, 1)\n",
        "X_new_poly = poly_features.transform(X_new)\n",
        "y_new = lin_reg.predict(X_new_poly)\n",
        "plt.plot(X, y, \"b.\")\n",
        "plt.plot(X_new, y_new, \"r-\", linewidth=2, label=\"Predictions\")\n",
        "plt.xlabel(\"$x_1$\", fontsize=18)\n",
        "plt.ylabel(\"$y$\", rotation=0, fontsize=18)\n",
        "plt.legend(loc=\"upper left\", fontsize=14)\n",
        "plt.axis([-3, 3, 0, 10]);"
      ],
      "execution_count": 21,
      "outputs": [
        {
          "output_type": "display_data",
          "data": {
            "text/plain": [
              "<Figure size 432x288 with 1 Axes>"
            ],
            "image/png": "[encoded data removed]"
          },
          "metadata": {
            "needs_background": "light"
          }
        }
      ]
    },
    {
      "cell_type": "markdown",
      "source": [
        "## R square\n",
        "\n",
        "R² es una medida estadística de qué tan cerca están los datos de la línea de regresión ajustada. También se conoce como el coeficiente de determinación o el coeficiente de determinación múltiple para la regresión múltiple. Para decirlo en un lenguaje más simple, R² es una medida de ajuste para los modelos de regresión lineal.\n",
        "\n",
        "\n",
        "\n",
        "R² no indica si un modelo de regresión se ajusta adecuadamente a sus datos. Un buen modelo puede tener un valor R² bajo. Por otro lado, un modelo sesgado puede tener un valor alto de R².\n",
        "\n",
        " SSres + SSreg = SStot, R² = Explained variation / Total Variation\n",
        " \n",
        " ![image.png](https://i.stack.imgur.com/xb1VY.png)\n",
        " \n",
        "![image.png](https://3.bp.blogspot.com/-MFqQLwbGwd4/WMO7tz39beI/AAAAAAAAF9I/Bjpfohgv_5E4lu7HzHJBQtXsBM--byqPwCLcB/s1600/rsquared.png)\n"
      ],
      "metadata": {
        "id": "TIFwAtW1pc6h"
      }
    },
    {
      "cell_type": "markdown",
      "metadata": {
        "id": "nTKFj4x9LMXm"
      },
      "source": [
        "# Ejercicio 1\n",
        "\n",
        "Utiliza la base de datos de \n",
        "https://www.kaggle.com/vinicius150987/manufacturing-cost\n",
        "\n",
        "Suponga que trabaja como consultor de una empresa de nueva creación que busca desarrollar un modelo para estimar el costo de los bienes vendidos a medida que varían el volumen de producción (número de unidades producidas). La startup recopiló datos y le pidió que desarrollara un modelo para predecir su costo frente a la cantidad de unidades vendidas."
      ]
    },
    {
      "cell_type": "code",
      "metadata": {
        "colab": {
          "base_uri": "https://localhost:8080/",
          "height": 363
        },
        "id": "oTnErQOkL3oa",
        "outputId": "06f3f535-119b-42d0-ee04-a7e25577aeaa"
      },
      "source": [
        "import pandas as pd\n",
        "df = pd.read_csv('https://raw.githubusercontent.com/marypazrf/bdd/main/EconomiesOfScale.csv')\n",
        "df.sample(10)"
      ],
      "execution_count": 22,
      "outputs": [
        {
          "output_type": "execute_result",
          "data": {
            "text/plain": [
              "     Number of Units  Manufacturing Cost\n",
              "968         7.065653           27.804027\n",
              "212         3.372115           41.127212\n",
              "416         4.194513           43.832711\n",
              "677         5.068888           41.225741\n",
              "550         4.604122           37.569764\n",
              "764         5.389522           31.191501\n",
              "386         4.104190           42.988730\n",
              "339         3.942214           46.291435\n",
              "82          2.665856           48.578425\n",
              "487         4.399514           37.567914"
            ],
            "text/html": [
              "\n",
              "  <div id=\"df-833d90b3-6319-4541-9d32-f0290bc223e6\">\n",
              "    <div class=\"colab-df-container\">\n",
              "      <div>\n",
              "<style scoped>\n",
              "    .dataframe tbody tr th:only-of-type {\n",
              "        vertical-align: middle;\n",
              "    }\n",
              "\n",
              "    .dataframe tbody tr th {\n",
              "        vertical-align: top;\n",
              "    }\n",
              "\n",
              "    .dataframe thead th {\n",
              "        text-align: right;\n",
              "    }\n",
              "</style>\n",
              "<table border=\"1\" class=\"dataframe\">\n",
              "  <thead>\n",
              "    <tr style=\"text-align: right;\">\n",
              "      <th></th>\n",
              "      <th>Number of Units</th>\n",
              "      <th>Manufacturing Cost</th>\n",
              "    </tr>\n",
              "  </thead>\n",
              "  <tbody>\n",
              "    <tr>\n",
              "      <th>968</th>\n",
              "      <td>7.065653</td>\n",
              "      <td>27.804027</td>\n",
              "    </tr>\n",
              "    <tr>\n",
              "      <th>212</th>\n",
              "      <td>3.372115</td>\n",
              "      <td>41.127212</td>\n",
              "    </tr>\n",
              "    <tr>\n",
              "      <th>416</th>\n",
              "      <td>4.194513</td>\n",
              "      <td>43.832711</td>\n",
              "    </tr>\n",
              "    <tr>\n",
              "      <th>677</th>\n",
              "      <td>5.068888</td>\n",
              "      <td>41.225741</td>\n",
              "    </tr>\n",
              "    <tr>\n",
              "      <th>550</th>\n",
              "      <td>4.604122</td>\n",
              "      <td>37.569764</td>\n",
              "    </tr>\n",
              "    <tr>\n",
              "      <th>764</th>\n",
              "      <td>5.389522</td>\n",
              "      <td>31.191501</td>\n",
              "    </tr>\n",
              "    <tr>\n",
              "      <th>386</th>\n",
              "      <td>4.104190</td>\n",
              "      <td>42.988730</td>\n",
              "    </tr>\n",
              "    <tr>\n",
              "      <th>339</th>\n",
              "      <td>3.942214</td>\n",
              "      <td>46.291435</td>\n",
              "    </tr>\n",
              "    <tr>\n",
              "      <th>82</th>\n",
              "      <td>2.665856</td>\n",
              "      <td>48.578425</td>\n",
              "    </tr>\n",
              "    <tr>\n",
              "      <th>487</th>\n",
              "      <td>4.399514</td>\n",
              "      <td>37.567914</td>\n",
              "    </tr>\n",
              "  </tbody>\n",
              "</table>\n",
              "</div>\n",
              "      <button class=\"colab-df-convert\" onclick=\"convertToInteractive('df-833d90b3-6319-4541-9d32-f0290bc223e6')\"\n",
              "              title=\"Convert this dataframe to an interactive table.\"\n",
              "              style=\"display:none;\">\n",
              "        \n",
              "  <svg xmlns=\"http://www.w3.org/2000/svg\" height=\"24px\"viewBox=\"0 0 24 24\"\n",
              "       width=\"24px\">\n",
              "    <path d=\"M0 0h24v24H0V0z\" fill=\"none\"/>\n",
              "    <path d=\"M18.56 5.44l.94 2.06.94-2.06 2.06-.94-2.06-.94-.94-2.06-.94 2.06-2.06.94zm-11 1L8.5 8.5l.94-2.06 2.06-.94-2.06-.94L8.5 2.5l-.94 2.06-2.06.94zm10 10l.94 2.06.94-2.06 2.06-.94-2.06-.94-.94-2.06-.94 2.06-2.06.94z\"/><path d=\"M17.41 7.96l-1.37-1.37c-.4-.4-.92-.59-1.43-.59-.52 0-1.04.2-1.43.59L10.3 9.45l-7.72 7.72c-.78.78-.78 2.05 0 2.83L4 21.41c.39.39.9.59 1.41.59.51 0 1.02-.2 1.41-.59l7.78-7.78 2.81-2.81c.8-.78.8-2.07 0-2.86zM5.41 20L4 18.59l7.72-7.72 1.47 1.35L5.41 20z\"/>\n",
              "  </svg>\n",
              "      </button>\n",
              "      \n",
              "  <style>\n",
              "    .colab-df-container {\n",
              "      display:flex;\n",
              "      flex-wrap:wrap;\n",
              "      gap: 12px;\n",
              "    }\n",
              "\n",
              "    .colab-df-convert {\n",
              "      background-color: #E8F0FE;\n",
              "      border: none;\n",
              "      border-radius: 50%;\n",
              "      cursor: pointer;\n",
              "      display: none;\n",
              "      fill: #1967D2;\n",
              "      height: 32px;\n",
              "      padding: 0 0 0 0;\n",
              "      width: 32px;\n",
              "    }\n",
              "\n",
              "    .colab-df-convert:hover {\n",
              "      background-color: #E2EBFA;\n",
              "      box-shadow: 0px 1px 2px rgba(60, 64, 67, 0.3), 0px 1px 3px 1px rgba(60, 64, 67, 0.15);\n",
              "      fill: #174EA6;\n",
              "    }\n",
              "\n",
              "    [theme=dark] .colab-df-convert {\n",
              "      background-color: #3B4455;\n",
              "      fill: #D2E3FC;\n",
              "    }\n",
              "\n",
              "    [theme=dark] .colab-df-convert:hover {\n",
              "      background-color: #434B5C;\n",
              "      box-shadow: 0px 1px 3px 1px rgba(0, 0, 0, 0.15);\n",
              "      filter: drop-shadow(0px 1px 2px rgba(0, 0, 0, 0.3));\n",
              "      fill: #FFFFFF;\n",
              "    }\n",
              "  </style>\n",
              "\n",
              "      <script>\n",
              "        const buttonEl =\n",
              "          document.querySelector('#df-833d90b3-6319-4541-9d32-f0290bc223e6 button.colab-df-convert');\n",
              "        buttonEl.style.display =\n",
              "          google.colab.kernel.accessAllowed ? 'block' : 'none';\n",
              "\n",
              "        async function convertToInteractive(key) {\n",
              "          const element = document.querySelector('#df-833d90b3-6319-4541-9d32-f0290bc223e6');\n",
              "          const dataTable =\n",
              "            await google.colab.kernel.invokeFunction('convertToInteractive',\n",
              "                                                     [key], {});\n",
              "          if (!dataTable) return;\n",
              "\n",
              "          const docLinkHtml = 'Like what you see? Visit the ' +\n",
              "            '<a target=\"_blank\" href=https://colab.research.google.com/notebooks/data_table.ipynb>data table notebook</a>'\n",
              "            + ' to learn more about interactive tables.';\n",
              "          element.innerHTML = '';\n",
              "          dataTable['output_type'] = 'display_data';\n",
              "          await google.colab.output.renderOutput(dataTable, element);\n",
              "          const docLink = document.createElement('div');\n",
              "          docLink.innerHTML = docLinkHtml;\n",
              "          element.appendChild(docLink);\n",
              "        }\n",
              "      </script>\n",
              "    </div>\n",
              "  </div>\n",
              "  "
            ]
          },
          "metadata": {},
          "execution_count": 22
        }
      ]
    },
    {
      "cell_type": "code",
      "metadata": {
        "id": "14kGO5nkMGlV"
      },
      "source": [
        "X = df[['Number of Units']]\n",
        "y = df['Manufacturing Cost']"
      ],
      "execution_count": 23,
      "outputs": []
    },
    {
      "cell_type": "code",
      "source": [
        "len(X)"
      ],
      "metadata": {
        "id": "ksh_OrkjY3GW",
        "outputId": "160c8847-2653-4012-ee33-b0d1231d65d2",
        "colab": {
          "base_uri": "https://localhost:8080/"
        }
      },
      "execution_count": 24,
      "outputs": [
        {
          "output_type": "execute_result",
          "data": {
            "text/plain": [
              "1000"
            ]
          },
          "metadata": {},
          "execution_count": 24
        }
      ]
    },
    {
      "cell_type": "code",
      "source": [
        "y.describe"
      ],
      "metadata": {
        "colab": {
          "base_uri": "https://localhost:8080/"
        },
        "id": "bwR6SSqQDfC2",
        "outputId": "def85286-4b18-4b6a-8c6b-677e55b87f6d"
      },
      "execution_count": 25,
      "outputs": [
        {
          "output_type": "execute_result",
          "data": {
            "text/plain": [
              "<bound method NDFrame.describe of 0      95.066056\n",
              "1      96.531750\n",
              "2      73.661311\n",
              "3      95.566843\n",
              "4      98.777013\n",
              "         ...    \n",
              "995    23.855067\n",
              "996    27.536542\n",
              "997    25.973787\n",
              "998    25.138311\n",
              "999    21.547777\n",
              "Name: Manufacturing Cost, Length: 1000, dtype: float64>"
            ]
          },
          "metadata": {},
          "execution_count": 25
        }
      ]
    },
    {
      "cell_type": "code",
      "metadata": {
        "colab": {
          "base_uri": "https://localhost:8080/",
          "height": 282
        },
        "id": "idoEjfEhMoxk",
        "outputId": "a65386bc-310b-40aa-a2ad-a62b6aba5e25"
      },
      "source": [
        "plt.plot(X,y,'b.')"
      ],
      "execution_count": 26,
      "outputs": [
        {
          "output_type": "execute_result",
          "data": {
            "text/plain": [
              "[<matplotlib.lines.Line2D at 0x7f41206b02d0>]"
            ]
          },
          "metadata": {},
          "execution_count": 26
        },
        {
          "output_type": "display_data",
          "data": {
            "text/plain": [
              "<Figure size 432x288 with 1 Axes>"
            ],
            "image/png": "[encoded data removed]"
          },
          "metadata": {
            "needs_background": "light"
          }
        }
      ]
    },
    {
      "cell_type": "code",
      "source": [
        "from sklearn.model_selection import train_test_split\n",
        "\n",
        "# Split dataset into train and test\n",
        "X_train, X_test, y_train, y_test = train_test_split(X, y, test_size = 0.1, random_state = 101)\n",
        "X_train, X_val, y_train, y_val = train_test_split(X_train, y_train, test_size = X_test.shape[0]/X_train.shape[0], random_state = 101)\n",
        "\n",
        "print(f'Numero total de registros en la bdd: {len(X)}')\n",
        "print(\"*****\"*10)\n",
        "print(f'Numero total de registros en el training set: {len(X_train)}')\n",
        "print(f'Tamaño de X_train: {X_train.shape}')\n",
        "print(\"*****\"*10)\n",
        "print(f'Numero total de registros en el validation set: {len(X_val)}')\n",
        "print(f'Tamaño de X_val: {X_val.shape}')\n",
        "print(\"*****\"*10)\n",
        "print(f'Mumero total de registros en el test dataset: {len(X_test)}')\n",
        "print(f'Tamaño del X_test: {X_test.shape}')"
      ],
      "metadata": {
        "id": "AnNOn7Ho86FW",
        "outputId": "4953b688-6fda-41fa-d6d8-bca630d0c9cc",
        "colab": {
          "base_uri": "https://localhost:8080/"
        }
      },
      "execution_count": 42,
      "outputs": [
        {
          "output_type": "stream",
          "name": "stdout",
          "text": [
            "Numero total de registros en la bdd: 1000\n",
            "**************************************************\n",
            "Numero total de registros en el training set: 800\n",
            "Tamaño de X_train: (800, 1)\n",
            "**************************************************\n",
            "Numero total de registros en el validation set: 100\n",
            "Tamaño de X_val: (100, 1)\n",
            "**************************************************\n",
            "Mumero total de registros en el test dataset: 100\n",
            "Tamaño del X_test: (100, 1)\n"
          ]
        }
      ]
    },
    {
      "cell_type": "markdown",
      "source": [
        "##### Lineal model\n",
        "Equation:\n",
        "\n",
        "$\\hat{Y} = \\beta_0 + \\beta_1 X$\n",
        "\n",
        "Predicted cost = intercept + coefficient * number of units\n"
      ],
      "metadata": {
        "id": "QiLDG2p9-FTI"
      }
    },
    {
      "cell_type": "code",
      "source": [
        "# Lineal\n",
        "lin_reg = LinearRegression(fit_intercept=True)\n",
        "lin_reg.fit(X_train, y_train)\n",
        "print(f\"Equation: Cost = {lin_reg.intercept_:.3f} + {lin_reg.coef_[0]:.3f} * units\")\n",
        "\n",
        "y_pred = lin_reg.predict(X_train) # Save predictions"
      ],
      "metadata": {
        "id": "kMmOy97puOLE",
        "outputId": "60ce0c73-4903-41e8-d86f-cf47fb7ea862",
        "colab": {
          "base_uri": "https://localhost:8080/"
        }
      },
      "execution_count": 43,
      "outputs": [
        {
          "output_type": "stream",
          "name": "stdout",
          "text": [
            "Equation: Cost = 66.961 + -6.035 * units\n"
          ]
        }
      ]
    },
    {
      "cell_type": "code",
      "source": [
        "# Plot the prediction for at least the minimum and maximum value in X_train\n",
        "def plot_prediction(X_train, y_train, lin_reg):\n",
        "  X_new = np.linspace(X_train.min()[0]-1, X_train.max()[0]+1, 100).reshape(100, 1)\n",
        "  y_new = lin_reg.predict(X_new)\n",
        "  plt.plot(X_train, y_train, \"b.\") # Plot data\n",
        "  plt.plot(X_new, y_new, \"r-\", linewidth=2, label=\"Predictions\") # Plot linear predictions\n",
        "  plt.xlabel(\"$x_1$\", fontsize=18)\n",
        "  plt.ylabel(\"$y$\", rotation=0, fontsize=18)\n",
        "  plt.legend(fontsize=14)"
      ],
      "metadata": {
        "id": "-480k3hn_1GW"
      },
      "execution_count": 44,
      "outputs": []
    },
    {
      "cell_type": "code",
      "source": [
        "plot_prediction(X_train, y_train, lin_reg) # Predictions over training set"
      ],
      "metadata": {
        "colab": {
          "base_uri": "https://localhost:8080/",
          "height": 322
        },
        "id": "TPflohwbouOz",
        "outputId": "959540ad-8c73-43b4-bfe6-e32252c3216a"
      },
      "execution_count": 45,
      "outputs": [
        {
          "output_type": "stream",
          "name": "stderr",
          "text": [
            "/usr/local/lib/python3.7/dist-packages/sklearn/base.py:451: UserWarning: X does not have valid feature names, but LinearRegression was fitted with feature names\n",
            "  \"X does not have valid feature names, but\"\n"
          ]
        },
        {
          "output_type": "display_data",
          "data": {
            "text/plain": [
              "<Figure size 432x288 with 1 Axes>"
            ],
            "image/png": "[encoded data removed]"
          },
          "metadata": {
            "needs_background": "light"
          }
        }
      ]
    },
    {
      "cell_type": "code",
      "source": [
        "plot_prediction(X_val, y_val, lin_reg) # Predictions over validation set"
      ],
      "metadata": {
        "colab": {
          "base_uri": "https://localhost:8080/",
          "height": 322
        },
        "id": "z-lo9ouXqi23",
        "outputId": "bc4e721f-9ae1-49f6-c3ac-91afaacf5768"
      },
      "execution_count": 46,
      "outputs": [
        {
          "output_type": "stream",
          "name": "stderr",
          "text": [
            "/usr/local/lib/python3.7/dist-packages/sklearn/base.py:451: UserWarning: X does not have valid feature names, but LinearRegression was fitted with feature names\n",
            "  \"X does not have valid feature names, but\"\n"
          ]
        },
        {
          "output_type": "display_data",
          "data": {
            "text/plain": [
              "<Figure size 432x288 with 1 Axes>"
            ],
            "image/png": "[encoded data removed]"
          },
          "metadata": {
            "needs_background": "light"
          }
        }
      ]
    },
    {
      "cell_type": "code",
      "metadata": {
        "id": "-VDz4zLK9Q0K"
      },
      "source": [
        "from sklearn import metrics\n",
        "from sklearn.metrics import r2_score\n",
        "\n",
        "def print_metrics(y_train, y_pred):\n",
        "  print('Error medio Absoluto (MAE):', metrics.mean_absolute_error(y_train, y_pred))\n",
        "  print('Root Mean Squared Error:', np.sqrt(metrics.mean_squared_error(y_train, y_pred)))\n",
        "  print('r2_score',r2_score(y_train, y_pred))"
      ],
      "execution_count": 37,
      "outputs": []
    },
    {
      "cell_type": "code",
      "source": [
        "print_metrics(y_train, y_pred) # Predictions for training set"
      ],
      "metadata": {
        "colab": {
          "base_uri": "https://localhost:8080/"
        },
        "id": "K4ogrTNLpDpf",
        "outputId": "bc4f2f43-d780-4b8f-f86c-53331e13e888"
      },
      "execution_count": 47,
      "outputs": [
        {
          "output_type": "stream",
          "name": "stdout",
          "text": [
            "Error medio Absoluto (MAE): 4.969469710155378\n",
            "Root Mean Squared Error: 6.969298290853993\n",
            "r2_score 0.5686570337323267\n"
          ]
        }
      ]
    },
    {
      "cell_type": "code",
      "source": [
        "print_metrics(y_val, lin_reg.predict(X_val)) # Predictions for validation set"
      ],
      "metadata": {
        "colab": {
          "base_uri": "https://localhost:8080/"
        },
        "id": "5T6XoGq7qsF6",
        "outputId": "16f5af90-8f34-49fa-92b0-8f8fe16ef639"
      },
      "execution_count": 49,
      "outputs": [
        {
          "output_type": "stream",
          "name": "stdout",
          "text": [
            "Error medio Absoluto (MAE): 4.437241981496316\n",
            "Root Mean Squared Error: 5.76152640533818\n",
            "r2_score 0.6303166314712352\n"
          ]
        }
      ]
    },
    {
      "cell_type": "markdown",
      "source": [
        "#### Conclusiones modelo lineal\n",
        "En este caso el ajuste de un modelo lineal tiene una tendencia al underfitting, es decir, que la complejidad del modelo que se intenta modelar es mayor que la del modelo que estamos ajustando. Esto se nota claramente en la figura donde se grafican los datos originales y la predicción; de igual manera queda corroborado con el valor de la $R^2$, la cual apenas es de un 0.57 para el conjunto de training, mientras que para el de validation pareciera incrementar hasta un 0.63."
      ],
      "metadata": {
        "id": "BBhhaz3slVxX"
      }
    },
    {
      "cell_type": "markdown",
      "source": [
        "#### Polinomial model"
      ],
      "metadata": {
        "id": "Q2de83Qcl9Pp"
      }
    },
    {
      "cell_type": "code",
      "source": [
        "#polinomial\n",
        "from sklearn.preprocessing import PolynomialFeatures\n",
        "\n",
        "# Polinomial class for variable degree\n",
        "class PolyFit():\n",
        "  def __init__(self, X, y, degree):\n",
        "    self._degree = degree\n",
        "    self._poly_features = PolynomialFeatures(degree=degree, include_bias=False)\n",
        "    self.X = X\n",
        "    self.y = y\n",
        "    self.model = LinearRegression(fit_intercept=True)\n",
        "    # Train model\n",
        "    self._fit()\n",
        "\n",
        "  def _fit(self):\n",
        "    X_poly = self._poly_features.fit_transform(self.X)\n",
        "    self.model.fit(X_poly, self.y)\n",
        "\n",
        "  def plotPrediction(self, X=None, y=None):\n",
        "    if type(X) == type(None) or type(y) == type(None):\n",
        "      X = self.X\n",
        "      y = self.y\n",
        "    X_new = np.linspace(X.min()-1, X.max()+1, 100).reshape(100, 1)\n",
        "    X_new_poly = self._poly_features.fit_transform(X_new)\n",
        "    y_new = self.model.predict(X_new_poly)\n",
        "    plt.plot(X, y, \"b.\") # Plot data\n",
        "    plt.plot(X_new, y_new, \"r-\", linewidth=2, label=\"Predictions\") # Plot linear predictions\n",
        "    plt.xlabel(\"$x_1$\", fontsize=18)\n",
        "    plt.ylabel(\"$y$\", rotation=0, fontsize=18)\n",
        "    plt.legend(fontsize=14)\n",
        "    plt.show()\n",
        "\n",
        "  def print_metrics(self, X=None, y=None):\n",
        "    if type(X) == type(None) or type(y) == type(None):\n",
        "      X = self.X\n",
        "      y = self.y\n",
        "    X_poly = self._poly_features.fit_transform(X)\n",
        "    y_pred = self.model.predict(X_poly)\n",
        "    print('Error medio Absoluto (MAE):', metrics.mean_absolute_error(y, y_pred))\n",
        "    print('Root Mean Squared Error:', np.sqrt(metrics.mean_squared_error(y, y_pred)))\n",
        "    print('r2_score',r2_score(y, y_pred))\n",
        "\n",
        "  def print_equation(self):\n",
        "    print(f\"Equation: y_hat = {self.model.intercept_:.2f} + {' + '.join([f'{self.model.coef_[i-1]:.2f} X^{i}' for i in range(1, self._degree+1)])}\")"
      ],
      "metadata": {
        "id": "LWvfEDGKuoLJ"
      },
      "execution_count": 126,
      "outputs": []
    },
    {
      "cell_type": "markdown",
      "source": [
        "###### 2nd order model\n",
        "\n",
        "Equation:\n",
        "\n",
        "$\\hat{y} = \\beta_0 + \\beta_1 X + \\beta_2 X^2$"
      ],
      "metadata": {
        "id": "fjuENJuSuyuF"
      }
    },
    {
      "cell_type": "code",
      "source": [
        "# Train and evaluate a 2nd degree model\n",
        "degree = 2\n",
        "poly_reg = PolyFit(X_train, y_train, degree)\n",
        "poly_reg.print_equation()\n",
        "print('\\n' + '*' * 10 + \"Trainign set\" + '*' * 10)\n",
        "poly_reg.plotPrediction()\n",
        "poly_reg.print_metrics()\n",
        "print('\\n' + '*' * 10 + \"Validation set\" + '*' * 10)\n",
        "poly_reg.plotPrediction(X_val, y_val)\n",
        "poly_reg.print_metrics(X_val, y_val)"
      ],
      "metadata": {
        "colab": {
          "base_uri": "https://localhost:8080/",
          "height": 748
        },
        "id": "_59ASM4coZSx",
        "outputId": "fd81d10f-d58d-4053-829b-e06d2a6ff8b5"
      },
      "execution_count": 122,
      "outputs": [
        {
          "output_type": "stream",
          "name": "stdout",
          "text": [
            "Equation: y_hat = 89.17 + -16.56 X^1 + 1.14 X^2\n",
            "\n",
            "**********Trainign set**********\n"
          ]
        },
        {
          "output_type": "display_data",
          "data": {
            "text/plain": [
              "<Figure size 432x288 with 1 Axes>"
            ],
            "image/png": "[encoded data removed]"
          },
          "metadata": {
            "needs_background": "light"
          }
        },
        {
          "output_type": "stream",
          "name": "stdout",
          "text": [
            "Error medio Absoluto (MAE): 4.59885465552002\n",
            "Root Mean Squared Error: 6.253210308511435\n",
            "r2_score 0.6527432592008644\n",
            "\n",
            "**********Validation set**********\n"
          ]
        },
        {
          "output_type": "display_data",
          "data": {
            "text/plain": [
              "<Figure size 432x288 with 1 Axes>"
            ],
            "image/png": "[encoded data removed]"
          },
          "metadata": {
            "needs_background": "light"
          }
        },
        {
          "output_type": "stream",
          "name": "stdout",
          "text": [
            "Error medio Absoluto (MAE): 4.182277553039216\n",
            "Root Mean Squared Error: 5.390877677048845\n",
            "r2_score 0.6763513837694715\n"
          ]
        }
      ]
    },
    {
      "cell_type": "markdown",
      "source": [
        "###### 3rd order model\n",
        "\n",
        "Equation:\n",
        "\n",
        "$\\hat{y} = \\beta_0 + \\beta_1 X + \\beta_2 X^2 + \\beta_3 X^3$"
      ],
      "metadata": {
        "id": "eMGsmTghu9-Q"
      }
    },
    {
      "cell_type": "code",
      "source": [
        "# Train and evaluate a 3rd degree model\n",
        "degree = 3\n",
        "poly_reg = PolyFit(X_train, y_train, degree)\n",
        "poly_reg.print_equation()\n",
        "print('\\n' + '*' * 10 + \"Trainign set\" + '*' * 10)\n",
        "poly_reg.plotPrediction()\n",
        "poly_reg.print_metrics()\n",
        "print('\\n' + '*' * 10 + \"Validation set\" + '*' * 10)\n",
        "poly_reg.plotPrediction(X_val, y_val)\n",
        "poly_reg.print_metrics(X_val, y_val)"
      ],
      "metadata": {
        "colab": {
          "base_uri": "https://localhost:8080/",
          "height": 748
        },
        "id": "IEdysT8MuvM-",
        "outputId": "718eb2a7-cc7f-4f1e-9e60-dbc93c22f98c"
      },
      "execution_count": 123,
      "outputs": [
        {
          "output_type": "stream",
          "name": "stdout",
          "text": [
            "Equation: y_hat = 111.96 + -33.62 X^1 + 4.96 X^2 + -0.26 X^3\n",
            "\n",
            "**********Trainign set**********\n"
          ]
        },
        {
          "output_type": "display_data",
          "data": {
            "text/plain": [
              "<Figure size 432x288 with 1 Axes>"
            ],
            "image/png": "[encoded data removed]"
          },
          "metadata": {
            "needs_background": "light"
          }
        },
        {
          "output_type": "stream",
          "name": "stdout",
          "text": [
            "Error medio Absoluto (MAE): 4.5100752776590065\n",
            "Root Mean Squared Error: 6.02619680374973\n",
            "r2_score 0.677498873428832\n",
            "\n",
            "**********Validation set**********\n"
          ]
        },
        {
          "output_type": "display_data",
          "data": {
            "text/plain": [
              "<Figure size 432x288 with 1 Axes>"
            ],
            "image/png": "[encoded data removed]"
          },
          "metadata": {
            "needs_background": "light"
          }
        },
        {
          "output_type": "stream",
          "name": "stdout",
          "text": [
            "Error medio Absoluto (MAE): 4.2629608355337325\n",
            "Root Mean Squared Error: 5.485397779973247\n",
            "r2_score 0.6649026044663997\n"
          ]
        }
      ]
    },
    {
      "cell_type": "markdown",
      "source": [
        "###### 4th order model\n",
        "\n",
        "Equation:\n",
        "\n",
        "$\\hat{y} = \\beta_0 + \\beta_1 X + \\beta_2 X^2 + \\beta_3 X^3 + \\beta_4 X^4$"
      ],
      "metadata": {
        "id": "tJ5widHtwrxY"
      }
    },
    {
      "cell_type": "code",
      "source": [
        "# Train and evaluate a 4th degree model\n",
        "degree = 4\n",
        "poly_reg = PolyFit(X_train, y_train, degree)\n",
        "poly_reg.print_equation()\n",
        "print('\\n' + '*' * 10 + \"Trainign set\" + '*' * 10)\n",
        "poly_reg.plotPrediction()\n",
        "poly_reg.print_metrics()\n",
        "print('\\n' + '*' * 10 + \"Validation set\" + '*' * 10)\n",
        "poly_reg.plotPrediction(X_val, y_val)\n",
        "poly_reg.print_metrics(X_val, y_val)"
      ],
      "metadata": {
        "colab": {
          "base_uri": "https://localhost:8080/",
          "height": 748
        },
        "id": "nICkgNRGw0JI",
        "outputId": "9a65552e-28e9-4276-c81a-7ff3de695ebc"
      },
      "execution_count": 124,
      "outputs": [
        {
          "output_type": "stream",
          "name": "stdout",
          "text": [
            "Equation: y_hat = 136.20 + -58.72 X^1 + 13.64 X^2 + -1.48 X^3 + 0.06 X^4\n",
            "\n",
            "**********Trainign set**********\n"
          ]
        },
        {
          "output_type": "display_data",
          "data": {
            "text/plain": [
              "<Figure size 432x288 with 1 Axes>"
            ],
            "image/png": "[encoded data removed]"
          },
          "metadata": {
            "needs_background": "light"
          }
        },
        {
          "output_type": "stream",
          "name": "stdout",
          "text": [
            "Error medio Absoluto (MAE): 4.4663887858345985\n",
            "Root Mean Squared Error: 5.950976367885656\n",
            "r2_score 0.6854996987541998\n",
            "\n",
            "**********Validation set**********\n"
          ]
        },
        {
          "output_type": "display_data",
          "data": {
            "text/plain": [
              "<Figure size 432x288 with 1 Axes>"
            ],
            "image/png": "[encoded data removed]"
          },
          "metadata": {
            "needs_background": "light"
          }
        },
        {
          "output_type": "stream",
          "name": "stdout",
          "text": [
            "Error medio Absoluto (MAE): 4.337091303275591\n",
            "Root Mean Squared Error: 5.596207897436697\n",
            "r2_score 0.6512273030560729\n"
          ]
        }
      ]
    },
    {
      "cell_type": "markdown",
      "source": [
        "#### Conclusiones modelo polinomial\n",
        "\n",
        "En este caso, a pesar de que las métricas y la $R^2$ van mejorando conforme aumentamos el grado de la regresión polinomial para el set de training; sin embargo, el mismo comportamiento no se observa sobre el set de validation, lo que nos estaría hablando de un overfitting notorio entre los modelos a partir del 2do grado. En este caso, un polinomio de grado 2 parece ser la mejor aproximación del modelo."
      ],
      "metadata": {
        "id": "uA8jiuTRwbPR"
      }
    },
    {
      "cell_type": "markdown",
      "source": [
        "#### Lasso and Ridge regularizations"
      ],
      "metadata": {
        "id": "cmCsgfnRwi3P"
      }
    },
    {
      "cell_type": "code",
      "source": [
        "from sklearn.linear_model import Lasso, Ridge\n",
        "\n",
        "class RegularizationFit(PolyFit):\n",
        "  def __init__(self, X, y, degree, model):\n",
        "    super().__init__(X, y, degree) # Same as before\n",
        "    self.model = model # Update model and fit it with the data\n",
        "    self._fit()"
      ],
      "metadata": {
        "id": "pg_rVxKzwfly"
      },
      "execution_count": 137,
      "outputs": []
    },
    {
      "cell_type": "code",
      "source": [
        "# Train and evaluate with Lasso model\n",
        "model = Lasso(alpha=1)\n",
        "lasso_fit = RegularizationFit(X_train, y_train, 2, model)\n",
        "lasso_fit.print_equation()\n",
        "print('\\n' + '*' * 10 + \"Trainign set\" + '*' * 10)\n",
        "lasso_fit.plotPrediction()\n",
        "lasso_fit.print_metrics()\n",
        "print('\\n' + '*' * 10 + \"Validation set\" + '*' * 10)\n",
        "lasso_fit.plotPrediction(X_val, y_val)\n",
        "lasso_fit.print_metrics(X_val, y_val)"
      ],
      "metadata": {
        "colab": {
          "base_uri": "https://localhost:8080/",
          "height": 748
        },
        "id": "AXZJESd-0ZKl",
        "outputId": "72a74b1a-88c8-4652-9c55-6f1a8c919dac"
      },
      "execution_count": 153,
      "outputs": [
        {
          "output_type": "stream",
          "name": "stdout",
          "text": [
            "Equation: y_hat = 64.41 + -5.47 X^1 + -0.00 X^2\n",
            "\n",
            "**********Trainign set**********\n"
          ]
        },
        {
          "output_type": "display_data",
          "data": {
            "text/plain": [
              "<Figure size 432x288 with 1 Axes>"
            ],
            "image/png": "[encoded data removed]"
          },
          "metadata": {
            "needs_background": "light"
          }
        },
        {
          "output_type": "stream",
          "name": "stdout",
          "text": [
            "Error medio Absoluto (MAE): 4.90648577402427\n",
            "Root Mean Squared Error: 7.009985133641719\n",
            "r2_score 0.5636059622404205\n",
            "\n",
            "**********Validation set**********\n"
          ]
        },
        {
          "output_type": "display_data",
          "data": {
            "text/plain": [
              "<Figure size 432x288 with 1 Axes>"
            ],
            "image/png": "[encoded data removed]"
          },
          "metadata": {
            "needs_background": "light"
          }
        },
        {
          "output_type": "stream",
          "name": "stdout",
          "text": [
            "Error medio Absoluto (MAE): 4.453068165672188\n",
            "Root Mean Squared Error: 5.740464688553903\n",
            "r2_score 0.6330145050507627\n"
          ]
        }
      ]
    },
    {
      "cell_type": "code",
      "source": [
        "# Train and evaluate with Ridge model\n",
        "model = Ridge(alpha=1)\n",
        "lasso_fit = RegularizationFit(X_train, y_train, 2, model)\n",
        "lasso_fit.print_equation()\n",
        "print('\\n' + '*' * 10 + \"Trainign set\" + '*' * 10)\n",
        "lasso_fit.plotPrediction()\n",
        "lasso_fit.print_metrics()\n",
        "print('\\n' + '*' * 10 + \"Validation set\" + '*' * 10)\n",
        "lasso_fit.plotPrediction(X_val, y_val)\n",
        "lasso_fit.print_metrics(X_val, y_val)"
      ],
      "metadata": {
        "colab": {
          "base_uri": "https://localhost:8080/",
          "height": 748
        },
        "id": "8_bQ8rfx2N2x",
        "outputId": "9c2cf431-990b-4019-b799-e65dfff11d47"
      },
      "execution_count": 154,
      "outputs": [
        {
          "output_type": "stream",
          "name": "stdout",
          "text": [
            "Equation: y_hat = 88.61 + -16.31 X^1 + 1.12 X^2\n",
            "\n",
            "**********Trainign set**********\n"
          ]
        },
        {
          "output_type": "display_data",
          "data": {
            "text/plain": [
              "<Figure size 432x288 with 1 Axes>"
            ],
            "image/png": "[encoded data removed]"
          },
          "metadata": {
            "needs_background": "light"
          }
        },
        {
          "output_type": "stream",
          "name": "stdout",
          "text": [
            "Error medio Absoluto (MAE): 4.593453206110691\n",
            "Root Mean Squared Error: 6.253624293385659\n",
            "r2_score 0.6526972784038814\n",
            "\n",
            "**********Validation set**********\n"
          ]
        },
        {
          "output_type": "display_data",
          "data": {
            "text/plain": [
              "<Figure size 432x288 with 1 Axes>"
            ],
            "image/png": "[encoded data removed]"
          },
          "metadata": {
            "needs_background": "light"
          }
        },
        {
          "output_type": "stream",
          "name": "stdout",
          "text": [
            "Error medio Absoluto (MAE): 4.175191740447853\n",
            "Root Mean Squared Error: 5.385957520020391\n",
            "r2_score 0.6769418907076439\n"
          ]
        }
      ]
    },
    {
      "cell_type": "markdown",
      "source": [
        "#### Plot metrics"
      ],
      "metadata": {
        "id": "rRUk5yKd377q"
      }
    },
    {
      "cell_type": "code",
      "source": [
        "class RegularizationFitMetrics(RegularizationFit):\n",
        "  def _predict(self, X=None):\n",
        "    if type(X) == type(None):\n",
        "      X = self.X\n",
        "    X_poly = self._poly_features.fit_transform(X)\n",
        "    return self.model.predict(X_poly)\n",
        "  \n",
        "  def _mae(self, X=None, y=None):\n",
        "    if type(X) == type(None) or type(y) == type(None):\n",
        "      y = self.y\n",
        "      y_pred = self._predict()\n",
        "    else:\n",
        "      y_pred = self._predict(X)\n",
        "    return metrics.mean_absolute_error(y, y_pred)\n",
        "    \n",
        "  def _rmse(self, X=None, y=None):\n",
        "    if type(X) == type(None) or type(y) == type(None):\n",
        "      y = self.y\n",
        "      y_pred = self._predict()\n",
        "    else:\n",
        "      y_pred = self._predict(X)\n",
        "    return np.sqrt(metrics.mean_squared_error(y, y_pred))\n",
        "\n",
        "  def _rsquared(self, X=None, y=None):\n",
        "    if type(X) == type(None) or type(y) == type(None):\n",
        "      y = self.y\n",
        "      y_pred = self._predict()\n",
        "    else:\n",
        "      y_pred = self._predict(X)\n",
        "    return r2_score(y, y_pred)"
      ],
      "metadata": {
        "id": "ltKUF_E63-rc"
      },
      "execution_count": 145,
      "outputs": []
    },
    {
      "cell_type": "code",
      "source": [
        "models = {\n",
        "    \"Linear\": (LinearRegression(fit_intercept=True), 1),\n",
        "    \"Polinomial\": (LinearRegression(fit_intercept=True), 2),\n",
        "    \"Lasso\": (Lasso(alpha=1), 4),\n",
        "    \"Ridge\": (Ridge(alpha=1), 4),\n",
        "    }\n",
        "\n",
        "train_metrics = {k: [] for k in [\"MAE\", \"RMSE\", \"R2\"]}\n",
        "val_metrics = {k: [] for k in [\"MAE\", \"RMSE\", \"R2\"]}\n",
        "for m, values in models.items():\n",
        "  model_fit = RegularizationFitMetrics(X_train, y_train, values[1], values[0])\n",
        "  train_metrics[\"MAE\"].append(model_fit._mae())\n",
        "  val_metrics[\"MAE\"].append(model_fit._mae(X_val, y_val))\n",
        "  train_metrics[\"RMSE\"].append(model_fit._rmse())\n",
        "  val_metrics[\"RMSE\"].append(model_fit._rmse(X_val, y_val))\n",
        "  train_metrics[\"R2\"].append(model_fit._rsquared())\n",
        "  val_metrics[\"R2\"].append(model_fit._rsquared(X_val, y_val))"
      ],
      "metadata": {
        "colab": {
          "base_uri": "https://localhost:8080/"
        },
        "id": "cCtFCUYa2spN",
        "outputId": "4bba3a29-2005-4c0d-e051-712c7515a99a"
      },
      "execution_count": 155,
      "outputs": [
        {
          "output_type": "stream",
          "name": "stderr",
          "text": [
            "/usr/local/lib/python3.7/dist-packages/sklearn/linear_model/_coordinate_descent.py:648: ConvergenceWarning: Objective did not converge. You might want to increase the number of iterations, check the scale of the features or consider increasing regularisation. Duality gap: 4.049e+03, tolerance: 9.008e+00\n",
            "  coef_, l1_reg, l2_reg, X, y, max_iter, tol, rng, random, positive\n"
          ]
        }
      ]
    },
    {
      "cell_type": "code",
      "source": [
        "df_train = pd.DataFrame(train_metrics)\n",
        "df_train[\"model\"] = models.keys()\n",
        "\n",
        "df_val = pd.DataFrame(val_metrics)\n",
        "df_val[\"model\"] = models.keys()"
      ],
      "metadata": {
        "id": "p0cdRJES691R"
      },
      "execution_count": 160,
      "outputs": []
    },
    {
      "cell_type": "code",
      "source": [
        "import seaborn as sns\n",
        "\n",
        "plt.figure(figsize=(10, 10))\n",
        "plt.subplot(2, 2, 1)\n",
        "sns.barplot(data=df_train, y=\"MAE\", x=\"model\")\n",
        "plt.title(\"MAE\")\n",
        "plt.subplot(2, 2, 2)\n",
        "sns.barplot(data=df_train, y=\"RMSE\", x=\"model\")\n",
        "plt.title(\"RMSE\")\n",
        "plt.subplot(2, 2, 3)\n",
        "sns.barplot(data=df_train, y=\"R2\", x=\"model\")\n",
        "plt.title(\"$R^2$\")\n",
        "plt.show()"
      ],
      "metadata": {
        "colab": {
          "base_uri": "https://localhost:8080/",
          "height": 621
        },
        "id": "rTPdaNZA7P2D",
        "outputId": "b338266d-4a86-46ae-f838-a2507bd9dc3b"
      },
      "execution_count": 171,
      "outputs": [
        {
          "output_type": "display_data",
          "data": {
            "text/plain": [
              "<Figure size 720x720 with 3 Axes>"
            ],
            "image/png": "[encoded data removed]"
          },
          "metadata": {
            "needs_background": "light"
          }
        }
      ]
    },
    {
      "cell_type": "code",
      "source": [
        "plt.figure(figsize=(10, 10))\n",
        "plt.subplot(2, 2, 1)\n",
        "sns.barplot(data=df_val, y=\"MAE\", x=\"model\")\n",
        "plt.title(\"MAE\")\n",
        "plt.subplot(2, 2, 2)\n",
        "sns.barplot(data=df_val, y=\"RMSE\", x=\"model\")\n",
        "plt.title(\"RMSE\")\n",
        "plt.subplot(2, 2, 3)\n",
        "sns.barplot(data=df_val, y=\"R2\", x=\"model\")\n",
        "plt.title(\"$R^2$\")\n",
        "plt.show()"
      ],
      "metadata": {
        "colab": {
          "base_uri": "https://localhost:8080/",
          "height": 621
        },
        "id": "mxZwMhs_83mA",
        "outputId": "fcb462f4-a385-4e56-f176-5c02af5bdc08"
      },
      "execution_count": 172,
      "outputs": [
        {
          "output_type": "display_data",
          "data": {
            "text/plain": [
              "<Figure size 720x720 with 3 Axes>"
            ],
            "image/png": "[encoded data removed]"
          },
          "metadata": {
            "needs_background": "light"
          }
        }
      ]
    },
    {
      "cell_type": "markdown",
      "source": [
        "#### Conclusiones\n",
        "\n",
        "Se puede observar que el mejor modleo es el de regularización Ridge, el cual minimiza los valores de las potencias mayores, por tanto es muy similar a un polinomial, aunque con mayor penzalización a aquellos que llevan a cabo un overfitting.\n",
        "\n",
        "Se ocuparon 80% de los datos para entrenamiento, 10% para validación y el 10% restante como set de test. Los errores se despliegan en las celdas anteriores, donde se puede apreciar que en general tiene un rango de [4, 5] para el MAE y [5, 6] para el RMSE.\n",
        "\n",
        "En este caso los modelos son buenos para describir el fenómeno, aunque no son excelentes, ya que apenas obtuvieron un $R^2$ cercana al 0.7 como máximo."
      ],
      "metadata": {
        "id": "n4RL0HzA8iXF"
      }
    },
    {
      "cell_type": "markdown",
      "metadata": {
        "id": "CfqcmLmxLoe9"
      },
      "source": [
        "#Ejercicio 2\n",
        "Realiza la regresión polinomial de los siguientes datos:"
      ]
    },
    {
      "cell_type": "code",
      "source": [
        "df = pd.read_csv('https://raw.githubusercontent.com/marypazrf/bdd/main/kc_house_data.csv')\n",
        "df.sample(10)"
      ],
      "metadata": {
        "id": "57bn0j38qGrg",
        "colab": {
          "base_uri": "https://localhost:8080/",
          "height": 456
        },
        "outputId": "5cf112fb-2b7d-4b77-f581-612b97fd4314"
      },
      "execution_count": 173,
      "outputs": [
        {
          "output_type": "execute_result",
          "data": {
            "text/plain": [
              "               id             date     price  bedrooms  bathrooms  \\\n",
              "5826   1773101159  20150107T000000  250000.0         3       2.25   \n",
              "19234  1324079029  20150317T000000  200000.0         3       1.00   \n",
              "8642   9144100298  20150302T000000  380000.0         3       1.00   \n",
              "5814   1922069071  20150424T000000  411000.0         4       1.75   \n",
              "971    2009001600  20150506T000000  265000.0         3       1.00   \n",
              "5331   3629930170  20140514T000000  723000.0         4       2.50   \n",
              "8564   8645510230  20140529T000000  332000.0         3       2.25   \n",
              "16547   526059259  20140819T000000  335500.0         3       1.75   \n",
              "19682  2523039346  20150218T000000  720000.0         4       3.25   \n",
              "15095  2141500020  20141217T000000  500000.0         4       2.50   \n",
              "\n",
              "       sqft_living  sqft_lot  floors  waterfront  view  ...  grade  \\\n",
              "5826          1050       572     2.0           0     0  ...      7   \n",
              "19234          960    213008     1.0           0     0  ...      6   \n",
              "8642          1260      7980     1.0           0     0  ...      7   \n",
              "5814          2250    292288     1.0           0     0  ...      7   \n",
              "971           1070      9000     1.0           0     0  ...      7   \n",
              "5331          2700      4004     2.0           0     0  ...      9   \n",
              "8564          2270      8876     1.0           0     0  ...      7   \n",
              "16547         1260      8487     1.0           0     0  ...      7   \n",
              "19682         3276     10801     2.0           0     0  ...      9   \n",
              "15095         2230      8560     2.0           0     0  ...      8   \n",
              "\n",
              "       sqft_above  sqft_basement  yr_built  yr_renovated  zipcode      lat  \\\n",
              "5826          740            310      2006             0    98106  47.5549   \n",
              "19234         960              0      1933             0    98024  47.5621   \n",
              "8642         1260              0      1951             0    98177  47.7013   \n",
              "5814         2250              0      1963             0    98042  47.3787   \n",
              "971          1070              0      1950             0    98198  47.4061   \n",
              "5331         2700              0      2004             0    98029  47.5521   \n",
              "8564         1380            890      1977             0    98058  47.4653   \n",
              "16547        1260              0      1970             0    98011  47.7664   \n",
              "19682        3276              0      2008             0    98166  47.4585   \n",
              "15095        2230              0      2002             0    98059  47.4877   \n",
              "\n",
              "          long  sqft_living15  sqft_lot15  \n",
              "5826  -122.363           1260        1062  \n",
              "19234 -121.862           1520       57499  \n",
              "8642  -122.373           1760        7606  \n",
              "5814  -122.091           1550       23798  \n",
              "971   -122.330           1840       12000  \n",
              "5331  -121.995           2260        4459  \n",
              "8564  -122.176           2150        7455  \n",
              "16547 -122.201           1890       13051  \n",
              "19682 -122.361           2010       11656  \n",
              "15095 -122.143           2400        7756  \n",
              "\n",
              "[10 rows x 21 columns]"
            ],
            "text/html": [
              "\n",
              "  <div id=\"df-1a6f48b1-6506-4fbc-8602-2048ef31a614\">\n",
              "    <div class=\"colab-df-container\">\n",
              "      <div>\n",
              "<style scoped>\n",
              "    .dataframe tbody tr th:only-of-type {\n",
              "        vertical-align: middle;\n",
              "    }\n",
              "\n",
              "    .dataframe tbody tr th {\n",
              "        vertical-align: top;\n",
              "    }\n",
              "\n",
              "    .dataframe thead th {\n",
              "        text-align: right;\n",
              "    }\n",
              "</style>\n",
              "<table border=\"1\" class=\"dataframe\">\n",
              "  <thead>\n",
              "    <tr style=\"text-align: right;\">\n",
              "      <th></th>\n",
              "      <th>id</th>\n",
              "      <th>date</th>\n",
              "      <th>price</th>\n",
              "      <th>bedrooms</th>\n",
              "      <th>bathrooms</th>\n",
              "      <th>sqft_living</th>\n",
              "      <th>sqft_lot</th>\n",
              "      <th>floors</th>\n",
              "      <th>waterfront</th>\n",
              "      <th>view</th>\n",
              "      <th>...</th>\n",
              "      <th>grade</th>\n",
              "      <th>sqft_above</th>\n",
              "      <th>sqft_basement</th>\n",
              "      <th>yr_built</th>\n",
              "      <th>yr_renovated</th>\n",
              "      <th>zipcode</th>\n",
              "      <th>lat</th>\n",
              "      <th>long</th>\n",
              "      <th>sqft_living15</th>\n",
              "      <th>sqft_lot15</th>\n",
              "    </tr>\n",
              "  </thead>\n",
              "  <tbody>\n",
              "    <tr>\n",
              "      <th>5826</th>\n",
              "      <td>1773101159</td>\n",
              "      <td>20150107T000000</td>\n",
              "      <td>250000.0</td>\n",
              "      <td>3</td>\n",
              "      <td>2.25</td>\n",
              "      <td>1050</td>\n",
              "      <td>572</td>\n",
              "      <td>2.0</td>\n",
              "      <td>0</td>\n",
              "      <td>0</td>\n",
              "      <td>...</td>\n",
              "      <td>7</td>\n",
              "      <td>740</td>\n",
              "      <td>310</td>\n",
              "      <td>2006</td>\n",
              "      <td>0</td>\n",
              "      <td>98106</td>\n",
              "      <td>47.5549</td>\n",
              "      <td>-122.363</td>\n",
              "      <td>1260</td>\n",
              "      <td>1062</td>\n",
              "    </tr>\n",
              "    <tr>\n",
              "      <th>19234</th>\n",
              "      <td>1324079029</td>\n",
              "      <td>20150317T000000</td>\n",
              "      <td>200000.0</td>\n",
              "      <td>3</td>\n",
              "      <td>1.00</td>\n",
              "      <td>960</td>\n",
              "      <td>213008</td>\n",
              "      <td>1.0</td>\n",
              "      <td>0</td>\n",
              "      <td>0</td>\n",
              "      <td>...</td>\n",
              "      <td>6</td>\n",
              "      <td>960</td>\n",
              "      <td>0</td>\n",
              "      <td>1933</td>\n",
              "      <td>0</td>\n",
              "      <td>98024</td>\n",
              "      <td>47.5621</td>\n",
              "      <td>-121.862</td>\n",
              "      <td>1520</td>\n",
              "      <td>57499</td>\n",
              "    </tr>\n",
              "    <tr>\n",
              "      <th>8642</th>\n",
              "      <td>9144100298</td>\n",
              "      <td>20150302T000000</td>\n",
              "      <td>380000.0</td>\n",
              "      <td>3</td>\n",
              "      <td>1.00</td>\n",
              "      <td>1260</td>\n",
              "      <td>7980</td>\n",
              "      <td>1.0</td>\n",
              "      <td>0</td>\n",
              "      <td>0</td>\n",
              "      <td>...</td>\n",
              "      <td>7</td>\n",
              "      <td>1260</td>\n",
              "      <td>0</td>\n",
              "      <td>1951</td>\n",
              "      <td>0</td>\n",
              "      <td>98177</td>\n",
              "      <td>47.7013</td>\n",
              "      <td>-122.373</td>\n",
              "      <td>1760</td>\n",
              "      <td>7606</td>\n",
              "    </tr>\n",
              "    <tr>\n",
              "      <th>5814</th>\n",
              "      <td>1922069071</td>\n",
              "      <td>20150424T000000</td>\n",
              "      <td>411000.0</td>\n",
              "      <td>4</td>\n",
              "      <td>1.75</td>\n",
              "      <td>2250</td>\n",
              "      <td>292288</td>\n",
              "      <td>1.0</td>\n",
              "      <td>0</td>\n",
              "      <td>0</td>\n",
              "      <td>...</td>\n",
              "      <td>7</td>\n",
              "      <td>2250</td>\n",
              "      <td>0</td>\n",
              "      <td>1963</td>\n",
              "      <td>0</td>\n",
              "      <td>98042</td>\n",
              "      <td>47.3787</td>\n",
              "      <td>-122.091</td>\n",
              "      <td>1550</td>\n",
              "      <td>23798</td>\n",
              "    </tr>\n",
              "    <tr>\n",
              "      <th>971</th>\n",
              "      <td>2009001600</td>\n",
              "      <td>20150506T000000</td>\n",
              "      <td>265000.0</td>\n",
              "      <td>3</td>\n",
              "      <td>1.00</td>\n",
              "      <td>1070</td>\n",
              "      <td>9000</td>\n",
              "      <td>1.0</td>\n",
              "      <td>0</td>\n",
              "      <td>0</td>\n",
              "      <td>...</td>\n",
              "      <td>7</td>\n",
              "      <td>1070</td>\n",
              "      <td>0</td>\n",
              "      <td>1950</td>\n",
              "      <td>0</td>\n",
              "      <td>98198</td>\n",
              "      <td>47.4061</td>\n",
              "      <td>-122.330</td>\n",
              "      <td>1840</td>\n",
              "      <td>12000</td>\n",
              "    </tr>\n",
              "    <tr>\n",
              "      <th>5331</th>\n",
              "      <td>3629930170</td>\n",
              "      <td>20140514T000000</td>\n",
              "      <td>723000.0</td>\n",
              "      <td>4</td>\n",
              "      <td>2.50</td>\n",
              "      <td>2700</td>\n",
              "      <td>4004</td>\n",
              "      <td>2.0</td>\n",
              "      <td>0</td>\n",
              "      <td>0</td>\n",
              "      <td>...</td>\n",
              "      <td>9</td>\n",
              "      <td>2700</td>\n",
              "      <td>0</td>\n",
              "      <td>2004</td>\n",
              "      <td>0</td>\n",
              "      <td>98029</td>\n",
              "      <td>47.5521</td>\n",
              "      <td>-121.995</td>\n",
              "      <td>2260</td>\n",
              "      <td>4459</td>\n",
              "    </tr>\n",
              "    <tr>\n",
              "      <th>8564</th>\n",
              "      <td>8645510230</td>\n",
              "      <td>20140529T000000</td>\n",
              "      <td>332000.0</td>\n",
              "      <td>3</td>\n",
              "      <td>2.25</td>\n",
              "      <td>2270</td>\n",
              "      <td>8876</td>\n",
              "      <td>1.0</td>\n",
              "      <td>0</td>\n",
              "      <td>0</td>\n",
              "      <td>...</td>\n",
              "      <td>7</td>\n",
              "      <td>1380</td>\n",
              "      <td>890</td>\n",
              "      <td>1977</td>\n",
              "      <td>0</td>\n",
              "      <td>98058</td>\n",
              "      <td>47.4653</td>\n",
              "      <td>-122.176</td>\n",
              "      <td>2150</td>\n",
              "      <td>7455</td>\n",
              "    </tr>\n",
              "    <tr>\n",
              "      <th>16547</th>\n",
              "      <td>526059259</td>\n",
              "      <td>20140819T000000</td>\n",
              "      <td>335500.0</td>\n",
              "      <td>3</td>\n",
              "      <td>1.75</td>\n",
              "      <td>1260</td>\n",
              "      <td>8487</td>\n",
              "      <td>1.0</td>\n",
              "      <td>0</td>\n",
              "      <td>0</td>\n",
              "      <td>...</td>\n",
              "      <td>7</td>\n",
              "      <td>1260</td>\n",
              "      <td>0</td>\n",
              "      <td>1970</td>\n",
              "      <td>0</td>\n",
              "      <td>98011</td>\n",
              "      <td>47.7664</td>\n",
              "      <td>-122.201</td>\n",
              "      <td>1890</td>\n",
              "      <td>13051</td>\n",
              "    </tr>\n",
              "    <tr>\n",
              "      <th>19682</th>\n",
              "      <td>2523039346</td>\n",
              "      <td>20150218T000000</td>\n",
              "      <td>720000.0</td>\n",
              "      <td>4</td>\n",
              "      <td>3.25</td>\n",
              "      <td>3276</td>\n",
              "      <td>10801</td>\n",
              "      <td>2.0</td>\n",
              "      <td>0</td>\n",
              "      <td>0</td>\n",
              "      <td>...</td>\n",
              "      <td>9</td>\n",
              "      <td>3276</td>\n",
              "      <td>0</td>\n",
              "      <td>2008</td>\n",
              "      <td>0</td>\n",
              "      <td>98166</td>\n",
              "      <td>47.4585</td>\n",
              "      <td>-122.361</td>\n",
              "      <td>2010</td>\n",
              "      <td>11656</td>\n",
              "    </tr>\n",
              "    <tr>\n",
              "      <th>15095</th>\n",
              "      <td>2141500020</td>\n",
              "      <td>20141217T000000</td>\n",
              "      <td>500000.0</td>\n",
              "      <td>4</td>\n",
              "      <td>2.50</td>\n",
              "      <td>2230</td>\n",
              "      <td>8560</td>\n",
              "      <td>2.0</td>\n",
              "      <td>0</td>\n",
              "      <td>0</td>\n",
              "      <td>...</td>\n",
              "      <td>8</td>\n",
              "      <td>2230</td>\n",
              "      <td>0</td>\n",
              "      <td>2002</td>\n",
              "      <td>0</td>\n",
              "      <td>98059</td>\n",
              "      <td>47.4877</td>\n",
              "      <td>-122.143</td>\n",
              "      <td>2400</td>\n",
              "      <td>7756</td>\n",
              "    </tr>\n",
              "  </tbody>\n",
              "</table>\n",
              "<p>10 rows × 21 columns</p>\n",
              "</div>\n",
              "      <button class=\"colab-df-convert\" onclick=\"convertToInteractive('df-1a6f48b1-6506-4fbc-8602-2048ef31a614')\"\n",
              "              title=\"Convert this dataframe to an interactive table.\"\n",
              "              style=\"display:none;\">\n",
              "        \n",
              "  <svg xmlns=\"http://www.w3.org/2000/svg\" height=\"24px\"viewBox=\"0 0 24 24\"\n",
              "       width=\"24px\">\n",
              "    <path d=\"M0 0h24v24H0V0z\" fill=\"none\"/>\n",
              "    <path d=\"M18.56 5.44l.94 2.06.94-2.06 2.06-.94-2.06-.94-.94-2.06-.94 2.06-2.06.94zm-11 1L8.5 8.5l.94-2.06 2.06-.94-2.06-.94L8.5 2.5l-.94 2.06-2.06.94zm10 10l.94 2.06.94-2.06 2.06-.94-2.06-.94-.94-2.06-.94 2.06-2.06.94z\"/><path d=\"M17.41 7.96l-1.37-1.37c-.4-.4-.92-.59-1.43-.59-.52 0-1.04.2-1.43.59L10.3 9.45l-7.72 7.72c-.78.78-.78 2.05 0 2.83L4 21.41c.39.39.9.59 1.41.59.51 0 1.02-.2 1.41-.59l7.78-7.78 2.81-2.81c.8-.78.8-2.07 0-2.86zM5.41 20L4 18.59l7.72-7.72 1.47 1.35L5.41 20z\"/>\n",
              "  </svg>\n",
              "      </button>\n",
              "      \n",
              "  <style>\n",
              "    .colab-df-container {\n",
              "      display:flex;\n",
              "      flex-wrap:wrap;\n",
              "      gap: 12px;\n",
              "    }\n",
              "\n",
              "    .colab-df-convert {\n",
              "      background-color: #E8F0FE;\n",
              "      border: none;\n",
              "      border-radius: 50%;\n",
              "      cursor: pointer;\n",
              "      display: none;\n",
              "      fill: #1967D2;\n",
              "      height: 32px;\n",
              "      padding: 0 0 0 0;\n",
              "      width: 32px;\n",
              "    }\n",
              "\n",
              "    .colab-df-convert:hover {\n",
              "      background-color: #E2EBFA;\n",
              "      box-shadow: 0px 1px 2px rgba(60, 64, 67, 0.3), 0px 1px 3px 1px rgba(60, 64, 67, 0.15);\n",
              "      fill: #174EA6;\n",
              "    }\n",
              "\n",
              "    [theme=dark] .colab-df-convert {\n",
              "      background-color: #3B4455;\n",
              "      fill: #D2E3FC;\n",
              "    }\n",
              "\n",
              "    [theme=dark] .colab-df-convert:hover {\n",
              "      background-color: #434B5C;\n",
              "      box-shadow: 0px 1px 3px 1px rgba(0, 0, 0, 0.15);\n",
              "      filter: drop-shadow(0px 1px 2px rgba(0, 0, 0, 0.3));\n",
              "      fill: #FFFFFF;\n",
              "    }\n",
              "  </style>\n",
              "\n",
              "      <script>\n",
              "        const buttonEl =\n",
              "          document.querySelector('#df-1a6f48b1-6506-4fbc-8602-2048ef31a614 button.colab-df-convert');\n",
              "        buttonEl.style.display =\n",
              "          google.colab.kernel.accessAllowed ? 'block' : 'none';\n",
              "\n",
              "        async function convertToInteractive(key) {\n",
              "          const element = document.querySelector('#df-1a6f48b1-6506-4fbc-8602-2048ef31a614');\n",
              "          const dataTable =\n",
              "            await google.colab.kernel.invokeFunction('convertToInteractive',\n",
              "                                                     [key], {});\n",
              "          if (!dataTable) return;\n",
              "\n",
              "          const docLinkHtml = 'Like what you see? Visit the ' +\n",
              "            '<a target=\"_blank\" href=https://colab.research.google.com/notebooks/data_table.ipynb>data table notebook</a>'\n",
              "            + ' to learn more about interactive tables.';\n",
              "          element.innerHTML = '';\n",
              "          dataTable['output_type'] = 'display_data';\n",
              "          await google.colab.output.renderOutput(dataTable, element);\n",
              "          const docLink = document.createElement('div');\n",
              "          docLink.innerHTML = docLinkHtml;\n",
              "          element.appendChild(docLink);\n",
              "        }\n",
              "      </script>\n",
              "    </div>\n",
              "  </div>\n",
              "  "
            ]
          },
          "metadata": {},
          "execution_count": 173
        }
      ]
    },
    {
      "cell_type": "code",
      "source": [
        "df.info()"
      ],
      "metadata": {
        "id": "n0fs14KoqI3M",
        "colab": {
          "base_uri": "https://localhost:8080/"
        },
        "outputId": "ea8070b9-1586-43f4-f509-0c3ece04fcf7"
      },
      "execution_count": 174,
      "outputs": [
        {
          "output_type": "stream",
          "name": "stdout",
          "text": [
            "<class 'pandas.core.frame.DataFrame'>\n",
            "RangeIndex: 21613 entries, 0 to 21612\n",
            "Data columns (total 21 columns):\n",
            " #   Column         Non-Null Count  Dtype  \n",
            "---  ------         --------------  -----  \n",
            " 0   id             21613 non-null  int64  \n",
            " 1   date           21613 non-null  object \n",
            " 2   price          21613 non-null  float64\n",
            " 3   bedrooms       21613 non-null  int64  \n",
            " 4   bathrooms      21613 non-null  float64\n",
            " 5   sqft_living    21613 non-null  int64  \n",
            " 6   sqft_lot       21613 non-null  int64  \n",
            " 7   floors         21613 non-null  float64\n",
            " 8   waterfront     21613 non-null  int64  \n",
            " 9   view           21613 non-null  int64  \n",
            " 10  condition      21613 non-null  int64  \n",
            " 11  grade          21613 non-null  int64  \n",
            " 12  sqft_above     21613 non-null  int64  \n",
            " 13  sqft_basement  21613 non-null  int64  \n",
            " 14  yr_built       21613 non-null  int64  \n",
            " 15  yr_renovated   21613 non-null  int64  \n",
            " 16  zipcode        21613 non-null  int64  \n",
            " 17  lat            21613 non-null  float64\n",
            " 18  long           21613 non-null  float64\n",
            " 19  sqft_living15  21613 non-null  int64  \n",
            " 20  sqft_lot15     21613 non-null  int64  \n",
            "dtypes: float64(5), int64(15), object(1)\n",
            "memory usage: 3.5+ MB\n"
          ]
        }
      ]
    },
    {
      "cell_type": "code",
      "source": [
        "df.describe()"
      ],
      "metadata": {
        "id": "1PNzDJZeqKhe",
        "colab": {
          "base_uri": "https://localhost:8080/",
          "height": 364
        },
        "outputId": "61e40534-1249-49f2-fc87-0f347bcdd9e9"
      },
      "execution_count": 175,
      "outputs": [
        {
          "output_type": "execute_result",
          "data": {
            "text/plain": [
              "                 id         price      bedrooms     bathrooms   sqft_living  \\\n",
              "count  2.161300e+04  2.161300e+04  21613.000000  21613.000000  21613.000000   \n",
              "mean   4.580302e+09  5.400881e+05      3.370842      2.114757   2079.899736   \n",
              "std    2.876566e+09  3.671272e+05      0.930062      0.770163    918.440897   \n",
              "min    1.000102e+06  7.500000e+04      0.000000      0.000000    290.000000   \n",
              "25%    2.123049e+09  3.219500e+05      3.000000      1.750000   1427.000000   \n",
              "50%    3.904930e+09  4.500000e+05      3.000000      2.250000   1910.000000   \n",
              "75%    7.308900e+09  6.450000e+05      4.000000      2.500000   2550.000000   \n",
              "max    9.900000e+09  7.700000e+06     33.000000      8.000000  13540.000000   \n",
              "\n",
              "           sqft_lot        floors    waterfront          view     condition  \\\n",
              "count  2.161300e+04  21613.000000  21613.000000  21613.000000  21613.000000   \n",
              "mean   1.510697e+04      1.494309      0.007542      0.234303      3.409430   \n",
              "std    4.142051e+04      0.539989      0.086517      0.766318      0.650743   \n",
              "min    5.200000e+02      1.000000      0.000000      0.000000      1.000000   \n",
              "25%    5.040000e+03      1.000000      0.000000      0.000000      3.000000   \n",
              "50%    7.618000e+03      1.500000      0.000000      0.000000      3.000000   \n",
              "75%    1.068800e+04      2.000000      0.000000      0.000000      4.000000   \n",
              "max    1.651359e+06      3.500000      1.000000      4.000000      5.000000   \n",
              "\n",
              "              grade    sqft_above  sqft_basement      yr_built  yr_renovated  \\\n",
              "count  21613.000000  21613.000000   21613.000000  21613.000000  21613.000000   \n",
              "mean       7.656873   1788.390691     291.509045   1971.005136     84.402258   \n",
              "std        1.175459    828.090978     442.575043     29.373411    401.679240   \n",
              "min        1.000000    290.000000       0.000000   1900.000000      0.000000   \n",
              "25%        7.000000   1190.000000       0.000000   1951.000000      0.000000   \n",
              "50%        7.000000   1560.000000       0.000000   1975.000000      0.000000   \n",
              "75%        8.000000   2210.000000     560.000000   1997.000000      0.000000   \n",
              "max       13.000000   9410.000000    4820.000000   2015.000000   2015.000000   \n",
              "\n",
              "            zipcode           lat          long  sqft_living15     sqft_lot15  \n",
              "count  21613.000000  21613.000000  21613.000000   21613.000000   21613.000000  \n",
              "mean   98077.939805     47.560053   -122.213896    1986.552492   12768.455652  \n",
              "std       53.505026      0.138564      0.140828     685.391304   27304.179631  \n",
              "min    98001.000000     47.155900   -122.519000     399.000000     651.000000  \n",
              "25%    98033.000000     47.471000   -122.328000    1490.000000    5100.000000  \n",
              "50%    98065.000000     47.571800   -122.230000    1840.000000    7620.000000  \n",
              "75%    98118.000000     47.678000   -122.125000    2360.000000   10083.000000  \n",
              "max    98199.000000     47.777600   -121.315000    6210.000000  871200.000000  "
            ],
            "text/html": [
              "\n",
              "  <div id=\"df-1a129b39-1202-421b-8a86-39fcaabc7a87\">\n",
              "    <div class=\"colab-df-container\">\n",
              "      <div>\n",
              "<style scoped>\n",
              "    .dataframe tbody tr th:only-of-type {\n",
              "        vertical-align: middle;\n",
              "    }\n",
              "\n",
              "    .dataframe tbody tr th {\n",
              "        vertical-align: top;\n",
              "    }\n",
              "\n",
              "    .dataframe thead th {\n",
              "        text-align: right;\n",
              "    }\n",
              "</style>\n",
              "<table border=\"1\" class=\"dataframe\">\n",
              "  <thead>\n",
              "    <tr style=\"text-align: right;\">\n",
              "      <th></th>\n",
              "      <th>id</th>\n",
              "      <th>price</th>\n",
              "      <th>bedrooms</th>\n",
              "      <th>bathrooms</th>\n",
              "      <th>sqft_living</th>\n",
              "      <th>sqft_lot</th>\n",
              "      <th>floors</th>\n",
              "      <th>waterfront</th>\n",
              "      <th>view</th>\n",
              "      <th>condition</th>\n",
              "      <th>grade</th>\n",
              "      <th>sqft_above</th>\n",
              "      <th>sqft_basement</th>\n",
              "      <th>yr_built</th>\n",
              "      <th>yr_renovated</th>\n",
              "      <th>zipcode</th>\n",
              "      <th>lat</th>\n",
              "      <th>long</th>\n",
              "      <th>sqft_living15</th>\n",
              "      <th>sqft_lot15</th>\n",
              "    </tr>\n",
              "  </thead>\n",
              "  <tbody>\n",
              "    <tr>\n",
              "      <th>count</th>\n",
              "      <td>2.161300e+04</td>\n",
              "      <td>2.161300e+04</td>\n",
              "      <td>21613.000000</td>\n",
              "      <td>21613.000000</td>\n",
              "      <td>21613.000000</td>\n",
              "      <td>2.161300e+04</td>\n",
              "      <td>21613.000000</td>\n",
              "      <td>21613.000000</td>\n",
              "      <td>21613.000000</td>\n",
              "      <td>21613.000000</td>\n",
              "      <td>21613.000000</td>\n",
              "      <td>21613.000000</td>\n",
              "      <td>21613.000000</td>\n",
              "      <td>21613.000000</td>\n",
              "      <td>21613.000000</td>\n",
              "      <td>21613.000000</td>\n",
              "      <td>21613.000000</td>\n",
              "      <td>21613.000000</td>\n",
              "      <td>21613.000000</td>\n",
              "      <td>21613.000000</td>\n",
              "    </tr>\n",
              "    <tr>\n",
              "      <th>mean</th>\n",
              "      <td>4.580302e+09</td>\n",
              "      <td>5.400881e+05</td>\n",
              "      <td>3.370842</td>\n",
              "      <td>2.114757</td>\n",
              "      <td>2079.899736</td>\n",
              "      <td>1.510697e+04</td>\n",
              "      <td>1.494309</td>\n",
              "      <td>0.007542</td>\n",
              "      <td>0.234303</td>\n",
              "      <td>3.409430</td>\n",
              "      <td>7.656873</td>\n",
              "      <td>1788.390691</td>\n",
              "      <td>291.509045</td>\n",
              "      <td>1971.005136</td>\n",
              "      <td>84.402258</td>\n",
              "      <td>98077.939805</td>\n",
              "      <td>47.560053</td>\n",
              "      <td>-122.213896</td>\n",
              "      <td>1986.552492</td>\n",
              "      <td>12768.455652</td>\n",
              "    </tr>\n",
              "    <tr>\n",
              "      <th>std</th>\n",
              "      <td>2.876566e+09</td>\n",
              "      <td>3.671272e+05</td>\n",
              "      <td>0.930062</td>\n",
              "      <td>0.770163</td>\n",
              "      <td>918.440897</td>\n",
              "      <td>4.142051e+04</td>\n",
              "      <td>0.539989</td>\n",
              "      <td>0.086517</td>\n",
              "      <td>0.766318</td>\n",
              "      <td>0.650743</td>\n",
              "      <td>1.175459</td>\n",
              "      <td>828.090978</td>\n",
              "      <td>442.575043</td>\n",
              "      <td>29.373411</td>\n",
              "      <td>401.679240</td>\n",
              "      <td>53.505026</td>\n",
              "      <td>0.138564</td>\n",
              "      <td>0.140828</td>\n",
              "      <td>685.391304</td>\n",
              "      <td>27304.179631</td>\n",
              "    </tr>\n",
              "    <tr>\n",
              "      <th>min</th>\n",
              "      <td>1.000102e+06</td>\n",
              "      <td>7.500000e+04</td>\n",
              "      <td>0.000000</td>\n",
              "      <td>0.000000</td>\n",
              "      <td>290.000000</td>\n",
              "      <td>5.200000e+02</td>\n",
              "      <td>1.000000</td>\n",
              "      <td>0.000000</td>\n",
              "      <td>0.000000</td>\n",
              "      <td>1.000000</td>\n",
              "      <td>1.000000</td>\n",
              "      <td>290.000000</td>\n",
              "      <td>0.000000</td>\n",
              "      <td>1900.000000</td>\n",
              "      <td>0.000000</td>\n",
              "      <td>98001.000000</td>\n",
              "      <td>47.155900</td>\n",
              "      <td>-122.519000</td>\n",
              "      <td>399.000000</td>\n",
              "      <td>651.000000</td>\n",
              "    </tr>\n",
              "    <tr>\n",
              "      <th>25%</th>\n",
              "      <td>2.123049e+09</td>\n",
              "      <td>3.219500e+05</td>\n",
              "      <td>3.000000</td>\n",
              "      <td>1.750000</td>\n",
              "      <td>1427.000000</td>\n",
              "      <td>5.040000e+03</td>\n",
              "      <td>1.000000</td>\n",
              "      <td>0.000000</td>\n",
              "      <td>0.000000</td>\n",
              "      <td>3.000000</td>\n",
              "      <td>7.000000</td>\n",
              "      <td>1190.000000</td>\n",
              "      <td>0.000000</td>\n",
              "      <td>1951.000000</td>\n",
              "      <td>0.000000</td>\n",
              "      <td>98033.000000</td>\n",
              "      <td>47.471000</td>\n",
              "      <td>-122.328000</td>\n",
              "      <td>1490.000000</td>\n",
              "      <td>5100.000000</td>\n",
              "    </tr>\n",
              "    <tr>\n",
              "      <th>50%</th>\n",
              "      <td>3.904930e+09</td>\n",
              "      <td>4.500000e+05</td>\n",
              "      <td>3.000000</td>\n",
              "      <td>2.250000</td>\n",
              "      <td>1910.000000</td>\n",
              "      <td>7.618000e+03</td>\n",
              "      <td>1.500000</td>\n",
              "      <td>0.000000</td>\n",
              "      <td>0.000000</td>\n",
              "      <td>3.000000</td>\n",
              "      <td>7.000000</td>\n",
              "      <td>1560.000000</td>\n",
              "      <td>0.000000</td>\n",
              "      <td>1975.000000</td>\n",
              "      <td>0.000000</td>\n",
              "      <td>98065.000000</td>\n",
              "      <td>47.571800</td>\n",
              "      <td>-122.230000</td>\n",
              "      <td>1840.000000</td>\n",
              "      <td>7620.000000</td>\n",
              "    </tr>\n",
              "    <tr>\n",
              "      <th>75%</th>\n",
              "      <td>7.308900e+09</td>\n",
              "      <td>6.450000e+05</td>\n",
              "      <td>4.000000</td>\n",
              "      <td>2.500000</td>\n",
              "      <td>2550.000000</td>\n",
              "      <td>1.068800e+04</td>\n",
              "      <td>2.000000</td>\n",
              "      <td>0.000000</td>\n",
              "      <td>0.000000</td>\n",
              "      <td>4.000000</td>\n",
              "      <td>8.000000</td>\n",
              "      <td>2210.000000</td>\n",
              "      <td>560.000000</td>\n",
              "      <td>1997.000000</td>\n",
              "      <td>0.000000</td>\n",
              "      <td>98118.000000</td>\n",
              "      <td>47.678000</td>\n",
              "      <td>-122.125000</td>\n",
              "      <td>2360.000000</td>\n",
              "      <td>10083.000000</td>\n",
              "    </tr>\n",
              "    <tr>\n",
              "      <th>max</th>\n",
              "      <td>9.900000e+09</td>\n",
              "      <td>7.700000e+06</td>\n",
              "      <td>33.000000</td>\n",
              "      <td>8.000000</td>\n",
              "      <td>13540.000000</td>\n",
              "      <td>1.651359e+06</td>\n",
              "      <td>3.500000</td>\n",
              "      <td>1.000000</td>\n",
              "      <td>4.000000</td>\n",
              "      <td>5.000000</td>\n",
              "      <td>13.000000</td>\n",
              "      <td>9410.000000</td>\n",
              "      <td>4820.000000</td>\n",
              "      <td>2015.000000</td>\n",
              "      <td>2015.000000</td>\n",
              "      <td>98199.000000</td>\n",
              "      <td>47.777600</td>\n",
              "      <td>-121.315000</td>\n",
              "      <td>6210.000000</td>\n",
              "      <td>871200.000000</td>\n",
              "    </tr>\n",
              "  </tbody>\n",
              "</table>\n",
              "</div>\n",
              "      <button class=\"colab-df-convert\" onclick=\"convertToInteractive('df-1a129b39-1202-421b-8a86-39fcaabc7a87')\"\n",
              "              title=\"Convert this dataframe to an interactive table.\"\n",
              "              style=\"display:none;\">\n",
              "        \n",
              "  <svg xmlns=\"http://www.w3.org/2000/svg\" height=\"24px\"viewBox=\"0 0 24 24\"\n",
              "       width=\"24px\">\n",
              "    <path d=\"M0 0h24v24H0V0z\" fill=\"none\"/>\n",
              "    <path d=\"M18.56 5.44l.94 2.06.94-2.06 2.06-.94-2.06-.94-.94-2.06-.94 2.06-2.06.94zm-11 1L8.5 8.5l.94-2.06 2.06-.94-2.06-.94L8.5 2.5l-.94 2.06-2.06.94zm10 10l.94 2.06.94-2.06 2.06-.94-2.06-.94-.94-2.06-.94 2.06-2.06.94z\"/><path d=\"M17.41 7.96l-1.37-1.37c-.4-.4-.92-.59-1.43-.59-.52 0-1.04.2-1.43.59L10.3 9.45l-7.72 7.72c-.78.78-.78 2.05 0 2.83L4 21.41c.39.39.9.59 1.41.59.51 0 1.02-.2 1.41-.59l7.78-7.78 2.81-2.81c.8-.78.8-2.07 0-2.86zM5.41 20L4 18.59l7.72-7.72 1.47 1.35L5.41 20z\"/>\n",
              "  </svg>\n",
              "      </button>\n",
              "      \n",
              "  <style>\n",
              "    .colab-df-container {\n",
              "      display:flex;\n",
              "      flex-wrap:wrap;\n",
              "      gap: 12px;\n",
              "    }\n",
              "\n",
              "    .colab-df-convert {\n",
              "      background-color: #E8F0FE;\n",
              "      border: none;\n",
              "      border-radius: 50%;\n",
              "      cursor: pointer;\n",
              "      display: none;\n",
              "      fill: #1967D2;\n",
              "      height: 32px;\n",
              "      padding: 0 0 0 0;\n",
              "      width: 32px;\n",
              "    }\n",
              "\n",
              "    .colab-df-convert:hover {\n",
              "      background-color: #E2EBFA;\n",
              "      box-shadow: 0px 1px 2px rgba(60, 64, 67, 0.3), 0px 1px 3px 1px rgba(60, 64, 67, 0.15);\n",
              "      fill: #174EA6;\n",
              "    }\n",
              "\n",
              "    [theme=dark] .colab-df-convert {\n",
              "      background-color: #3B4455;\n",
              "      fill: #D2E3FC;\n",
              "    }\n",
              "\n",
              "    [theme=dark] .colab-df-convert:hover {\n",
              "      background-color: #434B5C;\n",
              "      box-shadow: 0px 1px 3px 1px rgba(0, 0, 0, 0.15);\n",
              "      filter: drop-shadow(0px 1px 2px rgba(0, 0, 0, 0.3));\n",
              "      fill: #FFFFFF;\n",
              "    }\n",
              "  </style>\n",
              "\n",
              "      <script>\n",
              "        const buttonEl =\n",
              "          document.querySelector('#df-1a129b39-1202-421b-8a86-39fcaabc7a87 button.colab-df-convert');\n",
              "        buttonEl.style.display =\n",
              "          google.colab.kernel.accessAllowed ? 'block' : 'none';\n",
              "\n",
              "        async function convertToInteractive(key) {\n",
              "          const element = document.querySelector('#df-1a129b39-1202-421b-8a86-39fcaabc7a87');\n",
              "          const dataTable =\n",
              "            await google.colab.kernel.invokeFunction('convertToInteractive',\n",
              "                                                     [key], {});\n",
              "          if (!dataTable) return;\n",
              "\n",
              "          const docLinkHtml = 'Like what you see? Visit the ' +\n",
              "            '<a target=\"_blank\" href=https://colab.research.google.com/notebooks/data_table.ipynb>data table notebook</a>'\n",
              "            + ' to learn more about interactive tables.';\n",
              "          element.innerHTML = '';\n",
              "          dataTable['output_type'] = 'display_data';\n",
              "          await google.colab.output.renderOutput(dataTable, element);\n",
              "          const docLink = document.createElement('div');\n",
              "          docLink.innerHTML = docLinkHtml;\n",
              "          element.appendChild(docLink);\n",
              "        }\n",
              "      </script>\n",
              "    </div>\n",
              "  </div>\n",
              "  "
            ]
          },
          "metadata": {},
          "execution_count": 175
        }
      ]
    },
    {
      "cell_type": "code",
      "source": [
        "df.drop('id', axis = 1, inplace = True)\n",
        "df.drop('date', axis = 1, inplace = True)\n",
        "df.drop('zipcode', axis = 1, inplace = True)\n",
        "df.drop('lat', axis = 1, inplace = True)\n",
        "df.drop('long', axis = 1, inplace = True)\n"
      ],
      "metadata": {
        "id": "0KUD8T08qMmq"
      },
      "execution_count": 176,
      "outputs": []
    },
    {
      "cell_type": "code",
      "source": [
        "plt.figure(figsize=(12,8)) \n",
        "sns.heatmap(df.corr(), annot=True, cmap='Dark2_r', linewidths = 2)\n",
        "plt.show()"
      ],
      "metadata": {
        "id": "r-jk_nHmqKpp",
        "colab": {
          "base_uri": "https://localhost:8080/",
          "height": 551
        },
        "outputId": "383349dd-7345-40d6-d9a4-dba5baca673d"
      },
      "execution_count": 177,
      "outputs": [
        {
          "output_type": "display_data",
          "data": {
            "text/plain": [
              "<Figure size 864x576 with 2 Axes>"
            ],
            "image/png": "[encoded data removed]"
          },
          "metadata": {
            "needs_background": "light"
          }
        }
      ]
    },
    {
      "cell_type": "code",
      "source": [
        "columns = df.columns.drop('price')\n",
        "\n",
        "features = columns\n",
        "label = ['price']\n",
        "\n",
        "X = df[features]\n",
        "y = df[label]"
      ],
      "metadata": {
        "id": "p4zqCnFwq7Oc"
      },
      "execution_count": 178,
      "outputs": []
    },
    {
      "cell_type": "code",
      "source": [
        "# Split dataset into train and test\n",
        "X_train, X_test, y_train, y_test = train_test_split(X, y, test_size = 0.1, random_state = 101)\n",
        "X_train, X_val, y_train, y_val = train_test_split(X_train, y_train, test_size = X_test.shape[0]/X_train.shape[0], random_state = 101)\n",
        "\n",
        "print(f'Numero total de registros en la bdd: {len(X)}')\n",
        "print(\"*****\"*10)\n",
        "print(f'Numero total de registros en el training set: {len(X_train)}')\n",
        "print(f'Tamaño de X_train: {X_train.shape}')\n",
        "print(\"*****\"*10)\n",
        "print(f'Numero total de registros en el validation set: {len(X_val)}')\n",
        "print(f'Tamaño de X_val: {X_val.shape}')\n",
        "print(\"*****\"*10)\n",
        "print(f'Mumero total de registros en el test dataset: {len(X_test)}')\n",
        "print(f'Tamaño del X_test: {X_test.shape}')"
      ],
      "metadata": {
        "id": "p91PEVPLq93-",
        "outputId": "8cb0f98d-a587-4566-bb5b-b6c23cbed594",
        "colab": {
          "base_uri": "https://localhost:8080/"
        }
      },
      "execution_count": 227,
      "outputs": [
        {
          "output_type": "stream",
          "name": "stdout",
          "text": [
            "Numero total de registros en la bdd: 21613\n",
            "**************************************************\n",
            "Numero total de registros en el training set: 17289\n",
            "Tamaño de X_train: (17289, 15)\n",
            "**************************************************\n",
            "Numero total de registros en el validation set: 2162\n",
            "Tamaño de X_val: (2162, 15)\n",
            "**************************************************\n",
            "Mumero total de registros en el test dataset: 2162\n",
            "Tamaño del X_test: (2162, 15)\n"
          ]
        }
      ]
    },
    {
      "cell_type": "markdown",
      "source": [
        "#### Entrenamiento de modelo lineal"
      ],
      "metadata": {
        "id": "f-Q7UExaC2Vj"
      }
    },
    {
      "cell_type": "code",
      "source": [
        "class MultiplePolyFit(PolyFit):\n",
        "  def print_equation(self):\n",
        "    xs = self.X.shape[1]\n",
        "    print(f\"Equation: y_hat = {self.model.intercept_[0]:.2f} + {' + '.join([f'{self.model.coef_[0][i-1]:.2f} X_{i}' for i in range(1, xs)])}\")"
      ],
      "metadata": {
        "id": "8cm5-lDU_wjt"
      },
      "execution_count": 222,
      "outputs": []
    },
    {
      "cell_type": "code",
      "source": [
        "mult_reg = MultiplePolyFit(X_train, y_train, 1)\n",
        "mult_reg.print_equation()\n",
        "mult_reg.print_metrics()"
      ],
      "metadata": {
        "id": "R92Z_KL098Kd",
        "outputId": "8eb2704d-5ccd-4163-dd74-b1c98d9d63a7",
        "colab": {
          "base_uri": "https://localhost:8080/"
        }
      },
      "execution_count": 225,
      "outputs": [
        {
          "output_type": "stream",
          "name": "stdout",
          "text": [
            "Equation: y_hat = 6151359.26 + -38200.80 X_1 + 41466.14 X_2 + 107.99 X_3 + 0.02 X_4 + 31691.69 X_5 + 552691.02 X_6 + 41249.32 X_7 + 21222.14 X_8 + 119493.22 X_9 + 47.78 X_10 + 60.22 X_11 + -3550.90 X_12 + 13.26 X_13 + 29.01 X_14\n",
            "Error medio Absoluto (MAE): 139269.3293911558\n",
            "Root Mean Squared Error: 214234.8822754647\n",
            "r2_score 0.6529196653133833\n"
          ]
        }
      ]
    },
    {
      "cell_type": "markdown",
      "source": [
        "#### Entrenamiento de todos los modelos"
      ],
      "metadata": {
        "id": "-OYJn_KgC66s"
      }
    },
    {
      "cell_type": "code",
      "source": [
        "models = {\n",
        "    \"Linear\": (LinearRegression(fit_intercept=True), 1),\n",
        "    \"Polinomial\": (LinearRegression(fit_intercept=True), 2),\n",
        "    \"Lasso\": (Lasso(alpha=1), 3),\n",
        "    \"Ridge\": (Ridge(alpha=1), 3),\n",
        "    }\n",
        "\n",
        "train_metrics = {k: [] for k in [\"MAE\", \"RMSE\", \"R2\"]}\n",
        "val_metrics = {k: [] for k in [\"MAE\", \"RMSE\", \"R2\"]}\n",
        "for m, values in models.items():\n",
        "  model_fit = RegularizationFitMetrics(X_train, y_train, values[1], values[0])\n",
        "  print('\\n' + '*' * 10 + f\"Model: {m}\" + '*' * 10)\n",
        "  print(f\"Equation:\\nIntercept: {model_fit.model.intercept_}\\nCoafficients: {model_fit.model.coef_}\")\n",
        "  train_metrics[\"MAE\"].append(model_fit._mae())\n",
        "  val_metrics[\"MAE\"].append(model_fit._mae(X_val, y_val))\n",
        "  train_metrics[\"RMSE\"].append(model_fit._rmse())\n",
        "  val_metrics[\"RMSE\"].append(model_fit._rmse(X_val, y_val))\n",
        "  train_metrics[\"R2\"].append(model_fit._rsquared())\n",
        "  val_metrics[\"R2\"].append(model_fit._rsquared(X_val, y_val))"
      ],
      "metadata": {
        "id": "P0JJbk8_BCSG",
        "outputId": "bdf4be82-3321-4b75-dde9-61b92bc3e09a",
        "colab": {
          "base_uri": "https://localhost:8080/"
        }
      },
      "execution_count": 230,
      "outputs": [
        {
          "output_type": "stream",
          "name": "stdout",
          "text": [
            "\n",
            "**********Model: Linear**********\n",
            "Equation:\n",
            "Intercept: [6159587.94109305]\n",
            "Coafficients: [[-3.57373107e+04  4.27845316e+04  1.06081380e+02  2.65902735e-02\n",
            "   3.39855389e+04  5.29118225e+05  4.19854721e+04  2.16698518e+04\n",
            "   1.18374619e+05  4.44837228e+01  6.15976573e+01 -3.55863056e+03\n",
            "   1.22398665e+01  3.31514595e+01 -4.97395267e-01]]\n",
            "\n",
            "**********Model: Polinomial**********\n",
            "Equation:\n",
            "Intercept: [86209073.23026946]\n",
            "Coafficients: [[ 9.02837933e+05 -9.29867061e+05  2.28550952e+03 -2.53625303e+01\n",
            "  -2.43501332e+06 -3.75872210e+06 -3.71841692e+05  4.58272603e+05\n",
            "   1.33459704e+06 -2.63554520e+03 -3.05745605e+03 -9.25952699e+04\n",
            "  -3.09688811e+03  3.65778557e+03 -3.52888416e+01  9.24646836e+02\n",
            "   6.51165498e+03 -7.55461418e+01 -9.16278798e-03  5.03872197e+03\n",
            "  -1.10432902e+04  3.17080323e+02 -4.16464098e+03 -4.63619532e+03\n",
            "   6.58117710e+01  4.90219344e+01 -4.55619966e+02 -8.74810299e+00\n",
            "   1.52503586e+01  2.33716153e-01 -7.45727573e+03  5.43120521e+01\n",
            "  -1.58521934e-01 -2.27756714e+04  8.22782379e+04 -2.24657295e+03\n",
            "  -2.06000865e+03  2.29828942e+04 -2.27401417e+01 -2.22104273e+01\n",
            "   4.10510203e+02 -1.75520570e+01 -1.78606048e+01 -8.75701031e-02\n",
            "   2.08564358e+03 -5.44193809e+03  7.55668541e+00  1.13143831e+02\n",
            "  -1.07179299e+01  1.30071668e+01  2.35719764e+01 -1.82579831e+03\n",
            "  -1.68259600e+03  9.73898929e+02  6.17864512e+01  8.24187613e+02\n",
            "  -1.86965482e+03  2.16066837e-07  3.33102851e-01  2.33729352e-01\n",
            "  -1.25931845e-01  8.50149807e-02  2.19166078e-01  5.44193739e+03\n",
            "   5.44193765e+03  1.24105404e-02 -1.58351831e-04  1.47052575e-04\n",
            "   1.33900903e-06  1.91499515e+04 -1.40873356e+05  1.69524409e+04\n",
            "   2.05175578e+04 -4.35638535e+03 -3.70717819e+00  1.09133293e+01\n",
            "   1.22449544e+03  1.48252966e+01 -3.29080903e+01 -4.13613420e-01\n",
            "  -3.76455895e+06  8.30522023e+04  6.27398627e+03 -1.34474538e+05\n",
            "   1.52948525e+02 -3.98145332e+01  3.96935669e+03 -7.85597008e+01\n",
            "   1.89134964e+02  1.13148696e-01  6.84491651e+03  8.68460601e+03\n",
            "   1.31214208e+04 -1.04146389e+01 -4.51728293e-01  1.26993475e+02\n",
            "  -6.42095195e+00  7.74147524e+00 -7.30911555e-02 -1.83537142e+02\n",
            "  -8.19869356e+03  4.24823898e+00  8.93052401e+00 -2.48816312e+02\n",
            "  -1.73123880e+01  4.28815105e+01 -3.14556732e-01  3.90453264e+03\n",
            "   1.37694017e+01  1.05286140e+01 -6.73110596e+02 -1.10337839e+01\n",
            "  -1.91018116e+01 -6.37302105e-01 -2.59844900e+02 -6.62871186e+02\n",
            "  -9.73850622e+02 -6.17615368e+01 -8.24195994e+02  1.86965513e+03\n",
            "  -4.03108245e+02 -9.73600547e+02 -6.17428169e+01 -8.24189542e+02\n",
            "   1.86965420e+03  2.48596313e+01  5.89090984e-01 -1.87092660e+00\n",
            "   1.98850626e-02  1.00855147e+00  5.02868607e-02  2.93994337e-04\n",
            "   3.34139724e-02  1.30134926e-04  2.18930654e-06]]\n"
          ]
        },
        {
          "output_type": "stream",
          "name": "stderr",
          "text": [
            "/usr/local/lib/python3.7/dist-packages/sklearn/linear_model/_coordinate_descent.py:648: ConvergenceWarning: Objective did not converge. You might want to increase the number of iterations, check the scale of the features or consider increasing regularisation. Duality gap: 2.588e+14, tolerance: 2.251e+11\n",
            "  coef_, l1_reg, l2_reg, X, y, max_iter, tol, rng, random, positive\n"
          ]
        },
        {
          "output_type": "stream",
          "name": "stdout",
          "text": [
            "\n",
            "**********Model: Lasso**********\n",
            "Equation:\n",
            "Intercept: [8123946.2271771]\n",
            "Coafficients: [ 2.17595119e+05  1.18613687e+05  1.60817617e+02  9.58400655e-01\n",
            " -2.43885300e+05  6.63943798e+05  1.47601140e+05  2.26931307e+05\n",
            "  1.40439719e+05 -9.04085157e+01 -2.39814456e+02 -5.96408545e+03\n",
            " -8.81914230e+01  2.09942655e+02 -1.23629780e+00 -3.29000834e+03\n",
            " -9.64784991e+03 -1.22653117e+01  2.44747434e-01  3.00222856e+04\n",
            " -1.59167521e+05 -2.26030768e+04 -1.98439137e+04 -1.35574403e+03\n",
            "  2.18478214e+00  2.57160290e+01 -4.54780229e+01  3.83377954e+01\n",
            "  1.91772621e+01  3.10939133e-01  5.66031768e+02  1.14984794e+01\n",
            " -1.79296956e-02 -1.41219696e+04 -3.51116793e+04  1.19984565e+04\n",
            "  7.06224723e+03 -1.77094315e+03  3.49541265e+00 -4.65956746e-01\n",
            " -2.14756857e+01 -7.50656601e+01  6.26943849e+00  2.63475844e-01\n",
            " -6.85426444e-03 -4.66371504e-05  1.26564971e+01  7.95613801e+01\n",
            " -2.21836293e+01 -5.95738428e+00  6.21902591e+00 -1.05318128e-02\n",
            "  7.51223034e-03 -1.01631112e-02  5.59816864e-02  7.41740350e-04\n",
            "  1.98832367e-04  1.28136569e-06 -1.21089945e+00 -1.47048848e+01\n",
            "  8.35315483e-01  9.09371506e-03  4.10771832e-02  5.32990023e-05\n",
            "  2.36578535e-04 -2.44124171e-04  3.88955383e-04 -2.32444850e-04\n",
            "  5.18022806e-06 -5.34929816e+03  2.96936539e+05 -3.38813105e+03\n",
            "  2.56889705e+04  7.44730338e+03 -2.53442186e+01  9.13979721e+01\n",
            " -5.35903497e-01  5.59718888e+00  1.96372795e+01 -8.56673850e-01\n",
            " -2.31961800e+04 -1.32335062e+05 -6.30416393e+03  3.61615934e+03\n",
            "  7.99372603e+01  6.59564516e+02  4.27089263e+01  3.13414498e+02\n",
            " -1.22648600e+01  6.05573208e+00 -2.82006161e+04  1.08884041e+04\n",
            " -1.26981713e+03 -1.26750493e+01 -4.40710942e+01  4.81668793e+01\n",
            " -9.05556849e+00  3.07163688e+00 -7.57617952e-01 -6.16758048e+02\n",
            " -1.61378629e+03 -1.23792315e+01 -1.91329544e+01 -1.71310014e+01\n",
            "  2.04388362e+01 -9.03472366e+00  2.73207340e-01  5.02021761e+03\n",
            "  3.40701927e-01 -1.25522311e+01 -2.77551431e+01 -1.18560803e+01\n",
            " -3.14750242e+00 -5.39005695e-02  9.36591646e-03  2.41159637e-02\n",
            " -1.15168120e-02 -3.38583500e-02  3.15565590e-03  2.63624104e-04\n",
            "  2.23268492e-02  6.75554257e-03  2.48393968e-01  2.45070042e-03\n",
            "  6.67054012e-04 -5.56186177e-02 -1.91964908e-02 -6.00253273e-02\n",
            "  1.13529470e-04 -9.24871625e-03 -2.16763962e-02 -1.75891686e-03\n",
            "  3.19921939e-02  3.75385076e-04  1.92445105e-06  8.15392021e+01\n",
            "  3.01855920e+03 -1.07362965e+00  2.26157679e-02 -2.98939279e+03\n",
            " -1.26883221e+04  9.85366671e+02 -9.90738248e+02  6.41789569e+02\n",
            "  6.97692836e-01  1.62765874e+00  4.10231297e-02 -3.80102396e+00\n",
            " -5.08645357e-01 -1.15163285e-01 -1.91307973e+03  2.26787319e+00\n",
            " -7.63286224e-02  7.85589661e+02  1.77515436e+04  7.30032682e+03\n",
            " -5.62367959e+03  1.72725966e+03 -9.17556850e-01 -5.60960673e+00\n",
            " -1.88632075e+00  2.05720146e+00 -2.18105249e+00  6.08975405e-02\n",
            " -3.77617624e-03  1.08868021e-05  3.59821537e+00 -2.21541111e+01\n",
            " -3.92454407e+00 -1.40291189e+00  1.18595987e+00 -4.46059063e-04\n",
            " -1.41785847e-02  4.96914476e-03  1.25673736e-02 -2.99430900e-03\n",
            "  7.84146280e-05 -5.23607151e-08  3.16939605e-02  1.58307354e+00\n",
            " -3.62318478e-01  2.11659567e-02  9.22313565e-03  4.75789653e-06\n",
            "  3.54129151e-04  1.68399168e-06  3.43232090e-04 -1.91818415e-04\n",
            "  1.07572131e-06 -2.72470578e+03 -5.75026847e+03  1.27483682e+04\n",
            "  1.34653444e+04 -1.94508824e+03 -2.96636400e-01 -2.28268474e+01\n",
            " -1.77555683e+00  2.02684174e+01 -1.40231372e+01 -1.98827431e-02\n",
            " -6.67305445e+04  3.04571120e+03  5.89569574e+04 -1.92631243e+04\n",
            "  3.86881262e+01 -3.94603964e+01 -3.60880473e+00  1.03779955e+02\n",
            " -5.12333665e+01  1.15283876e+01 -7.20738203e+02  2.40110363e+03\n",
            " -5.23563672e+02  2.98095672e+00  6.72990203e+00 -1.05846178e+01\n",
            " -2.14704447e+00 -2.53938071e+00  4.18056999e-01  3.08111108e+03\n",
            "  3.39489278e+02  1.31374987e+00 -1.11387271e+00 -5.81906247e+00\n",
            " -4.31877978e+00  6.31532045e+00 -1.05744607e-01  2.75047906e+02\n",
            "  1.02513287e+00  6.08607603e-01 -6.23527178e+00  9.96990526e-01\n",
            " -4.75996641e-01 -4.89537649e-02  6.04048072e-03 -9.03433534e-03\n",
            " -4.08393599e-03 -1.48926709e-02 -1.01505014e-03  7.48242809e-05\n",
            "  1.50327675e-02  3.27650780e-02 -2.33233887e-03 -4.51155120e-03\n",
            " -2.37640423e-04 -1.80943448e-02  1.38194796e-02 -7.72140832e-04\n",
            "  2.01468160e-04 -3.44641046e-03 -3.26084155e-02 -6.26577180e-04\n",
            "  4.67059842e-03 -2.05388553e-05 -1.22166123e-07 -5.59681560e+03\n",
            "  5.03450340e+00  3.16733547e-02  1.38455669e+04 -4.78526270e+04\n",
            " -1.82062353e+04 -2.11309083e+03  3.07104344e+03 -5.06261178e+00\n",
            " -1.17614018e+01  5.74933806e+00 -2.79389448e+00  7.28059620e+00\n",
            " -1.74834646e-01 -1.63263498e-03  5.60763399e-05  7.44927419e-01\n",
            "  4.41181634e+01  4.61137051e+00 -5.11361053e+00  1.48848386e+00\n",
            " -5.19336747e-03  1.94554344e-02 -2.35466231e-03 -2.06102570e-02\n",
            "  2.63770566e-03 -1.18438085e-05 -6.33805227e-07  1.98464943e-01\n",
            "  1.18017670e+00  5.75154684e-01 -2.06673293e-01  3.41007284e-03\n",
            " -2.54029922e-05 -4.20711428e-04  3.29111562e-04  1.20209730e-03\n",
            " -1.64696857e-04  9.91472256e-07 -2.03454347e+04 -2.35091971e+05\n",
            "  2.54248151e+03 -1.24711692e+03  3.95620054e+03  2.52275226e-01\n",
            "  2.06372538e+01 -1.21853310e+01 -8.47185557e+00 -8.34611761e+00\n",
            " -3.07572522e-01 -4.68576087e+01  6.22240870e+04 -4.92125119e+04\n",
            "  2.63240245e+04 -3.42759367e+01 -5.96680048e+01  1.18151267e+01\n",
            "  6.25947362e+01  1.16267854e+02 -2.39135010e+00  1.47353844e+03\n",
            " -7.04332415e+03 -1.23652783e+03  1.50694614e+00 -2.26591010e+00\n",
            "  1.71225005e+01  7.75707489e+00  1.14096304e+01 -4.94317464e-01\n",
            "  5.09733973e+03 -4.18060069e+03  3.08498193e+00 -6.52806435e-01\n",
            "  4.82553246e+00  8.54783972e+00  1.65149212e+00  2.41963538e-02\n",
            "  4.26577401e+02  9.61019536e-01 -8.73454616e+00 -1.27077371e+00\n",
            " -4.20623200e+00 -1.54957061e+00  1.32787985e-02 -1.07987074e-03\n",
            "  8.24041524e-03  9.44890375e-03 -1.61138318e-02 -2.32082362e-04\n",
            "  4.39271951e-05  4.16403752e-02 -1.72598069e-02  4.58428288e-03\n",
            "  1.73303993e-02 -2.43771517e-04 -1.24829976e-02  5.93961059e-02\n",
            " -1.80609461e-02  2.60987225e-04 -2.34108518e-03  2.10053620e-02\n",
            " -6.39216867e-04 -6.17388117e-03  7.47079894e-05  5.34523399e-07\n",
            "  2.58334274e-07 -5.33039981e-08  4.04747237e-03 -8.78461642e-02\n",
            " -5.54213332e-03 -6.28210647e-04  1.80376068e-03 -1.25420028e-06\n",
            "  3.95188305e-06 -4.16617837e-06  1.08115712e-05  3.54441286e-06\n",
            "  8.82377152e-09  5.06179275e-10 -8.23686933e-05  1.00524440e-03\n",
            " -1.10410359e-04  1.40725515e-05 -1.67024204e-05 -3.77507440e-08\n",
            " -2.60927750e-07  1.58566528e-07 -6.21810727e-07  5.29858027e-09\n",
            "  7.26617901e-10  1.49624213e+00  7.49657420e+01  1.97225345e+00\n",
            " -7.14499842e+00  1.37794296e+00 -2.81755671e-03 -4.17250716e-03\n",
            "  9.90487350e-03  1.90063258e-03 -1.61700061e-02  1.03971440e-04\n",
            " -1.72704309e+02 -1.26991425e+01  1.06014709e+00  4.21175335e+00\n",
            "  1.36208085e-02  1.93440909e-02  1.57243844e-02 -1.97103075e-01\n",
            "  2.28647225e-02 -5.84099371e-04  2.55524725e+00  6.77606154e+00\n",
            " -4.57518849e+00  1.69183867e-03 -2.53991244e-03 -7.50784168e-04\n",
            "  2.46094005e-03  7.31476073e-03 -2.59738848e-04 -3.54259903e-01\n",
            "  6.24936601e-01 -3.06542286e-03  4.96614915e-03 -2.19205133e-03\n",
            "  4.99880992e-03  6.51858179e-03 -1.26670977e-04  8.60530637e-01\n",
            " -6.30010248e-04 -2.87534541e-03  3.92532405e-05 -3.36094459e-03\n",
            " -6.10288965e-04 -1.12740549e-05  1.00174631e-06  8.93073610e-06\n",
            " -3.25753075e-06  5.27748004e-06  5.18147797e-06  8.30102060e-08\n",
            " -2.58988947e-05 -2.13721624e-05  3.36137719e-05 -2.49087801e-07\n",
            "  2.71781635e-07 -1.08346306e-05 -7.66253499e-06 -7.09653152e-06\n",
            " -8.43911756e-08  1.89188804e-06  3.92243628e-05 -1.48898641e-06\n",
            " -5.36963855e-06  4.03695369e-08  3.45670056e-10  7.08034113e-13\n",
            " -2.50597188e-07  8.76807429e-07  7.34253378e-07 -5.40165381e-07\n",
            "  2.76031385e-07 -2.89085668e-10 -2.34748879e-10 -5.71640825e-10\n",
            " -9.30490056e-10  5.63082153e-10 -4.45754577e-12  4.50124262e-02\n",
            " -1.34024335e+01 -3.19448683e-01  1.84082621e-01  6.25056965e-02\n",
            "  7.83310879e-05  1.96745950e-04 -5.32244581e-04 -2.51868116e-04\n",
            "  2.87696680e-04 -3.91503071e-07 -5.42561890e+00  5.80018255e+00\n",
            " -2.57589884e+00  1.20071180e+00  2.38097311e-03  1.23572343e-03\n",
            " -1.09866952e-02 -6.55611843e-03  6.70852902e-03  2.15936854e-04\n",
            " -6.34295588e-02  1.08716850e-01 -3.02480369e-02  2.36149121e-04\n",
            "  4.24556313e-04 -5.56561428e-04  4.32320700e-05 -5.23871747e-05\n",
            " -9.16539283e-07  3.81484066e-02 -3.46376206e-02  9.40693284e-05\n",
            "  3.65165838e-05 -1.27804675e-05 -1.57065318e-04  3.01314796e-05\n",
            "  3.49240109e-07  1.67326331e-03 -2.94517935e-05 -1.79429225e-04\n",
            "  2.90064036e-05  4.25554628e-04  2.87125948e-06  4.19326146e-07\n",
            " -9.17757428e-08  9.23858591e-09 -5.04377657e-08 -9.79332484e-07\n",
            "  5.20894719e-08 -2.31696722e-10  4.93400897e-07  3.83773702e-07\n",
            " -3.70550703e-07 -9.03745354e-08  3.39355168e-09 -1.25979868e-07\n",
            "  3.02075400e-07 -1.14958293e-07 -2.34508066e-09 -7.45887586e-08\n",
            " -1.78400842e-06  9.81143362e-09  1.81309115e-07 -3.51835563e-10\n",
            " -1.41937556e-11  3.63642885e+02 -2.65650099e+04 -1.09227552e+03\n",
            "  9.64337719e+03  5.36444045e+02  1.41884316e+01 -9.51345191e+01\n",
            " -1.04694451e+01 -1.92885612e+01  4.09553668e+01 -3.12946557e-01\n",
            " -6.36172184e+04  2.79752013e+04 -3.24895094e+04  1.26860072e+04\n",
            "  9.72108855e+01 -1.77165767e+02 -3.01964376e+01 -5.81447806e+00\n",
            " -2.38949485e+01  8.39023214e+00 -1.89022813e+03 -4.90060450e+02\n",
            "  2.63458263e+03  8.42513612e+00  4.56967962e+00 -3.64255881e+01\n",
            "  9.28121893e+00  8.50774477e-01  2.46257625e-01 -1.46534757e+04\n",
            "  8.43088120e+02 -8.18614427e+00  2.49617017e+01 -2.22188759e+00\n",
            " -2.89495595e+01  1.68705020e+01  2.70740015e-01 -1.23848373e+03\n",
            " -3.22096469e+00  3.12996762e+01  1.93330566e+00  3.42484797e+00\n",
            " -6.27446990e+00  1.02923392e-01  2.46570195e-03 -1.24043699e-02\n",
            "  9.55517017e-03  5.49870755e-03 -1.65410422e-02  2.75210980e-04\n",
            " -2.94597215e-02  4.33415599e-02 -1.82806635e-02 -3.59801355e-02\n",
            " -3.23812221e-04  4.34156692e-02  3.74470890e-02  6.91646558e-03\n",
            " -4.62333638e-04 -7.91360077e-03 -2.50930711e-02  3.07726844e-03\n",
            " -1.50810321e-02  2.77797429e-04  2.11504663e-06 -5.53002558e+05\n",
            " -1.13665048e+05 -2.16985262e+04  6.59164773e+03  9.27705151e+01\n",
            "  8.17466434e+02 -4.98857156e+01  1.13793338e+01  5.55853774e+01\n",
            " -2.34895459e+01 -2.72599593e+04  3.80967609e+04 -2.05005664e+04\n",
            "  6.71746446e+01 -2.25447019e+02  8.85219922e+01 -1.54172042e+01\n",
            " -4.15667559e+00  3.09655966e+00 -3.59429886e+04 -3.34592608e+03\n",
            "  1.77933594e+01  9.54303335e+01 -3.04983729e+00  2.59856840e+01\n",
            " -3.33255427e+00  6.49311969e+00 -7.31577823e+03  1.02592636e+01\n",
            " -7.16530449e+01  2.01509244e+01 -1.20234249e+02  2.40009556e+01\n",
            " -2.20023121e+00 -7.55551929e-03  2.76295584e-01 -3.27180252e-02\n",
            "  2.13698251e-01 -2.47841263e-02 -2.19350353e-03  2.48219102e-02\n",
            "  3.08111873e-01  1.08258596e-01 -1.90825970e-01  1.32180266e-03\n",
            "  1.72228073e-01 -7.20814060e-03  2.06679195e-02 -1.09329835e-02\n",
            "  1.52038340e-01 -9.79125865e-03 -8.14030928e-04 -3.81926866e-02\n",
            " -2.51737859e-03 -8.75073725e-05  1.63536747e+04 -7.00324577e+03\n",
            " -2.13166346e+03  4.23347733e+00  1.17820533e+01 -1.13864068e+01\n",
            " -8.41497380e+00 -4.47388880e+00 -8.16963890e-02 -1.90223665e+03\n",
            "  3.41336258e+03  1.42292310e+01 -6.38191104e+00 -1.16188237e+01\n",
            "  1.57369964e+01 -8.15414024e+00  3.14484973e-02  1.21382789e+03\n",
            " -5.13288882e+00  3.73665109e+00  2.08294775e+00  1.91904711e+00\n",
            "  1.20121375e+00 -3.21066245e-02 -5.83250128e-03 -1.83146890e-02\n",
            "  5.00336863e-03 -3.37619271e-02  1.02553589e-02  1.93480671e-04\n",
            " -2.09357612e-02  2.64114923e-03  1.68027911e-03  3.28723001e-02\n",
            " -2.24124851e-04 -1.50094066e-02  9.85770834e-03 -2.07020449e-03\n",
            "  1.50606759e-04 -1.19236497e-02 -6.70701617e-03  1.38250254e-04\n",
            " -8.85460786e-03  1.28785679e-04  1.91359414e-06  1.94796271e+03\n",
            " -3.39979691e+02  2.74783071e+00  3.64675789e+00 -9.14552922e+00\n",
            " -6.91740879e+00 -2.41843046e+00 -9.45812714e-02  7.98194760e+02\n",
            "  1.45726803e+00 -2.48131354e+00 -3.87443024e+00  2.48880168e+00\n",
            "  8.87879600e-01 -1.00157815e-01 -4.22828114e-03  1.79672979e-02\n",
            "  5.89011377e-03  3.85160368e-03  7.53046795e-03 -2.71922628e-05\n",
            " -2.72751641e-03 -9.05741228e-03 -2.05097518e-02  3.86867825e-03\n",
            " -2.20529329e-04 -1.08002450e-02  2.54722649e-02 -2.00944263e-02\n",
            "  4.33596561e-04 -2.60062808e-03 -1.74066874e-02  1.34807969e-03\n",
            "  1.27951546e-02 -1.77285828e-04  2.56826820e-06  6.42056874e+01\n",
            " -1.62295123e-01 -2.08109371e-01 -1.45431823e+00 -8.70771715e-01\n",
            " -6.72958286e-01 -4.90586318e-02  1.85715151e-03  1.84221989e-03\n",
            "  9.65852438e-04 -4.07662506e-03 -1.11535957e-03 -1.69706850e-05\n",
            "  3.83777602e-03 -6.63895645e-03 -1.35834055e-02  6.51719847e-03\n",
            " -3.29108471e-04 -6.03266061e-03  8.30569278e-03 -3.40567039e-03\n",
            "  1.18846783e-04 -9.59124240e-04  2.05513039e-02 -1.39419760e-03\n",
            " -3.83480225e-04  5.38021239e-05  6.52092572e-07 -1.31743314e-06\n",
            "  1.23434725e-05  4.36516301e-06 -2.60911858e-05  7.69035053e-06\n",
            " -1.33789796e-07 -3.58004862e-05 -2.29867679e-05 -1.91644582e-05\n",
            "  1.32243248e-05 -5.71758746e-08 -1.53797072e-05 -1.55629615e-05\n",
            " -3.93204263e-06 -1.91251239e-07 -1.58773026e-06  6.77011005e-05\n",
            "  1.23458348e-06 -5.49458095e-06 -4.36398662e-08  5.68033614e-10\n",
            "  2.14451114e-05 -1.41190693e-05  7.82468639e-07 -2.10326763e-05\n",
            "  1.09871917e-06  2.10345057e-05 -1.50379216e-04  8.32866987e-06\n",
            "  3.17109975e-07  1.43212420e-06  3.85900422e-06  3.81454123e-06\n",
            " -1.20212653e-05  7.76996698e-08  2.32905819e-09  4.63033669e-04\n",
            " -1.96772435e-05 -2.05436101e-05 -1.01327404e-08 -4.71916442e-06\n",
            " -1.23999523e-05  1.25326827e-06  1.53775052e-05  1.64797670e-07\n",
            " -4.32173840e-09  3.39207328e-07 -1.37603885e-05  9.24647677e-08\n",
            " -1.88937555e-05  1.60802789e-06 -9.82857881e-09 -4.09548402e-07\n",
            " -6.54889366e-08 -3.16914060e-09 -1.05005528e-11]\n",
            "\n",
            "**********Model: Ridge**********\n",
            "Equation:\n",
            "Intercept: [14057568.0720905]\n",
            "Coafficients: [[ 5.99149704e+03  4.69811300e+02 -3.22071677e+03  9.68652599e+02\n",
            "  -1.16308770e+03 -2.67019747e+03 -6.41526440e+02  1.22551631e+03\n",
            "   8.06478773e+02  3.98234064e+03  1.28923035e+03  1.16186953e+03\n",
            "  -4.19292263e+02  7.66258287e+02 -7.37000526e+02 -3.55048796e+02\n",
            "  -3.77555203e+02  1.63967300e+03  9.81641882e+00 -6.92125716e+02\n",
            "  -6.28672492e+02 -1.03861754e+03  5.00050485e+02  5.59758741e+02\n",
            "   1.80046896e+03 -2.21420916e+02  2.57286025e+03 -4.93313738e+03\n",
            "  -5.70120643e+03 -2.01364772e+00  1.29209852e+02 -5.85444411e+03\n",
            "  -7.05513949e+01 -5.95971361e+02 -4.40215286e+02  1.47707381e+02\n",
            "   2.62522039e+02 -7.50931910e+02 -1.46440981e+03 -5.16198854e+03\n",
            "  -6.35402987e+03 -5.19355507e+02  1.48732508e+04  1.15064563e+01\n",
            "  -1.95970537e+02  1.47309067e+02  1.55287198e+03 -8.75677357e+02\n",
            "   1.92509053e+02  2.94845281e+02 -2.14978215e+03  5.57549806e+02\n",
            "   1.40585099e+02  2.50364288e+01  3.66234601e+01 -3.52321612e+01\n",
            "  -4.72501128e+02  3.11699051e-03  8.07455754e+01 -1.45156649e+02\n",
            "   4.32803234e+01 -2.86514393e+01  3.81373787e+01 -1.47817044e+02\n",
            "  -1.47143925e+02 -8.25079206e-01  1.34287368e-01 -4.56857266e-01\n",
            "  -2.46084683e-03 -2.17590047e+02  1.25738165e+02 -1.17511714e+03\n",
            "  -3.35268135e+02 -1.93817834e+03 -1.09151748e+02  1.54929395e+03\n",
            "  -9.26355615e+03  3.24266279e+02  5.56951030e+03 -8.83740362e+01\n",
            "   1.09065950e+03 -3.51314114e+02 -2.25134852e+02 -5.47447560e+02\n",
            "  -8.05227227e+02  5.73516800e+02 -1.32571318e+03  3.12516240e+02\n",
            "  -1.51156634e+03  1.59710745e+03 -1.18497170e+02 -4.02365713e+02\n",
            "  -3.02123171e+02 -2.67546395e+02 -2.39556516e+02  1.14354421e+03\n",
            "   1.01346531e+03 -1.12660425e+03 -5.47461000e+01 -1.61052175e+03\n",
            "  -7.15500669e+02  1.77423567e+02 -1.04850949e+03  3.99640335e+02\n",
            "  -1.14583009e+03 -2.21999413e+02 -3.37081122e+00 -6.92521883e+02\n",
            "  -1.10103469e+03 -9.05868135e+02  3.54476610e+03 -4.35949594e+02\n",
            "   9.66476936e+02 -7.49309753e+01 -3.60439126e+02 -2.96484140e+02\n",
            "  -1.26651152e+01 -3.30756512e+01  3.25129449e+01  4.73249225e+02\n",
            "   6.13107909e+01 -1.08380364e+01 -2.69724652e+01  3.19928229e+01\n",
            "   4.72564580e+02 -2.10946785e+01  1.46939003e+01 -4.59847633e+00\n",
            "   6.28902610e-01 -4.57819249e+00 -4.40331196e+00  8.89938831e-02\n",
            "  -3.37857294e+00  7.00354369e-01 -4.06771135e-03  2.58399702e+02\n",
            "  -1.82880736e+03  1.64950195e+02  1.36264684e-01 -1.56249311e+03\n",
            "   1.09966649e+03 -2.19835384e+03 -5.77841681e+02 -2.31760068e+03\n",
            "  -1.69771442e+02 -1.60271816e+02 -1.70467817e+00 -7.24612037e-01\n",
            "   1.35289206e+01  2.77049273e-01 -7.54498144e+02 -2.38389040e+02\n",
            "   1.52506035e+00  3.28356432e+01 -3.87420587e+02  3.40910201e+02\n",
            "  -5.35735147e+01  9.44088327e+02  2.93643162e+02  2.81991356e+02\n",
            "   8.03941454e-01 -8.84041489e+00 -5.34017690e+01  1.30109957e+00\n",
            "  -8.85631035e+01  1.59809295e+02  5.00534725e+02  1.47611131e+02\n",
            "   7.89049138e+01  1.33692885e+02 -1.60081210e+02 -1.89779583e+02\n",
            "   2.77787588e+02 -8.30122015e+02 -1.49344967e+02  1.15574967e+02\n",
            "  -8.83175577e+02 -1.86759976e-05  5.00458141e-01  8.84641269e+00\n",
            "  -1.32580325e+00 -8.05319753e-01  3.84746273e-01 -1.59809120e+02\n",
            "  -1.59810558e+02 -4.75197677e-03 -6.89483525e-04 -6.26132937e-04\n",
            "   2.99669833e-05 -1.18463717e+03  1.89208806e+02 -1.69445029e+02\n",
            "  -1.01472326e+02  1.30359541e+03 -5.11316895e+02 -5.51785633e+02\n",
            "   4.76088033e+01  3.16453663e+01 -2.85593599e+01 -5.94097496e-01\n",
            "  -2.05669104e+03  7.96443915e+02  6.69953967e+02  4.77694953e+02\n",
            "   1.28744674e+02 -1.97033707e+02 -1.14633562e+02 -5.64013638e+01\n",
            "  -2.95073246e+02  3.89449409e+00 -4.30190102e+02  1.65736613e+02\n",
            "   2.00867352e+02 -5.38067619e+01 -5.87210542e+01 -4.28778279e+00\n",
            "   6.14075717e+00 -1.92318069e+01  1.99338829e-01  1.32860329e+03\n",
            "  -3.59993859e+01 -1.39757372e+02 -1.69192521e+02 -2.65304138e+01\n",
            "   1.47954108e+01  4.00264924e+01  1.28057668e-01  1.91713717e+03\n",
            "   1.57028014e+02  1.78421716e+02 -1.21253521e+00  7.46979910e-01\n",
            "  -1.12244249e+01 -2.40735550e-02  2.78365050e+02  8.90612197e+01\n",
            "   8.28401519e+02  1.49322020e+02 -1.15647549e+02  8.83173467e+02\n",
            "  -1.89232289e+02  8.29496243e+02  1.49568001e+02 -1.15664466e+02\n",
            "   8.83174448e+02 -1.27616109e+00  7.95550560e-01  2.79121927e+00\n",
            "   5.73809688e-05  1.55937072e+00  5.36002540e-02 -6.82733753e-04\n",
            "   9.75373089e-02 -6.91151148e-04 -7.73762216e-06 -7.65189655e+02\n",
            "   3.58300572e+02  5.07434178e-01  3.49473039e+02 -5.30163442e+02\n",
            "  -8.09808380e+02  1.02152756e+03  8.48028826e+02 -3.91387054e+02\n",
            "  -4.23459834e+02 -2.41209614e+01  2.50478086e+01  5.42997862e+01\n",
            "   5.01427291e-01 -7.64637854e+00 -5.43210101e+02 -8.68165853e+01\n",
            "   1.24981298e+02  6.90177845e+02  1.25695939e+02 -1.81733350e+02\n",
            "   3.03673043e+02 -2.82921592e+02 -3.43650291e+02  2.58150973e+02\n",
            "   8.61603084e+00  2.97218101e+01  1.25461295e-05 -1.76170421e-01\n",
            "  -4.90630125e+00  1.12116739e+00 -8.60851132e-03 -1.67567981e+00\n",
            "   5.43209284e+02  5.43206638e+02  3.54697092e-02  5.77380804e-04\n",
            "   1.24886092e-03  1.16336010e-05  2.25147864e+02  3.88287088e+02\n",
            "   4.87648486e+02 -5.83697588e+02  8.56617265e+02  1.15756968e+02\n",
            "   1.86131880e+02 -9.25228918e+01 -3.95694522e+01  4.20855304e+01\n",
            "  -1.40937736e+00 -5.37659313e+02 -3.85882707e+01  1.21390337e+02\n",
            "   9.95993318e+02 -3.74914040e+02 -4.61500187e+01 -2.45879015e+02\n",
            "   1.48121938e+02  3.90524049e+02 -4.46061035e+00 -1.28022679e+02\n",
            "  -9.49133247e+02 -8.76446039e+02 -7.02393820e+02 -6.93387138e+02\n",
            "   2.06288825e+01  5.47864536e+00 -2.13031860e+00 -8.35534064e-01\n",
            "  -2.91586097e+02 -7.76088251e+02 -9.77599591e+01 -4.45730177e+01\n",
            "   6.84958099e+01 -4.26309018e+00 -1.07972254e+02 -1.20639418e-01\n",
            "   2.88534829e+02  2.02280651e+02  1.20856643e+02  9.56666424e+00\n",
            "  -1.13611565e+01 -1.09661185e+01  5.62706293e-01 -2.96079588e+02\n",
            "  -5.44331461e+00  3.47247546e+02 -2.58305917e+02 -8.54678006e+00\n",
            "  -2.97232244e+01  2.90769501e+02  3.49297434e+02 -2.58065494e+02\n",
            "  -8.65427336e+00 -2.97209838e+01  3.07816122e+00  1.48956783e-01\n",
            "  -7.26674738e+00 -8.06258682e-03  6.86343928e-01 -3.70896689e-01\n",
            "   3.41013716e-03 -6.85133820e-02  1.82910904e-03 -1.50513340e-05\n",
            "  -3.73678419e+01 -9.98933371e+02  1.37605643e+02 -4.60183799e+02\n",
            "  -1.93754972e+02 -2.31937770e+02  1.13049647e+02 -1.16657067e+03\n",
            "   5.47048844e+02  2.92581063e+02 -7.70177555e+02  3.03997751e+02\n",
            "  -6.70285391e+01 -3.32746694e+02 -2.05591477e+01 -5.97308050e+02\n",
            "  -1.83298483e+02  5.87655799e+02 -3.77356479e+02  1.41706898e+03\n",
            "   1.16928475e+03  6.21267273e+02  4.44461830e+02  1.60425421e+02\n",
            "  -2.76658149e+01  4.33092982e+01  1.55855781e+02 -2.61053341e+02\n",
            "   2.71634846e+02  5.58147358e+02  5.94788408e+02 -1.55571670e+02\n",
            "   6.13757646e+02 -3.95500423e+02  3.62981378e+01  1.62946147e+02\n",
            "  -4.21712618e+02 -9.58619916e+02 -2.43143120e+02 -6.30637743e+02\n",
            "  -2.66334284e+02  3.32984023e+01  6.72190932e+01  1.24923907e+02\n",
            "   2.21840707e+02 -3.58235922e+02 -8.95374041e+01  1.39576665e+02\n",
            "  -3.70316581e+02  1.11344675e+02 -1.42965390e+01 -1.74772742e+01\n",
            "  -6.35980875e+01 -2.00554216e+02 -1.76961266e+02  2.02244685e+02\n",
            "  -4.53332667e+01  5.07336310e+02  2.21499693e+02  2.49769997e+02\n",
            "   3.29015876e+02 -1.06718312e+02  3.85932829e+01  3.85336623e+02\n",
            "   1.26530354e+02 -4.12151884e+02 -1.99920366e+02  2.79184353e+02\n",
            "  -6.26832200e+02  1.55490363e+02  1.22142514e+03  8.01169870e+02\n",
            "  -4.22720621e+02  6.81856944e+02 -3.01080411e+02  2.03571521e+01\n",
            "  -3.04756631e+02 -1.73260900e+02  3.62037762e+02 -2.52467587e+02\n",
            "   6.37138819e+02  1.82202314e+01  6.22924497e+02 -1.42338813e+02\n",
            "  -5.57603335e+02 -1.41180288e+02 -1.57310907e+02  1.08819399e+02\n",
            "  -9.67573418e+02  3.84851473e+02  1.96733262e+02 -1.02052582e-11\n",
            "   1.66524298e-05  5.40775102e-05 -4.13035104e-06 -1.49239453e-05\n",
            "  -3.65839188e-06  3.32746694e+02  3.32746694e+02 -1.54232454e-06\n",
            "  -2.52425481e-08  2.18391537e-09 -1.20714577e-11 -2.57063320e+00\n",
            "  -2.14924887e+01 -3.63181342e-01 -5.62993276e-01  1.03421189e+00\n",
            "   2.05591976e+01  2.05617480e+01 -4.29582342e-02  3.66887779e-03\n",
            "  -9.54984645e-04 -4.16155355e-05 -1.32425192e+03  1.83246442e+01\n",
            "   1.02556285e+00 -2.59000112e+00  5.97321119e+02  5.97254028e+02\n",
            "   7.17012282e-01  7.34105609e-03  1.65107029e-02 -4.71864249e-05\n",
            "  -1.96712079e-01  1.01781957e-01 -2.38007114e-01  1.83299443e+02\n",
            "   1.83301225e+02 -2.06430004e-02 -1.87609110e-03 -1.27326194e-03\n",
            "   2.87933700e-05 -4.09138615e-01 -1.12067569e+00 -5.87648937e+02\n",
            "  -5.87653193e+02  1.87030649e-02  9.84828791e-05 -8.28075548e-04\n",
            "   5.20059019e-06  1.15993567e+00  3.77353882e+02  3.77357806e+02\n",
            "  -2.59730219e-02  3.39312629e-04  1.07814068e-03  2.98774291e-05\n",
            "  -4.18135609e+02 -5.88486986e+02 -6.21267017e+02 -4.44461827e+02\n",
            "  -1.60425423e+02  2.76658149e+01 -1.70351377e+02 -6.21267357e+02\n",
            "  -4.44461833e+02 -1.60425423e+02  2.76658149e+01  1.81633317e-04\n",
            "  -2.13874967e-04  2.28909458e-04  1.13258158e-06  1.31516118e-04\n",
            "   6.40889368e-06  9.01952695e-08  1.12109542e-06  3.74332183e-10\n",
            "   5.58218412e-11  4.87680914e+02  9.58337044e+01 -3.84034989e+02\n",
            "   2.66624540e+02 -1.57298272e+02 -2.47018002e+01 -2.49217240e+02\n",
            "  -7.17698030e+01 -1.21725680e+01  9.28427191e+01  2.41135866e-01\n",
            "  -1.01097133e+03  1.13358444e+03  2.95243164e+02  5.61609633e+00\n",
            "  -1.54198269e+02 -2.60308070e+02  5.46931090e+02 -3.01032375e+02\n",
            "  -4.80508140e+02  2.19288981e+01 -5.53884406e+02  4.12015059e+02\n",
            "  -3.75519763e+02  2.91895225e+02  2.75863116e+02 -7.12372243e+00\n",
            "   1.52906989e+01 -1.71382861e+01 -6.88295302e-02 -1.63471110e+03\n",
            "  -1.21972635e+03 -2.30257636e+02 -3.23799413e+02  6.83659602e+01\n",
            "  -7.00285143e+01 -7.09005785e+01  3.27654261e-01 -1.31384333e+02\n",
            "  -6.11327168e+02 -5.14005683e+02  3.34074183e+01  4.82238673e+00\n",
            "   1.08355934e+01 -3.22219791e-01 -7.32373492e+02 -7.14676731e+02\n",
            "  -6.14239475e+02  3.95519463e+02 -3.64325693e+01 -1.62945002e+02\n",
            "   1.80356060e+01 -6.15180632e+02  3.95431539e+02 -3.60992705e+01\n",
            "  -1.62947290e+02  4.65502223e+00 -4.64018725e-01 -3.15248771e+00\n",
            "   5.31119557e-02  5.25241020e-01 -1.57894613e-01 -3.99091699e-03\n",
            "   1.52201571e-01 -1.08452528e-03 -4.09283411e-06  1.60838781e+02\n",
            "   5.03713179e+02  4.89159769e+02 -1.15061573e+03 -5.93474764e+02\n",
            "   2.78105518e+02 -9.55516839e+02  1.05285524e+03 -1.07726155e+03\n",
            "   1.08093973e+03 -5.57947447e+02 -3.27183753e+02  1.47694712e+03\n",
            "   1.00797431e+03  1.23530873e+02 -3.28664437e+02  2.40337891e+02\n",
            "   2.55483534e+02 -1.06130956e+01 -5.95493937e+02 -1.92368096e+02\n",
            "   2.15658696e+01  2.98434805e+02 -2.47892435e+02  1.16141934e+02\n",
            "   3.66174794e+02 -1.05187159e+01  1.62124647e+02  6.18944991e+02\n",
            "   3.86977698e+02 -2.10849642e+02 -2.09452032e+02  1.23950247e+02\n",
            "   1.00662687e+01  7.26464341e+02  1.15363982e+03 -6.54620422e+01\n",
            "  -1.25146169e+02 -2.21607449e+02  3.58217930e+02  4.27158337e+02\n",
            "  -6.34799058e+01 -1.24755633e+02 -2.22364166e+02  3.58259636e+02\n",
            "   2.56350567e+00  5.71154338e-01 -4.60337002e-02 -1.34186200e+00\n",
            "  -3.71941499e-01  6.77882240e-02 -3.26207064e-02 -1.94308266e-02\n",
            "  -1.54164873e-02 -7.92418163e-05  1.06382807e+03 -1.66013218e+03\n",
            "   2.70030314e+02  9.53066379e+01  1.01563406e+02  2.86479912e+00\n",
            "   1.16988992e+00 -5.58239308e+00 -5.69116177e-01 -1.87508754e+03\n",
            "   4.34363880e+02 -1.07511252e+02 -1.33709430e+02 -1.86717797e+00\n",
            "   9.54341819e-01 -1.65901473e+01  4.99582177e-01  1.79405412e+03\n",
            "   3.72947321e+02  3.70438800e+02 -3.74902834e+00  3.38713827e+00\n",
            "  -9.48059636e+00 -6.24757942e-01  8.23498383e+01  2.90385648e+02\n",
            "   1.74581011e+01  6.35265670e+01  2.00630398e+02  1.76961662e+02\n",
            "   2.08009670e+02  1.73468466e+01  6.36688788e+01  2.00693259e+02\n",
            "   1.76959697e+02 -6.08178831e-01  1.32843913e-01  7.13855273e-01\n",
            "   3.05223380e-02 -8.59285944e-01  1.81628308e-01  1.08491113e-03\n",
            "  -5.47766032e-02  6.56921962e-04 -2.36684464e-05 -9.39404539e+02\n",
            "  -1.29490470e+03 -2.01281793e+02 -1.98719716e+02  9.51524299e+00\n",
            "  -3.62186135e+01 -1.45403373e+00 -4.03140133e-01 -7.35323662e+02\n",
            "   6.81444265e+01  7.24265794e+01 -9.02721812e-01 -2.57864455e+01\n",
            "  -1.37521784e+01  7.28074212e-01 -2.75310015e+02 -2.65084282e+02\n",
            "  -2.50185678e+02 -3.28676055e+02  1.06580858e+02 -3.86011523e+01\n",
            "   1.07099653e+01 -2.49518874e+02 -3.28892532e+02  1.06684312e+02\n",
            "  -3.85954844e+01 -2.72617423e-01 -1.03454937e+00  3.04583293e-01\n",
            "   4.53290331e-03  1.51940397e+00 -4.20454479e-02  1.49207243e-03\n",
            "   7.38992787e-02 -2.26977421e-03  4.13549899e-05 -8.01963751e+01\n",
            "  -3.90812943e+02 -3.82676118e+02  4.86032584e+00 -1.99224132e+00\n",
            "   6.40733062e+00 -9.46484924e-01 -2.39566544e+02  5.95824745e+01\n",
            "   2.01586257e+02 -2.79094260e+02  6.26824062e+02 -1.55488514e+02\n",
            "   2.99068401e+02  2.01614618e+02 -2.79252081e+02  6.26680086e+02\n",
            "  -1.55491445e+02 -1.83282311e+00 -9.80443556e-03 -5.53381676e-01\n",
            "   4.73568584e-02  2.40589120e-01 -1.39464818e-02 -2.99505454e-03\n",
            "   3.45916486e-02 -2.85218018e-03 -3.31279423e-05 -1.74866081e+01\n",
            "  -1.24398868e+02  1.30138678e+02  8.83206307e+01 -2.91729530e+00\n",
            "   4.66713876e+01 -3.11836969e+02  1.08144607e+01  4.96460533e+02\n",
            "  -5.44473792e+01 -5.23438891e+02 -1.82266188e+01 -6.22924124e+02\n",
            "   1.42340790e+02  5.57602960e+02  1.41177165e+02  1.57311182e+02\n",
            "  -1.08819405e+02  9.67573269e+02 -3.84851469e+02 -1.96733262e+02\n",
            "  -2.04924476e+02 -1.19323839e+02  4.08139798e+02 -5.15298676e+01\n",
            "  -5.70110276e+02 -1.82272966e+01 -6.22926667e+02  1.42340785e+02\n",
            "   5.57603302e+02  1.41177029e+02  1.57310885e+02 -1.08819395e+02\n",
            "   9.67573442e+02 -3.84851471e+02 -1.96733262e+02  8.74059814e-03\n",
            "  -7.52840505e-02  2.19760338e-03 -1.61867888e-04  1.38470675e-01\n",
            "   8.02508477e-04  3.90998998e-04  1.37517649e-03 -3.42390802e-04\n",
            "   2.14605970e-06 -6.81224605e-02  1.75164148e-03 -4.01202546e-04\n",
            "  -4.26832902e-06 -1.51661857e-05 -7.15675799e-08  9.16606929e-06\n",
            "   3.01012424e-07 -2.18115198e-08 -9.64471194e-11]]\n"
          ]
        }
      ]
    },
    {
      "cell_type": "code",
      "source": [
        "df_train = pd.DataFrame(train_metrics)\n",
        "df_train[\"model\"] = models.keys()\n",
        "\n",
        "df_val = pd.DataFrame(val_metrics)\n",
        "df_val[\"model\"] = models.keys()"
      ],
      "metadata": {
        "id": "4dzIAewBCa64"
      },
      "execution_count": 233,
      "outputs": []
    },
    {
      "cell_type": "code",
      "source": [
        "plt.figure(figsize=(10, 10))\n",
        "plt.subplot(2, 2, 1)\n",
        "sns.barplot(data=df_train, y=\"MAE\", x=\"model\")\n",
        "plt.title(\"MAE\")\n",
        "plt.subplot(2, 2, 2)\n",
        "sns.barplot(data=df_train, y=\"RMSE\", x=\"model\")\n",
        "plt.title(\"RMSE\")\n",
        "plt.subplot(2, 2, 3)\n",
        "sns.barplot(data=df_train, y=\"R2\", x=\"model\")\n",
        "plt.title(\"$R^2$\")\n",
        "plt.show()"
      ],
      "metadata": {
        "id": "0faHrN8-rv9V",
        "colab": {
          "base_uri": "https://localhost:8080/",
          "height": 621
        },
        "outputId": "bf966e80-5eff-496c-bb9f-368805ee81dd"
      },
      "execution_count": 234,
      "outputs": [
        {
          "output_type": "display_data",
          "data": {
            "text/plain": [
              "<Figure size 720x720 with 3 Axes>"
            ],
            "image/png": "[encoded data removed]"
          },
          "metadata": {
            "needs_background": "light"
          }
        }
      ]
    },
    {
      "cell_type": "code",
      "source": [
        "plt.figure(figsize=(10, 10))\n",
        "plt.subplot(2, 2, 1)\n",
        "sns.barplot(data=df_val, y=\"MAE\", x=\"model\")\n",
        "plt.title(\"MAE\")\n",
        "plt.subplot(2, 2, 2)\n",
        "sns.barplot(data=df_val, y=\"RMSE\", x=\"model\")\n",
        "plt.title(\"RMSE\")\n",
        "plt.subplot(2, 2, 3)\n",
        "sns.barplot(data=df_val, y=\"R2\", x=\"model\")\n",
        "plt.title(\"$R^2$\")\n",
        "plt.show()"
      ],
      "metadata": {
        "id": "FsZWycqeCHAB",
        "outputId": "96538c2b-3a96-465f-e2e4-36b82ab1958c",
        "colab": {
          "base_uri": "https://localhost:8080/",
          "height": 621
        }
      },
      "execution_count": 235,
      "outputs": [
        {
          "output_type": "display_data",
          "data": {
            "text/plain": [
              "<Figure size 720x720 with 3 Axes>"
            ],
            "image/png": "[encoded data removed]"
          },
          "metadata": {
            "needs_background": "light"
          }
        }
      ]
    },
    {
      "cell_type": "code",
      "source": [
        "y.describe()"
      ],
      "metadata": {
        "id": "BruPxnAaDarp",
        "outputId": "30b606fe-d880-4e06-f986-1b44f824b8b0",
        "colab": {
          "base_uri": "https://localhost:8080/",
          "height": 300
        }
      },
      "execution_count": 238,
      "outputs": [
        {
          "output_type": "execute_result",
          "data": {
            "text/plain": [
              "              price\n",
              "count  2.161300e+04\n",
              "mean   5.400881e+05\n",
              "std    3.671272e+05\n",
              "min    7.500000e+04\n",
              "25%    3.219500e+05\n",
              "50%    4.500000e+05\n",
              "75%    6.450000e+05\n",
              "max    7.700000e+06"
            ],
            "text/html": [
              "\n",
              "  <div id=\"df-e65ac52f-b537-4bdb-bb26-d1b89065f43c\">\n",
              "    <div class=\"colab-df-container\">\n",
              "      <div>\n",
              "<style scoped>\n",
              "    .dataframe tbody tr th:only-of-type {\n",
              "        vertical-align: middle;\n",
              "    }\n",
              "\n",
              "    .dataframe tbody tr th {\n",
              "        vertical-align: top;\n",
              "    }\n",
              "\n",
              "    .dataframe thead th {\n",
              "        text-align: right;\n",
              "    }\n",
              "</style>\n",
              "<table border=\"1\" class=\"dataframe\">\n",
              "  <thead>\n",
              "    <tr style=\"text-align: right;\">\n",
              "      <th></th>\n",
              "      <th>price</th>\n",
              "    </tr>\n",
              "  </thead>\n",
              "  <tbody>\n",
              "    <tr>\n",
              "      <th>count</th>\n",
              "      <td>2.161300e+04</td>\n",
              "    </tr>\n",
              "    <tr>\n",
              "      <th>mean</th>\n",
              "      <td>5.400881e+05</td>\n",
              "    </tr>\n",
              "    <tr>\n",
              "      <th>std</th>\n",
              "      <td>3.671272e+05</td>\n",
              "    </tr>\n",
              "    <tr>\n",
              "      <th>min</th>\n",
              "      <td>7.500000e+04</td>\n",
              "    </tr>\n",
              "    <tr>\n",
              "      <th>25%</th>\n",
              "      <td>3.219500e+05</td>\n",
              "    </tr>\n",
              "    <tr>\n",
              "      <th>50%</th>\n",
              "      <td>4.500000e+05</td>\n",
              "    </tr>\n",
              "    <tr>\n",
              "      <th>75%</th>\n",
              "      <td>6.450000e+05</td>\n",
              "    </tr>\n",
              "    <tr>\n",
              "      <th>max</th>\n",
              "      <td>7.700000e+06</td>\n",
              "    </tr>\n",
              "  </tbody>\n",
              "</table>\n",
              "</div>\n",
              "      <button class=\"colab-df-convert\" onclick=\"convertToInteractive('df-e65ac52f-b537-4bdb-bb26-d1b89065f43c')\"\n",
              "              title=\"Convert this dataframe to an interactive table.\"\n",
              "              style=\"display:none;\">\n",
              "        \n",
              "  <svg xmlns=\"http://www.w3.org/2000/svg\" height=\"24px\"viewBox=\"0 0 24 24\"\n",
              "       width=\"24px\">\n",
              "    <path d=\"M0 0h24v24H0V0z\" fill=\"none\"/>\n",
              "    <path d=\"M18.56 5.44l.94 2.06.94-2.06 2.06-.94-2.06-.94-.94-2.06-.94 2.06-2.06.94zm-11 1L8.5 8.5l.94-2.06 2.06-.94-2.06-.94L8.5 2.5l-.94 2.06-2.06.94zm10 10l.94 2.06.94-2.06 2.06-.94-2.06-.94-.94-2.06-.94 2.06-2.06.94z\"/><path d=\"M17.41 7.96l-1.37-1.37c-.4-.4-.92-.59-1.43-.59-.52 0-1.04.2-1.43.59L10.3 9.45l-7.72 7.72c-.78.78-.78 2.05 0 2.83L4 21.41c.39.39.9.59 1.41.59.51 0 1.02-.2 1.41-.59l7.78-7.78 2.81-2.81c.8-.78.8-2.07 0-2.86zM5.41 20L4 18.59l7.72-7.72 1.47 1.35L5.41 20z\"/>\n",
              "  </svg>\n",
              "      </button>\n",
              "      \n",
              "  <style>\n",
              "    .colab-df-container {\n",
              "      display:flex;\n",
              "      flex-wrap:wrap;\n",
              "      gap: 12px;\n",
              "    }\n",
              "\n",
              "    .colab-df-convert {\n",
              "      background-color: #E8F0FE;\n",
              "      border: none;\n",
              "      border-radius: 50%;\n",
              "      cursor: pointer;\n",
              "      display: none;\n",
              "      fill: #1967D2;\n",
              "      height: 32px;\n",
              "      padding: 0 0 0 0;\n",
              "      width: 32px;\n",
              "    }\n",
              "\n",
              "    .colab-df-convert:hover {\n",
              "      background-color: #E2EBFA;\n",
              "      box-shadow: 0px 1px 2px rgba(60, 64, 67, 0.3), 0px 1px 3px 1px rgba(60, 64, 67, 0.15);\n",
              "      fill: #174EA6;\n",
              "    }\n",
              "\n",
              "    [theme=dark] .colab-df-convert {\n",
              "      background-color: #3B4455;\n",
              "      fill: #D2E3FC;\n",
              "    }\n",
              "\n",
              "    [theme=dark] .colab-df-convert:hover {\n",
              "      background-color: #434B5C;\n",
              "      box-shadow: 0px 1px 3px 1px rgba(0, 0, 0, 0.15);\n",
              "      filter: drop-shadow(0px 1px 2px rgba(0, 0, 0, 0.3));\n",
              "      fill: #FFFFFF;\n",
              "    }\n",
              "  </style>\n",
              "\n",
              "      <script>\n",
              "        const buttonEl =\n",
              "          document.querySelector('#df-e65ac52f-b537-4bdb-bb26-d1b89065f43c button.colab-df-convert');\n",
              "        buttonEl.style.display =\n",
              "          google.colab.kernel.accessAllowed ? 'block' : 'none';\n",
              "\n",
              "        async function convertToInteractive(key) {\n",
              "          const element = document.querySelector('#df-e65ac52f-b537-4bdb-bb26-d1b89065f43c');\n",
              "          const dataTable =\n",
              "            await google.colab.kernel.invokeFunction('convertToInteractive',\n",
              "                                                     [key], {});\n",
              "          if (!dataTable) return;\n",
              "\n",
              "          const docLinkHtml = 'Like what you see? Visit the ' +\n",
              "            '<a target=\"_blank\" href=https://colab.research.google.com/notebooks/data_table.ipynb>data table notebook</a>'\n",
              "            + ' to learn more about interactive tables.';\n",
              "          element.innerHTML = '';\n",
              "          dataTable['output_type'] = 'display_data';\n",
              "          await google.colab.output.renderOutput(dataTable, element);\n",
              "          const docLink = document.createElement('div');\n",
              "          docLink.innerHTML = docLinkHtml;\n",
              "          element.appendChild(docLink);\n",
              "        }\n",
              "      </script>\n",
              "    </div>\n",
              "  </div>\n",
              "  "
            ]
          },
          "metadata": {},
          "execution_count": 238
        }
      ]
    },
    {
      "cell_type": "markdown",
      "source": [
        "#### Conclusiones:\n",
        "\n",
        "En este caso es notorio que el mejor modelo es Lasso, en particular porque tiene la capacidad de reducir a cero completamente los factores que no tienen relevancia para la predicción, mientras que en los demás pueden generar ruido.\n",
        "\n",
        "Se entrenó con 80% de train, 10% de validation y 10% de tests.\n",
        "\n",
        "Se tiene un MAE de 250,000, lo que en el caso de los valores es reducido, ya que el rango de valores es de [75,000 hasta 7,700,000].\n",
        "\n"
      ],
      "metadata": {
        "id": "g7DxVmSEC-lh"
      }
    }
  ]
}